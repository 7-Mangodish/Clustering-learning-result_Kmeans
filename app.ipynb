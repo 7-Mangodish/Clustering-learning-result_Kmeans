{
 "cells": [
  {
   "cell_type": "markdown",
   "metadata": {},
   "source": [
    "## IMPORT LIBRARIES"
   ]
  },
  {
   "cell_type": "code",
   "execution_count": 15,
   "metadata": {},
   "outputs": [],
   "source": [
    "import matplotlib.pyplot as plt\n",
    "import seaborn as sns\n",
    "import pandas as pd\n",
    "import plotly.express as px\n",
    "import numpy as np\n",
    "from sklearn.cluster import KMeans\n",
    "from Algorithm import Kmeans_Algorithm\n",
    "\n",
    "# !pip install openpy"
   ]
  },
  {
   "cell_type": "markdown",
   "metadata": {},
   "source": [
    "## EDA"
   ]
  },
  {
   "cell_type": "code",
   "execution_count": 16,
   "metadata": {},
   "outputs": [
    {
     "data": {
      "text/html": [
       "<div>\n",
       "<style scoped>\n",
       "    .dataframe tbody tr th:only-of-type {\n",
       "        vertical-align: middle;\n",
       "    }\n",
       "\n",
       "    .dataframe tbody tr th {\n",
       "        vertical-align: top;\n",
       "    }\n",
       "\n",
       "    .dataframe thead th {\n",
       "        text-align: right;\n",
       "    }\n",
       "</style>\n",
       "<table border=\"1\" class=\"dataframe\">\n",
       "  <thead>\n",
       "    <tr style=\"text-align: right;\">\n",
       "      <th></th>\n",
       "      <th>STT</th>\n",
       "      <th>Tên</th>\n",
       "      <th>Mã Sinh Viên</th>\n",
       "      <th>Ngày Sinh</th>\n",
       "      <th>Lớp</th>\n",
       "      <th>Điểm trung bình(hệ 10)</th>\n",
       "      <th>GPA</th>\n",
       "      <th>Điểm rèn luyện</th>\n",
       "    </tr>\n",
       "  </thead>\n",
       "  <tbody>\n",
       "    <tr>\n",
       "      <th>0</th>\n",
       "      <td>1</td>\n",
       "      <td>Bùi Quốc Linh</td>\n",
       "      <td>B21DCCN800</td>\n",
       "      <td>1/1/2002</td>\n",
       "      <td>D21CQCN01</td>\n",
       "      <td>9.63</td>\n",
       "      <td>3.93</td>\n",
       "      <td>97</td>\n",
       "    </tr>\n",
       "    <tr>\n",
       "      <th>1</th>\n",
       "      <td>2</td>\n",
       "      <td>Phan Đình Tuấn</td>\n",
       "      <td>B21DCCN560</td>\n",
       "      <td>3/4/2002</td>\n",
       "      <td>D21CQCN02</td>\n",
       "      <td>7.12</td>\n",
       "      <td>2.81</td>\n",
       "      <td>95</td>\n",
       "    </tr>\n",
       "    <tr>\n",
       "      <th>2</th>\n",
       "      <td>3</td>\n",
       "      <td>Trần Thanh Khang</td>\n",
       "      <td>B21DCCN510</td>\n",
       "      <td>6/18/1998</td>\n",
       "      <td>D21CQCN15</td>\n",
       "      <td>5.12</td>\n",
       "      <td>1.59</td>\n",
       "      <td>75</td>\n",
       "    </tr>\n",
       "    <tr>\n",
       "      <th>3</th>\n",
       "      <td>4</td>\n",
       "      <td>Vũ Văn Huy</td>\n",
       "      <td>B21DCCN883</td>\n",
       "      <td>11/1/2001</td>\n",
       "      <td>D21CQCN01</td>\n",
       "      <td>8.09</td>\n",
       "      <td>3.42</td>\n",
       "      <td>62</td>\n",
       "    </tr>\n",
       "    <tr>\n",
       "      <th>4</th>\n",
       "      <td>5</td>\n",
       "      <td>Nguyễn Anh Linh</td>\n",
       "      <td>B21DCCN776</td>\n",
       "      <td>8/13/1998</td>\n",
       "      <td>D21CQCN20</td>\n",
       "      <td>7.75</td>\n",
       "      <td>2.94</td>\n",
       "      <td>71</td>\n",
       "    </tr>\n",
       "    <tr>\n",
       "      <th>5</th>\n",
       "      <td>6</td>\n",
       "      <td>Nguyễn Khánh Dương</td>\n",
       "      <td>B21DCCN751</td>\n",
       "      <td>8/4/2002</td>\n",
       "      <td>D21CQCN13</td>\n",
       "      <td>4.99</td>\n",
       "      <td>1.55</td>\n",
       "      <td>61</td>\n",
       "    </tr>\n",
       "    <tr>\n",
       "      <th>6</th>\n",
       "      <td>7</td>\n",
       "      <td>Phạm Anh Bình</td>\n",
       "      <td>B21DCCN147</td>\n",
       "      <td>1/7/1998</td>\n",
       "      <td>D21CQCN19</td>\n",
       "      <td>7.61</td>\n",
       "      <td>2.94</td>\n",
       "      <td>82</td>\n",
       "    </tr>\n",
       "    <tr>\n",
       "      <th>7</th>\n",
       "      <td>8</td>\n",
       "      <td>Lê Quốc Tuấn</td>\n",
       "      <td>B21DCCN784</td>\n",
       "      <td>1/24/2000</td>\n",
       "      <td>D21CQCN07</td>\n",
       "      <td>7.33</td>\n",
       "      <td>2.92</td>\n",
       "      <td>64</td>\n",
       "    </tr>\n",
       "    <tr>\n",
       "      <th>8</th>\n",
       "      <td>9</td>\n",
       "      <td>Bùi Khánh Quang</td>\n",
       "      <td>B21DCCN947</td>\n",
       "      <td>9/6/2001</td>\n",
       "      <td>D21CQCN14</td>\n",
       "      <td>7.01</td>\n",
       "      <td>2.92</td>\n",
       "      <td>41</td>\n",
       "    </tr>\n",
       "    <tr>\n",
       "      <th>9</th>\n",
       "      <td>10</td>\n",
       "      <td>Bùi Thanh Linh</td>\n",
       "      <td>B21DCCN516</td>\n",
       "      <td>8/17/2002</td>\n",
       "      <td>D21CQCN10</td>\n",
       "      <td>7.06</td>\n",
       "      <td>3.00</td>\n",
       "      <td>63</td>\n",
       "    </tr>\n",
       "  </tbody>\n",
       "</table>\n",
       "</div>"
      ],
      "text/plain": [
       "   STT                Tên  Mã Sinh Viên  Ngày Sinh        Lớp  \\\n",
       "0    1       Bùi Quốc Linh   B21DCCN800   1/1/2002  D21CQCN01   \n",
       "1    2      Phan Đình Tuấn   B21DCCN560   3/4/2002  D21CQCN02   \n",
       "2    3    Trần Thanh Khang   B21DCCN510  6/18/1998  D21CQCN15   \n",
       "3    4          Vũ Văn Huy   B21DCCN883  11/1/2001  D21CQCN01   \n",
       "4    5     Nguyễn Anh Linh   B21DCCN776  8/13/1998  D21CQCN20   \n",
       "5    6  Nguyễn Khánh Dương   B21DCCN751   8/4/2002  D21CQCN13   \n",
       "6    7       Phạm Anh Bình   B21DCCN147   1/7/1998  D21CQCN19   \n",
       "7    8        Lê Quốc Tuấn   B21DCCN784  1/24/2000  D21CQCN07   \n",
       "8    9     Bùi Khánh Quang   B21DCCN947   9/6/2001  D21CQCN14   \n",
       "9   10      Bùi Thanh Linh   B21DCCN516  8/17/2002  D21CQCN10   \n",
       "\n",
       "   Điểm trung bình(hệ 10)   GPA  Điểm rèn luyện  \n",
       "0                    9.63  3.93              97  \n",
       "1                    7.12  2.81              95  \n",
       "2                    5.12  1.59              75  \n",
       "3                    8.09  3.42              62  \n",
       "4                    7.75  2.94              71  \n",
       "5                    4.99  1.55              61  \n",
       "6                    7.61  2.94              82  \n",
       "7                    7.33  2.92              64  \n",
       "8                    7.01  2.92              41  \n",
       "9                    7.06  3.00              63  "
      ]
     },
     "execution_count": 16,
     "metadata": {},
     "output_type": "execute_result"
    }
   ],
   "source": [
    "# dataset, _ = make_blobs(n_samples=250, cluster_std=3.0, random_state=123)\n",
    "\n",
    "data = pd.read_csv('E:\\CODE\\Hệ Thống thông minh\\BTL\\Data\\Data.csv')\n",
    "data.head(10)"
   ]
  },
  {
   "cell_type": "markdown",
   "metadata": {},
   "source": [
    "### Box plot\n",
    "_ biểu thị dữ liệu phân bố như nào, có đối xứng hay không, thể hiện qua các thông tin\n",
    "* giá trị lớn nhât, nhỏ nhất\n",
    "* median, q1, q3\n",
    "* IQR: (tứ phân vị)khoảng từ q1-q3, biểu diễn mức độ phân tán của dữ liệu trung tâm\n",
    "* các điểm bất thường: giá trị khác biệt so với các dữ liệu còn lại, có thể nằm ngoài khoảng IQR\n",
    "    * VD: ngoài khoảng: [Q1-1.5*IQR; Q3+1.5*IQR]\n",
    "\n"
   ]
  },
  {
   "cell_type": "code",
   "execution_count": 17,
   "metadata": {},
   "outputs": [
    {
     "data": {
      "application/vnd.plotly.v1+json": {
       "config": {
        "plotlyServerURL": "https://plot.ly"
       },
       "data": [
        {
         "alignmentgroup": "True",
         "hovertemplate": "Ngưỡng điểm=%{x}<br>Điểm rèn luyện=%{y}<extra></extra>",
         "legendgroup": "",
         "marker": {
          "color": "#636efa"
         },
         "name": "",
         "notched": false,
         "offsetgroup": "",
         "orientation": "v",
         "showlegend": false,
         "type": "box",
         "x": [
          "9-10",
          "7-8",
          "4-6",
          "9-10",
          "7-8",
          "4-6",
          "7-8",
          "7-8",
          "7-8",
          "7-8",
          "9-10",
          "7-8",
          "7-8",
          "7-8",
          "7-8",
          "7-8",
          "9-10",
          "7-8",
          "7-8",
          "7-8",
          "7-8",
          "7-8",
          "7-8",
          "4-6",
          "7-8",
          "9-10",
          "7-8",
          "9-10",
          "7-8",
          "7-8",
          "7-8",
          "7-8",
          "7-8",
          "7-8",
          "9-10",
          "7-8",
          "7-8",
          "4-6",
          "9-10",
          "9-10",
          "7-8",
          "9-10",
          "7-8",
          "7-8",
          "7-8",
          "7-8",
          "4-6",
          "9-10",
          "7-8",
          "7-8",
          "7-8",
          "9-10",
          "7-8",
          "7-8",
          "4-6",
          "9-10",
          "4-6",
          "7-8",
          "7-8",
          "7-8",
          "7-8",
          "7-8",
          "7-8",
          "7-8",
          "7-8",
          "7-8",
          "9-10",
          "9-10",
          "7-8",
          "9-10",
          "7-8",
          "7-8",
          "7-8",
          "7-8",
          "7-8",
          "7-8",
          "9-10",
          "7-8",
          "7-8",
          "9-10",
          "7-8",
          "7-8",
          "7-8",
          "7-8",
          "7-8",
          "7-8",
          "7-8",
          "9-10",
          "9-10",
          "7-8",
          "9-10",
          "4-6",
          "0-3",
          "4-6",
          "4-6",
          "7-8",
          "7-8",
          "7-8",
          "9-10",
          "9-10",
          "9-10",
          "7-8",
          "7-8",
          "7-8",
          "7-8",
          "7-8",
          "9-10",
          "7-8",
          "9-10",
          "9-10",
          "4-6",
          "9-10",
          "9-10",
          "9-10",
          "9-10",
          "4-6",
          "7-8",
          "9-10",
          "7-8",
          "7-8",
          "4-6",
          "4-6",
          "9-10",
          "9-10",
          "7-8",
          "7-8",
          "9-10",
          "7-8",
          "9-10",
          "7-8",
          "9-10",
          "9-10",
          "9-10",
          "7-8",
          "7-8",
          "7-8",
          "7-8",
          "7-8",
          "4-6",
          "7-8",
          "7-8",
          "7-8",
          "9-10",
          "9-10",
          "7-8",
          "7-8",
          "9-10",
          "7-8",
          "7-8",
          "7-8",
          "9-10",
          "7-8",
          "7-8",
          "4-6",
          "7-8",
          "9-10",
          "9-10",
          "9-10",
          "7-8",
          "9-10",
          "7-8",
          "7-8",
          "7-8",
          "9-10",
          "9-10",
          "9-10",
          "9-10",
          "7-8",
          "4-6",
          "7-8",
          "7-8",
          "7-8",
          "7-8",
          "9-10",
          "0-3",
          "7-8",
          "7-8",
          "4-6",
          "7-8",
          "7-8",
          "9-10",
          "7-8",
          "7-8",
          "4-6",
          "7-8",
          "9-10",
          "7-8",
          "7-8",
          "9-10",
          "7-8",
          "9-10",
          "7-8",
          "7-8",
          "7-8",
          "7-8",
          "7-8",
          "7-8",
          "9-10",
          "7-8",
          "7-8",
          "7-8",
          "7-8",
          "7-8",
          "9-10",
          "4-6",
          "7-8",
          "7-8",
          "9-10",
          "7-8",
          "7-8",
          "7-8",
          "7-8",
          "9-10",
          "4-6",
          "7-8",
          "9-10",
          "7-8",
          "7-8",
          "7-8",
          "7-8",
          "7-8",
          "7-8",
          "7-8",
          "7-8",
          "9-10",
          "7-8",
          "9-10",
          "7-8",
          "7-8",
          "7-8",
          "7-8",
          "9-10",
          "9-10",
          "7-8",
          "7-8",
          "7-8",
          "9-10",
          "4-6",
          "7-8",
          "9-10",
          "0-3",
          "7-8",
          "7-8",
          "7-8",
          "7-8",
          "7-8",
          "7-8",
          "7-8",
          "7-8",
          "7-8",
          "4-6",
          "9-10",
          "7-8",
          "9-10",
          "9-10",
          "7-8",
          "7-8",
          "9-10",
          "9-10",
          "9-10",
          "7-8",
          "4-6",
          "9-10",
          "9-10",
          "7-8",
          "7-8",
          "9-10",
          "7-8",
          "7-8",
          "7-8",
          "7-8",
          "7-8",
          "7-8",
          "7-8",
          "9-10",
          "9-10",
          "7-8",
          "7-8",
          "9-10",
          "4-6",
          "7-8",
          "9-10",
          "7-8",
          "9-10",
          "4-6",
          "7-8",
          "7-8",
          "9-10",
          "7-8",
          "7-8",
          "4-6",
          "7-8",
          "7-8",
          "9-10",
          "7-8",
          "9-10",
          "7-8",
          "7-8",
          "7-8",
          "9-10",
          "9-10",
          "4-6",
          "7-8",
          "7-8",
          "7-8",
          "7-8",
          "9-10",
          "9-10",
          "7-8",
          "7-8",
          "7-8",
          "7-8",
          "9-10",
          "7-8",
          "7-8",
          "9-10",
          "7-8",
          "7-8",
          "7-8",
          "7-8",
          "7-8",
          "9-10",
          "9-10",
          "9-10",
          "7-8",
          "7-8",
          "9-10",
          "7-8",
          "7-8",
          "4-6",
          "7-8",
          "7-8",
          "7-8",
          "7-8",
          "7-8",
          "4-6",
          "7-8",
          "4-6",
          "7-8",
          "9-10",
          "9-10",
          "7-8",
          "9-10",
          "7-8",
          "7-8",
          "7-8",
          "7-8",
          "7-8",
          "9-10",
          "7-8",
          "7-8",
          "7-8",
          "7-8",
          "7-8",
          "7-8",
          "7-8",
          "9-10",
          "7-8",
          "7-8",
          "9-10",
          "7-8",
          "7-8",
          "7-8",
          "7-8",
          "7-8",
          "9-10",
          "7-8",
          "4-6",
          "4-6",
          "7-8",
          "9-10",
          "7-8",
          "7-8",
          "7-8",
          "7-8",
          "7-8",
          "9-10",
          "7-8",
          "7-8",
          "7-8",
          "7-8",
          "7-8",
          "9-10",
          "9-10",
          "7-8",
          "9-10",
          "9-10",
          "7-8",
          "9-10",
          "7-8",
          "4-6",
          "9-10",
          "9-10",
          "7-8",
          "4-6",
          "4-6",
          "7-8",
          "7-8",
          "7-8",
          "4-6",
          "7-8",
          "7-8",
          "7-8",
          "7-8",
          "7-8",
          "7-8",
          "7-8",
          "7-8",
          "7-8",
          "7-8",
          "9-10",
          "7-8",
          "7-8",
          "9-10",
          "4-6",
          "4-6",
          "7-8",
          "7-8",
          "7-8",
          "7-8",
          "9-10",
          "7-8",
          "7-8",
          "9-10",
          "4-6",
          "9-10",
          "7-8",
          "7-8",
          "7-8",
          "7-8",
          "7-8",
          "7-8",
          "7-8",
          "7-8",
          "7-8",
          "7-8",
          "7-8",
          "7-8",
          "7-8",
          "7-8",
          "9-10",
          "0-3",
          "9-10",
          "7-8",
          "7-8",
          "7-8",
          "7-8",
          "7-8",
          "7-8",
          "7-8",
          "7-8",
          "9-10",
          "7-8",
          "7-8",
          "7-8",
          "9-10",
          "7-8",
          "4-6",
          "7-8",
          "9-10",
          "7-8",
          "7-8",
          "7-8",
          "9-10",
          "9-10",
          "7-8",
          "7-8",
          "9-10",
          "7-8",
          "7-8",
          "7-8",
          "9-10",
          "7-8",
          "7-8",
          "7-8",
          "7-8",
          "9-10",
          "7-8",
          "7-8",
          "9-10",
          "7-8",
          "7-8",
          "7-8",
          "7-8",
          "7-8",
          "7-8",
          "7-8",
          "0-3",
          "9-10",
          "9-10",
          "9-10",
          "7-8",
          "7-8",
          "9-10",
          "7-8",
          "7-8",
          "7-8",
          "7-8",
          "7-8",
          "9-10"
         ],
         "x0": " ",
         "xaxis": "x",
         "y": [
          97,
          95,
          75,
          62,
          71,
          61,
          82,
          64,
          41,
          63,
          58,
          48,
          74,
          65,
          76,
          79,
          51,
          98,
          74,
          90,
          77,
          74,
          81,
          82,
          70,
          77,
          82,
          41,
          77,
          82,
          51,
          81,
          84,
          83,
          83,
          81,
          76,
          73,
          46,
          80,
          66,
          71,
          80,
          41,
          46,
          77,
          82,
          66,
          76,
          63,
          77,
          60,
          79,
          51,
          71,
          44,
          79,
          78,
          76,
          71,
          71,
          73,
          74,
          74,
          59,
          46,
          79,
          72,
          56,
          64,
          81,
          63,
          77,
          80,
          63,
          75,
          71,
          74,
          63,
          73,
          68,
          78,
          65,
          84,
          80,
          75,
          74,
          79,
          56,
          83,
          55,
          60,
          44,
          45,
          75,
          75,
          49,
          68,
          41,
          73,
          84,
          82,
          72,
          66,
          74,
          73,
          90,
          61,
          57,
          78,
          46,
          80,
          71,
          78,
          81,
          65,
          74,
          80,
          69,
          50,
          50,
          82,
          82,
          72,
          80,
          78,
          71,
          74,
          76,
          51,
          53,
          81,
          76,
          43,
          71,
          80,
          71,
          76,
          74,
          41,
          79,
          70,
          74,
          98,
          81,
          43,
          71,
          66,
          74,
          81,
          84,
          30,
          82,
          58,
          78,
          58,
          72,
          81,
          78,
          91,
          68,
          78,
          91,
          78,
          84,
          48,
          75,
          80,
          82,
          47,
          79,
          75,
          72,
          80,
          75,
          69,
          100,
          82,
          81,
          74,
          57,
          73,
          79,
          84,
          45,
          20,
          76,
          40,
          66,
          52,
          83,
          84,
          72,
          78,
          80,
          42,
          56,
          77,
          64,
          41,
          47,
          75,
          58,
          71,
          72,
          71,
          80,
          78,
          71,
          66,
          57,
          74,
          68,
          48,
          83,
          86,
          63,
          70,
          71,
          78,
          75,
          61,
          49,
          64,
          73,
          62,
          82,
          81,
          82,
          72,
          74,
          94,
          81,
          81,
          38,
          84,
          74,
          74,
          59,
          94,
          83,
          77,
          67,
          78,
          80,
          74,
          76,
          77,
          79,
          73,
          77,
          78,
          43,
          83,
          43,
          47,
          58,
          78,
          54,
          78,
          83,
          47,
          41,
          78,
          78,
          56,
          44,
          63,
          82,
          77,
          64,
          81,
          74,
          80,
          54,
          74,
          45,
          78,
          76,
          58,
          48,
          83,
          83,
          72,
          56,
          75,
          66,
          63,
          45,
          80,
          74,
          58,
          54,
          77,
          81,
          74,
          80,
          47,
          75,
          71,
          70,
          83,
          74,
          68,
          40,
          71,
          79,
          47,
          74,
          74,
          43,
          76,
          73,
          73,
          62,
          76,
          75,
          61,
          66,
          74,
          72,
          45,
          57,
          68,
          73,
          71,
          56,
          73,
          54,
          78,
          75,
          71,
          96,
          76,
          79,
          63,
          69,
          78,
          80,
          70,
          72,
          75,
          59,
          77,
          72,
          79,
          74,
          70,
          74,
          80,
          49,
          72,
          47,
          31,
          75,
          82,
          66,
          71,
          89,
          64,
          80,
          75,
          67,
          76,
          72,
          67,
          84,
          70,
          82,
          79,
          76,
          81,
          84,
          43,
          58,
          81,
          82,
          57,
          62,
          78,
          63,
          59,
          86,
          59,
          64,
          43,
          70,
          70,
          55,
          66,
          78,
          87,
          45,
          93,
          77,
          80,
          55,
          80,
          82,
          70,
          63,
          63,
          42,
          71,
          78,
          74,
          76,
          76,
          82,
          75,
          42,
          88,
          75,
          42,
          71,
          71,
          66,
          76,
          76,
          50,
          70,
          65,
          72,
          91,
          57,
          81,
          85,
          73,
          74,
          73,
          76,
          48,
          79,
          56,
          59,
          80,
          57,
          47,
          75,
          87,
          83,
          79,
          80,
          83,
          75,
          68,
          76,
          99,
          80,
          44,
          53,
          94,
          83,
          77,
          67,
          78,
          80,
          74,
          76,
          77,
          79,
          73,
          77,
          78,
          43,
          83,
          43,
          47,
          58,
          78,
          54,
          78,
          83,
          47,
          41,
          78,
          78,
          56,
          44,
          63,
          82,
          77,
          64,
          81,
          74,
          80,
          54,
          83,
          84,
          72,
          78,
          80,
          42,
          56,
          77,
          64,
          41,
          47,
          55,
          99
         ],
         "y0": " ",
         "yaxis": "y"
        }
       ],
       "layout": {
        "boxmode": "group",
        "legend": {
         "tracegroupgap": 0
        },
        "template": {
         "data": {
          "bar": [
           {
            "error_x": {
             "color": "#2a3f5f"
            },
            "error_y": {
             "color": "#2a3f5f"
            },
            "marker": {
             "line": {
              "color": "#E5ECF6",
              "width": 0.5
             },
             "pattern": {
              "fillmode": "overlay",
              "size": 10,
              "solidity": 0.2
             }
            },
            "type": "bar"
           }
          ],
          "barpolar": [
           {
            "marker": {
             "line": {
              "color": "#E5ECF6",
              "width": 0.5
             },
             "pattern": {
              "fillmode": "overlay",
              "size": 10,
              "solidity": 0.2
             }
            },
            "type": "barpolar"
           }
          ],
          "carpet": [
           {
            "aaxis": {
             "endlinecolor": "#2a3f5f",
             "gridcolor": "white",
             "linecolor": "white",
             "minorgridcolor": "white",
             "startlinecolor": "#2a3f5f"
            },
            "baxis": {
             "endlinecolor": "#2a3f5f",
             "gridcolor": "white",
             "linecolor": "white",
             "minorgridcolor": "white",
             "startlinecolor": "#2a3f5f"
            },
            "type": "carpet"
           }
          ],
          "choropleth": [
           {
            "colorbar": {
             "outlinewidth": 0,
             "ticks": ""
            },
            "type": "choropleth"
           }
          ],
          "contour": [
           {
            "colorbar": {
             "outlinewidth": 0,
             "ticks": ""
            },
            "colorscale": [
             [
              0,
              "#0d0887"
             ],
             [
              0.1111111111111111,
              "#46039f"
             ],
             [
              0.2222222222222222,
              "#7201a8"
             ],
             [
              0.3333333333333333,
              "#9c179e"
             ],
             [
              0.4444444444444444,
              "#bd3786"
             ],
             [
              0.5555555555555556,
              "#d8576b"
             ],
             [
              0.6666666666666666,
              "#ed7953"
             ],
             [
              0.7777777777777778,
              "#fb9f3a"
             ],
             [
              0.8888888888888888,
              "#fdca26"
             ],
             [
              1,
              "#f0f921"
             ]
            ],
            "type": "contour"
           }
          ],
          "contourcarpet": [
           {
            "colorbar": {
             "outlinewidth": 0,
             "ticks": ""
            },
            "type": "contourcarpet"
           }
          ],
          "heatmap": [
           {
            "colorbar": {
             "outlinewidth": 0,
             "ticks": ""
            },
            "colorscale": [
             [
              0,
              "#0d0887"
             ],
             [
              0.1111111111111111,
              "#46039f"
             ],
             [
              0.2222222222222222,
              "#7201a8"
             ],
             [
              0.3333333333333333,
              "#9c179e"
             ],
             [
              0.4444444444444444,
              "#bd3786"
             ],
             [
              0.5555555555555556,
              "#d8576b"
             ],
             [
              0.6666666666666666,
              "#ed7953"
             ],
             [
              0.7777777777777778,
              "#fb9f3a"
             ],
             [
              0.8888888888888888,
              "#fdca26"
             ],
             [
              1,
              "#f0f921"
             ]
            ],
            "type": "heatmap"
           }
          ],
          "heatmapgl": [
           {
            "colorbar": {
             "outlinewidth": 0,
             "ticks": ""
            },
            "colorscale": [
             [
              0,
              "#0d0887"
             ],
             [
              0.1111111111111111,
              "#46039f"
             ],
             [
              0.2222222222222222,
              "#7201a8"
             ],
             [
              0.3333333333333333,
              "#9c179e"
             ],
             [
              0.4444444444444444,
              "#bd3786"
             ],
             [
              0.5555555555555556,
              "#d8576b"
             ],
             [
              0.6666666666666666,
              "#ed7953"
             ],
             [
              0.7777777777777778,
              "#fb9f3a"
             ],
             [
              0.8888888888888888,
              "#fdca26"
             ],
             [
              1,
              "#f0f921"
             ]
            ],
            "type": "heatmapgl"
           }
          ],
          "histogram": [
           {
            "marker": {
             "pattern": {
              "fillmode": "overlay",
              "size": 10,
              "solidity": 0.2
             }
            },
            "type": "histogram"
           }
          ],
          "histogram2d": [
           {
            "colorbar": {
             "outlinewidth": 0,
             "ticks": ""
            },
            "colorscale": [
             [
              0,
              "#0d0887"
             ],
             [
              0.1111111111111111,
              "#46039f"
             ],
             [
              0.2222222222222222,
              "#7201a8"
             ],
             [
              0.3333333333333333,
              "#9c179e"
             ],
             [
              0.4444444444444444,
              "#bd3786"
             ],
             [
              0.5555555555555556,
              "#d8576b"
             ],
             [
              0.6666666666666666,
              "#ed7953"
             ],
             [
              0.7777777777777778,
              "#fb9f3a"
             ],
             [
              0.8888888888888888,
              "#fdca26"
             ],
             [
              1,
              "#f0f921"
             ]
            ],
            "type": "histogram2d"
           }
          ],
          "histogram2dcontour": [
           {
            "colorbar": {
             "outlinewidth": 0,
             "ticks": ""
            },
            "colorscale": [
             [
              0,
              "#0d0887"
             ],
             [
              0.1111111111111111,
              "#46039f"
             ],
             [
              0.2222222222222222,
              "#7201a8"
             ],
             [
              0.3333333333333333,
              "#9c179e"
             ],
             [
              0.4444444444444444,
              "#bd3786"
             ],
             [
              0.5555555555555556,
              "#d8576b"
             ],
             [
              0.6666666666666666,
              "#ed7953"
             ],
             [
              0.7777777777777778,
              "#fb9f3a"
             ],
             [
              0.8888888888888888,
              "#fdca26"
             ],
             [
              1,
              "#f0f921"
             ]
            ],
            "type": "histogram2dcontour"
           }
          ],
          "mesh3d": [
           {
            "colorbar": {
             "outlinewidth": 0,
             "ticks": ""
            },
            "type": "mesh3d"
           }
          ],
          "parcoords": [
           {
            "line": {
             "colorbar": {
              "outlinewidth": 0,
              "ticks": ""
             }
            },
            "type": "parcoords"
           }
          ],
          "pie": [
           {
            "automargin": true,
            "type": "pie"
           }
          ],
          "scatter": [
           {
            "fillpattern": {
             "fillmode": "overlay",
             "size": 10,
             "solidity": 0.2
            },
            "type": "scatter"
           }
          ],
          "scatter3d": [
           {
            "line": {
             "colorbar": {
              "outlinewidth": 0,
              "ticks": ""
             }
            },
            "marker": {
             "colorbar": {
              "outlinewidth": 0,
              "ticks": ""
             }
            },
            "type": "scatter3d"
           }
          ],
          "scattercarpet": [
           {
            "marker": {
             "colorbar": {
              "outlinewidth": 0,
              "ticks": ""
             }
            },
            "type": "scattercarpet"
           }
          ],
          "scattergeo": [
           {
            "marker": {
             "colorbar": {
              "outlinewidth": 0,
              "ticks": ""
             }
            },
            "type": "scattergeo"
           }
          ],
          "scattergl": [
           {
            "marker": {
             "colorbar": {
              "outlinewidth": 0,
              "ticks": ""
             }
            },
            "type": "scattergl"
           }
          ],
          "scattermapbox": [
           {
            "marker": {
             "colorbar": {
              "outlinewidth": 0,
              "ticks": ""
             }
            },
            "type": "scattermapbox"
           }
          ],
          "scatterpolar": [
           {
            "marker": {
             "colorbar": {
              "outlinewidth": 0,
              "ticks": ""
             }
            },
            "type": "scatterpolar"
           }
          ],
          "scatterpolargl": [
           {
            "marker": {
             "colorbar": {
              "outlinewidth": 0,
              "ticks": ""
             }
            },
            "type": "scatterpolargl"
           }
          ],
          "scatterternary": [
           {
            "marker": {
             "colorbar": {
              "outlinewidth": 0,
              "ticks": ""
             }
            },
            "type": "scatterternary"
           }
          ],
          "surface": [
           {
            "colorbar": {
             "outlinewidth": 0,
             "ticks": ""
            },
            "colorscale": [
             [
              0,
              "#0d0887"
             ],
             [
              0.1111111111111111,
              "#46039f"
             ],
             [
              0.2222222222222222,
              "#7201a8"
             ],
             [
              0.3333333333333333,
              "#9c179e"
             ],
             [
              0.4444444444444444,
              "#bd3786"
             ],
             [
              0.5555555555555556,
              "#d8576b"
             ],
             [
              0.6666666666666666,
              "#ed7953"
             ],
             [
              0.7777777777777778,
              "#fb9f3a"
             ],
             [
              0.8888888888888888,
              "#fdca26"
             ],
             [
              1,
              "#f0f921"
             ]
            ],
            "type": "surface"
           }
          ],
          "table": [
           {
            "cells": {
             "fill": {
              "color": "#EBF0F8"
             },
             "line": {
              "color": "white"
             }
            },
            "header": {
             "fill": {
              "color": "#C8D4E3"
             },
             "line": {
              "color": "white"
             }
            },
            "type": "table"
           }
          ]
         },
         "layout": {
          "annotationdefaults": {
           "arrowcolor": "#2a3f5f",
           "arrowhead": 0,
           "arrowwidth": 1
          },
          "autotypenumbers": "strict",
          "coloraxis": {
           "colorbar": {
            "outlinewidth": 0,
            "ticks": ""
           }
          },
          "colorscale": {
           "diverging": [
            [
             0,
             "#8e0152"
            ],
            [
             0.1,
             "#c51b7d"
            ],
            [
             0.2,
             "#de77ae"
            ],
            [
             0.3,
             "#f1b6da"
            ],
            [
             0.4,
             "#fde0ef"
            ],
            [
             0.5,
             "#f7f7f7"
            ],
            [
             0.6,
             "#e6f5d0"
            ],
            [
             0.7,
             "#b8e186"
            ],
            [
             0.8,
             "#7fbc41"
            ],
            [
             0.9,
             "#4d9221"
            ],
            [
             1,
             "#276419"
            ]
           ],
           "sequential": [
            [
             0,
             "#0d0887"
            ],
            [
             0.1111111111111111,
             "#46039f"
            ],
            [
             0.2222222222222222,
             "#7201a8"
            ],
            [
             0.3333333333333333,
             "#9c179e"
            ],
            [
             0.4444444444444444,
             "#bd3786"
            ],
            [
             0.5555555555555556,
             "#d8576b"
            ],
            [
             0.6666666666666666,
             "#ed7953"
            ],
            [
             0.7777777777777778,
             "#fb9f3a"
            ],
            [
             0.8888888888888888,
             "#fdca26"
            ],
            [
             1,
             "#f0f921"
            ]
           ],
           "sequentialminus": [
            [
             0,
             "#0d0887"
            ],
            [
             0.1111111111111111,
             "#46039f"
            ],
            [
             0.2222222222222222,
             "#7201a8"
            ],
            [
             0.3333333333333333,
             "#9c179e"
            ],
            [
             0.4444444444444444,
             "#bd3786"
            ],
            [
             0.5555555555555556,
             "#d8576b"
            ],
            [
             0.6666666666666666,
             "#ed7953"
            ],
            [
             0.7777777777777778,
             "#fb9f3a"
            ],
            [
             0.8888888888888888,
             "#fdca26"
            ],
            [
             1,
             "#f0f921"
            ]
           ]
          },
          "colorway": [
           "#636efa",
           "#EF553B",
           "#00cc96",
           "#ab63fa",
           "#FFA15A",
           "#19d3f3",
           "#FF6692",
           "#B6E880",
           "#FF97FF",
           "#FECB52"
          ],
          "font": {
           "color": "#2a3f5f"
          },
          "geo": {
           "bgcolor": "white",
           "lakecolor": "white",
           "landcolor": "#E5ECF6",
           "showlakes": true,
           "showland": true,
           "subunitcolor": "white"
          },
          "hoverlabel": {
           "align": "left"
          },
          "hovermode": "closest",
          "mapbox": {
           "style": "light"
          },
          "paper_bgcolor": "white",
          "plot_bgcolor": "#E5ECF6",
          "polar": {
           "angularaxis": {
            "gridcolor": "white",
            "linecolor": "white",
            "ticks": ""
           },
           "bgcolor": "#E5ECF6",
           "radialaxis": {
            "gridcolor": "white",
            "linecolor": "white",
            "ticks": ""
           }
          },
          "scene": {
           "xaxis": {
            "backgroundcolor": "#E5ECF6",
            "gridcolor": "white",
            "gridwidth": 2,
            "linecolor": "white",
            "showbackground": true,
            "ticks": "",
            "zerolinecolor": "white"
           },
           "yaxis": {
            "backgroundcolor": "#E5ECF6",
            "gridcolor": "white",
            "gridwidth": 2,
            "linecolor": "white",
            "showbackground": true,
            "ticks": "",
            "zerolinecolor": "white"
           },
           "zaxis": {
            "backgroundcolor": "#E5ECF6",
            "gridcolor": "white",
            "gridwidth": 2,
            "linecolor": "white",
            "showbackground": true,
            "ticks": "",
            "zerolinecolor": "white"
           }
          },
          "shapedefaults": {
           "line": {
            "color": "#2a3f5f"
           }
          },
          "ternary": {
           "aaxis": {
            "gridcolor": "white",
            "linecolor": "white",
            "ticks": ""
           },
           "baxis": {
            "gridcolor": "white",
            "linecolor": "white",
            "ticks": ""
           },
           "bgcolor": "#E5ECF6",
           "caxis": {
            "gridcolor": "white",
            "linecolor": "white",
            "ticks": ""
           }
          },
          "title": {
           "x": 0.05
          },
          "xaxis": {
           "automargin": true,
           "gridcolor": "white",
           "linecolor": "white",
           "ticks": "",
           "title": {
            "standoff": 15
           },
           "zerolinecolor": "white",
           "zerolinewidth": 2
          },
          "yaxis": {
           "automargin": true,
           "gridcolor": "white",
           "linecolor": "white",
           "ticks": "",
           "title": {
            "standoff": 15
           },
           "zerolinecolor": "white",
           "zerolinewidth": 2
          }
         }
        },
        "title": {
         "text": "Box Plot của điểm rèn luyện theo ngưỡng điểm"
        },
        "xaxis": {
         "anchor": "y",
         "domain": [
          0,
          1
         ],
         "title": {
          "text": "Ngưỡng điểm"
         }
        },
        "yaxis": {
         "anchor": "x",
         "domain": [
          0,
          1
         ],
         "title": {
          "text": "Điểm rèn luyện"
         }
        }
       }
      }
     },
     "metadata": {},
     "output_type": "display_data"
    }
   ],
   "source": [
    "\n",
    "data['Ngưỡng điểm'] = pd.cut(data['Điểm trung bình(hệ 10)'], \n",
    "                             bins=[0, 3, 6, 8, 10], labels=[\"0-3\", \"4-6\", \"7-8\", \"9-10\"])\n",
    "# print(data.head)\n",
    "# Tạo box plot tương tác với plotly\n",
    "fig = px.box(data, x='Ngưỡng điểm', y='Điểm rèn luyện', \n",
    "             title=\"Box Plot của điểm rèn luyện theo ngưỡng điểm\",\n",
    "             labels={'Ngưỡng điểm': 'Ngưỡng điểm', 'Điểm trung bình( hệ 10)': 'Điểm trung bình (hệ 10)'})\n",
    "\n",
    "# Hiển thị biểu đồ\n",
    "fig.show()"
   ]
  },
  {
   "cell_type": "markdown",
   "metadata": {},
   "source": [
    "## RUN ALGORITHM\n"
   ]
  },
  {
   "cell_type": "code",
   "execution_count": 18,
   "metadata": {},
   "outputs": [
    {
     "name": "stdout",
     "output_type": "stream",
     "text": [
      "Điểm trung bình(hệ 10)    0\n",
      "Điểm rèn luyện            0\n",
      "GPA                       0\n",
      "dtype: int64\n"
     ]
    }
   ],
   "source": [
    "# Kiểm tra xem có bao nhiêu giá trị bị thiếu (NaN)\n",
    "print(data[['Điểm trung bình(hệ 10)','Điểm rèn luyện' ,'GPA']].isna().sum())"
   ]
  },
  {
   "cell_type": "code",
   "execution_count": 19,
   "metadata": {},
   "outputs": [],
   "source": [
    "# Lấy 2 thuộc tính là Điểm trung bình và điểm rèn luyện để tiến hành phân cụm\n",
    "X = data[['Điểm trung bình(hệ 10)','Điểm rèn luyện']].values"
   ]
  },
  {
   "cell_type": "markdown",
   "metadata": {},
   "source": [
    "### K = 3"
   ]
  },
  {
   "cell_type": "code",
   "execution_count": 22,
   "metadata": {},
   "outputs": [
    {
     "name": "stdout",
     "output_type": "stream",
     "text": [
      "(500,)\n",
      "2\n",
      "[[ 7.52666667 48.92982456]\n",
      " [ 7.37841584 70.70792079]\n",
      " [ 7.4538587  81.72282609]]\n"
     ]
    },
    {
     "data": {
      "image/png": "[encoded data removed]",
      "text/plain": [
       "<Figure size 1200x800 with 2 Axes>"
      ]
     },
     "metadata": {},
     "output_type": "display_data"
    }
   ],
   "source": [
    "\n",
    "sns.set(style=\"whitegrid\")\n",
    "\n",
    "kmeans = KMeans(n_clusters=3, random_state=0)\n",
    "y_kmeans = kmeans.fit_predict(X)\n",
    "print(y_kmeans.shape)\n",
    "print(y_kmeans[0])\n",
    "\n",
    "plt.figure(figsize=(12, 8))\n",
    "scatter = plt.scatter(X[:, 0], X[:, 1], c=y_kmeans, s=100, cmap='viridis', edgecolor='k', alpha=0.75)\n",
    "\n",
    "centers = kmeans.cluster_centers_\n",
    "print(centers)\n",
    "plt.scatter(centers[:, 0], centers[:, 1], c='red', s=300, alpha=0.85, marker='*', edgecolor='k', label='Centers')\n",
    "\n",
    "\n",
    "plt.title(\"K-Means Clustering\", fontsize=20, fontweight='bold')\n",
    "plt.xlabel('Điểm trung bình hệ 10', fontsize=14)\n",
    "plt.ylabel('Điểm rèn luyện', fontsize=14)\n",
    "\n",
    "\n",
    "plt.legend(loc='best')\n",
    "\n",
    "plt.colorbar(scatter)\n",
    "plt.show()\n"
   ]
  },
  {
   "cell_type": "code",
   "execution_count": 23,
   "metadata": {},
   "outputs": [
    {
     "data": {
      "application/vnd.plotly.v1+json": {
       "config": {
        "plotlyServerURL": "https://plot.ly"
       },
       "data": [
        {
         "customdata": [
          [
           3.93
          ],
          [
           2.81
          ],
          [
           2.94
          ],
          [
           2.8
          ],
          [
           2.73
          ],
          [
           2.83
          ],
          [
           2.93
          ],
          [
           2.99
          ],
          [
           2.21
          ],
          [
           3.7
          ],
          [
           2.93
          ],
          [
           2.99
          ],
          [
           3.17
          ],
          [
           2.95
          ],
          [
           3.46
          ],
          [
           2.97
          ],
          [
           3.79
          ],
          [
           2.94
          ],
          [
           3.3
          ],
          [
           3.41
          ],
          [
           2.92
          ],
          [
           2.21
          ],
          [
           2.93
          ],
          [
           3.08
          ],
          [
           2.48
          ],
          [
           3.24
          ],
          [
           3.27
          ],
          [
           2.84
          ],
          [
           2.81
          ],
          [
           2.96
          ],
          [
           2.82
          ],
          [
           2.93
          ],
          [
           3.44
          ],
          [
           3.49
          ],
          [
           2.89
          ],
          [
           3.34
          ],
          [
           2.84
          ],
          [
           3.29
          ],
          [
           3.56
          ],
          [
           3.21
          ],
          [
           3.09
          ],
          [
           3.19
          ],
          [
           3.68
          ],
          [
           2.28
          ],
          [
           3.53
          ],
          [
           2.58
          ],
          [
           2.88
          ],
          [
           3.51
          ],
          [
           2.86
          ],
          [
           2.8
          ],
          [
           3.31
          ],
          [
           2.91
          ],
          [
           3.23
          ],
          [
           3.06
          ],
          [
           2.87
          ],
          [
           2.97
          ],
          [
           3.15
          ],
          [
           2.87
          ],
          [
           3.12
          ],
          [
           2.91
          ],
          [
           2.93
          ],
          [
           3.36
          ],
          [
           3.69
          ],
          [
           2.97
          ],
          [
           2.12
          ],
          [
           2.93
          ],
          [
           3.91
          ],
          [
           2.82
          ],
          [
           1.39
          ],
          [
           3.11
          ],
          [
           2.9
          ],
          [
           2.01
          ],
          [
           3.39
          ],
          [
           2.89
          ],
          [
           2.86
          ],
          [
           2.03
          ],
          [
           3.19
          ],
          [
           3.33
          ],
          [
           3.29
          ],
          [
           3.26
          ],
          [
           3.28
          ],
          [
           3.25
          ],
          [
           3.1
          ],
          [
           2.82
          ],
          [
           2.87
          ],
          [
           3.71
          ],
          [
           3.38
          ],
          [
           3.21
          ],
          [
           2.91
          ],
          [
           3.49
          ],
          [
           0
          ],
          [
           2.83
          ],
          [
           3
          ],
          [
           2.81
          ],
          [
           2.8
          ],
          [
           3.04
          ],
          [
           1.5
          ],
          [
           3.39
          ],
          [
           3.07
          ],
          [
           3.34
          ],
          [
           3.42
          ],
          [
           2.91
          ],
          [
           3.47
          ],
          [
           2.83
          ],
          [
           2.86
          ],
          [
           3
          ],
          [
           2.92
          ],
          [
           2.81
          ],
          [
           2.96
          ],
          [
           3.07
          ],
          [
           3.24
          ],
          [
           2.64
          ],
          [
           3.18
          ],
          [
           3
          ],
          [
           3.07
          ],
          [
           1.47
          ],
          [
           3.57
          ],
          [
           1.23
          ],
          [
           2.99
          ],
          [
           3.5
          ],
          [
           1.51
          ],
          [
           2.94
          ],
          [
           2.86
          ],
          [
           2.97
          ],
          [
           3.33
          ],
          [
           2.86
          ],
          [
           2.88
          ],
          [
           2.82
          ],
          [
           2.84
          ],
          [
           1.73
          ],
          [
           2.85
          ],
          [
           2.89
          ],
          [
           2.99
          ],
          [
           2.89
          ],
          [
           3.19
          ],
          [
           3
          ],
          [
           3.44
          ],
          [
           2.31
          ],
          [
           3.14
          ],
          [
           2.89
          ],
          [
           2.32
          ],
          [
           1.25
          ],
          [
           2.88
          ],
          [
           3.34
          ],
          [
           2.91
          ],
          [
           2.93
          ],
          [
           2.98
          ],
          [
           3.03
          ],
          [
           3.49
          ],
          [
           2.98
          ],
          [
           2.81
          ],
          [
           2.81
          ],
          [
           3
          ],
          [
           3.11
          ],
          [
           0
          ],
          [
           3.38
          ],
          [
           2.8
          ],
          [
           2.97
          ],
          [
           2.78
          ],
          [
           3.49
          ],
          [
           2.94
          ],
          [
           3.06
          ],
          [
           3.11
          ],
          [
           2.84
          ],
          [
           3.23
          ],
          [
           2.83
          ],
          [
           2.97
          ],
          [
           3.13
          ],
          [
           2.97
          ],
          [
           2.82
          ],
          [
           3.5
          ],
          [
           2.94
          ],
          [
           3
          ],
          [
           3.34
          ],
          [
           3
          ],
          [
           3.33
          ],
          [
           2.99
          ],
          [
           2.79
          ],
          [
           0
          ],
          [
           3.01
          ],
          [
           3.14
          ],
          [
           2.8
          ],
          [
           2.92
          ],
          [
           3.19
          ]
         ],
         "hovertemplate": "<b>%{hovertext}</b><br><br>Cluster=%{marker.color}<br>Điểm trung bình(hệ 10)=%{x}<br>Điểm rèn luyện=%{y}<br>GPA=%{customdata[0]}<extra></extra>",
         "hovertext": [
          "Bùi Quốc Linh",
          "Phan Đình Tuấn",
          "Phạm Anh Bình",
          "Trần Hải Linh",
          "Hoàng Hữu Phong",
          "Phan Văn Tuấn",
          "Nguyễn Văn Cường",
          "Nguyễn Khánh Anh",
          "Đỗ Thanh Khang",
          "Trần Thị Huy",
          "Bùi Hữu Quang",
          "Vũ Thanh Bình",
          "Bùi Quốc Bình",
          "Hoàng Hải Phong",
          "Phan Minh Cường",
          "Bùi Hữu Khang",
          "Phan Khánh Phong",
          "Lê Anh Dương",
          "Phạm Minh Khang",
          "Bùi Văn Cường",
          "Vũ Minh Dương",
          "Hoàng Hải Dương",
          "Phan Thanh Linh",
          "Bùi Minh Linh",
          "Trần Quốc Quang",
          "Hoàng Khánh Phong",
          "Nguyễn Minh Anh",
          "Đặng Khánh Bình",
          "Lê Thị Phong",
          "Nguyễn Quốc Bình",
          "Trần Khánh Khang",
          "Trần Hải Tuấn",
          "Phan Đình Tuấn",
          "Phan Văn Huy",
          "Phan Anh Cường",
          "Phan Văn Huy",
          "Phạm Khánh Khang",
          "Lê Hải Bình",
          "Hoàng Minh Cường",
          "Phạm Hải Khang",
          "Vũ Thị Cường",
          "Bùi Hữu Cường",
          "Đỗ Thị Khang",
          "Lê Văn Huy",
          "Hoàng Anh Huy",
          "Trần Khánh Tuấn",
          "Đỗ Thanh Khang",
          "Hoàng Minh Dương",
          "Trần Anh Khang",
          "Phạm Anh Quang",
          "Nguyễn Hữu Linh",
          "Đỗ Khánh Bình",
          "Nguyễn Thị Anh",
          "Hoàng Thanh Huy",
          "Đỗ Thị Huy",
          "Lê Văn Bình",
          "Nguyễn Minh Phong",
          "Nguyễn Thanh Tuấn",
          "Bùi Minh Khang",
          "Phan Thị Phong",
          "Trần Thanh Tuấn",
          "Lê Hữu Tuấn",
          "Phan Hải Cường",
          "Phan Hải Cường",
          "Nguyễn Khánh Bình",
          "Vũ Thị Huy",
          "Hoàng Văn Dương",
          "Bùi Hữu Linh",
          "Phan Văn Huy",
          "Trần Khánh Phong",
          "Phan Thanh Quang",
          "Lê Hải Anh",
          "Lê Đình Tuấn",
          "Lê Thị Huy",
          "Phan Thị Khang",
          "Phạm Văn Phong",
          "Trần Khánh Anh",
          "Phạm Hải Bình",
          "Trần Hải Phong",
          "Phạm Minh Cường",
          "Đặng Hải Tuấn",
          "Hoàng Đình Tuấn",
          "Trần Khánh Anh",
          "Vũ Quốc Dương",
          "Đặng Minh Huy",
          "Nguyễn Minh Quang",
          "Phan Anh Linh",
          "Hoàng Văn Phong",
          "Vũ Khánh Tuấn",
          "Bùi Anh Tuấn",
          "Đặng Đình Quang",
          "Đỗ Văn Cường",
          "Lê Văn Tuấn",
          "Hoàng Hữu Linh",
          "Đặng Hữu Quang",
          "Nguyễn Hải Quang",
          "Trần Thanh Linh",
          "Nguyễn Hải Dương",
          "Nguyễn Đình Huy",
          "Trần Quốc Phong",
          "Hoàng Hải Tuấn",
          "Đặng Đình Cường",
          "Phan Đình Phong",
          "Hoàng Thị Quang",
          "Bùi Quốc Phong",
          "Lê Khánh Dương",
          "Đỗ Quốc Phong",
          "Bùi Văn Dương",
          "Đặng Minh Quang",
          "Trần Minh Khang",
          "Đỗ Khánh Anh",
          "Đỗ Hữu Cường",
          "Bùi Minh Quang",
          "Lê Anh Dương",
          "Bùi Minh Bình",
          "Vũ Đình Huy",
          "Vũ Hữu Linh",
          "Lê Đình Linh",
          "Bùi Anh Khang",
          "Phạm Văn Dương",
          "Trần Đình Khang",
          "Vũ Hữu Khang",
          "Phan Quốc Khang",
          "Đặng Quốc Khang",
          "Hoàng Khánh Linh",
          "Đặng Thanh Bình",
          "Đỗ Thanh Linh",
          "Nguyễn Văn Cường",
          "Đỗ Quốc Bình",
          "Nguyễn Minh Linh",
          "Nguyễn Khánh Huy",
          "Trần Quốc Phong",
          "Lê Thị Anh",
          "Phan Quốc Dương",
          "Phạm Đình Quang",
          "Trần Quốc Bình",
          "Đặng Khánh Anh",
          "Phan Hữu Linh",
          "Phạm Anh Bình",
          "Đỗ Anh Khang",
          "Bùi Anh Anh",
          "Đặng Thị Cường",
          "Hoàng Đình Tuấn",
          "Nguyễn Thị Dương",
          "Bùi Minh Linh",
          "Đặng Văn Linh",
          "Phạm Minh Dương",
          "Lê Thị Anh",
          "Trần Hải Phong",
          "Đỗ Đình Khang",
          "Lê Văn Anh",
          "Đặng Văn Khang",
          "Bùi Minh Khang",
          "Vũ Thị Cường",
          "Vũ Đình Cường",
          "Đặng Minh Huy",
          "Phan Quốc Huy",
          "Trần Quốc Tuấn",
          "Đỗ Quốc Phong",
          "Đặng Minh Anh",
          "Vũ Văn Huy",
          "Lê Hữu Cường",
          "Lê Văn Phong",
          "Lê Hữu Phong",
          "Nguyễn Quốc Dương",
          "Phạm Hải Quang",
          "Phan Đình Bình",
          "Phạm Quốc Khang",
          "Lê Thanh Phong",
          "Hoàng Anh Phong",
          "Trần Minh Linh",
          "Đặng Hải Quang",
          "Lê Khánh Cường",
          "Đặng Quốc Tuấn",
          "Phan Hải Khang",
          "Nguyễn Hải Anh",
          "Nguyễn Hải Tuấn",
          "Bùi Văn Linh",
          "Phan Văn Tuấn",
          "Hoàng Anh Tuấn",
          "Đặng Văn Tuấn",
          "Trần Hải Quang",
          "Phan Đình Bình",
          "Đặng Minh Cường"
         ],
         "legendgroup": "2",
         "marker": {
          "color": [
           2,
           2,
           2,
           2,
           2,
           2,
           2,
           2,
           2,
           2,
           2,
           2,
           2,
           2,
           2,
           2,
           2,
           2,
           2,
           2,
           2,
           2,
           2,
           2,
           2,
           2,
           2,
           2,
           2,
           2,
           2,
           2,
           2,
           2,
           2,
           2,
           2,
           2,
           2,
           2,
           2,
           2,
           2,
           2,
           2,
           2,
           2,
           2,
           2,
           2,
           2,
           2,
           2,
           2,
           2,
           2,
           2,
           2,
           2,
           2,
           2,
           2,
           2,
           2,
           2,
           2,
           2,
           2,
           2,
           2,
           2,
           2,
           2,
           2,
           2,
           2,
           2,
           2,
           2,
           2,
           2,
           2,
           2,
           2,
           2,
           2,
           2,
           2,
           2,
           2,
           2,
           2,
           2,
           2,
           2,
           2,
           2,
           2,
           2,
           2,
           2,
           2,
           2,
           2,
           2,
           2,
           2,
           2,
           2,
           2,
           2,
           2,
           2,
           2,
           2,
           2,
           2,
           2,
           2,
           2,
           2,
           2,
           2,
           2,
           2,
           2,
           2,
           2,
           2,
           2,
           2,
           2,
           2,
           2,
           2,
           2,
           2,
           2,
           2,
           2,
           2,
           2,
           2,
           2,
           2,
           2,
           2,
           2,
           2,
           2,
           2,
           2,
           2,
           2,
           2,
           2,
           2,
           2,
           2,
           2,
           2,
           2,
           2,
           2,
           2,
           2,
           2,
           2,
           2,
           2,
           2,
           2,
           2,
           2,
           2,
           2,
           2,
           2,
           2,
           2,
           2,
           2,
           2,
           2
          ],
          "coloraxis": "coloraxis",
          "symbol": "circle"
         },
         "mode": "markers",
         "name": "2",
         "orientation": "v",
         "showlegend": true,
         "type": "scatter",
         "x": [
          9.63,
          7.12,
          7.61,
          7.25,
          6.45,
          7.74,
          7.79,
          7.2,
          5.72,
          8.8,
          7.33,
          7.09,
          7.9,
          7.75,
          7.84,
          7.28,
          8.6,
          7.22,
          8.03,
          7.95,
          7.26,
          5.58,
          7.61,
          7.91,
          5.77,
          7.82,
          8.02,
          7.12,
          7.28,
          7.61,
          7.55,
          7.69,
          7.82,
          8.1,
          7.1,
          8.35,
          7.77,
          8.3,
          9.94,
          8.23,
          8.37,
          8.1,
          9.77,
          5.78,
          8.74,
          6.81,
          7.7,
          9.46,
          7.67,
          7.25,
          8.1,
          7.64,
          7.91,
          8.19,
          7.44,
          7.56,
          8.38,
          7.3,
          8.07,
          7.47,
          7.35,
          8.35,
          9.19,
          7.69,
          5.52,
          7.22,
          9.29,
          7.49,
          4.57,
          7.81,
          7.15,
          5.75,
          8.1,
          7.27,
          7.64,
          6.05,
          8.26,
          7.95,
          8.16,
          7.87,
          8.13,
          7.8,
          8.29,
          7.78,
          7.39,
          9.1,
          8.05,
          7.88,
          7.6,
          8.38,
          1.41,
          7.15,
          7.75,
          7.61,
          7.69,
          7.89,
          4.49,
          8.01,
          8.01,
          8.1,
          8.22,
          7.6,
          8.06,
          7.22,
          7.79,
          7.15,
          7.59,
          7.29,
          7.69,
          8.22,
          7.84,
          6.87,
          8.11,
          7.03,
          8,
          4.28,
          9.01,
          4.23,
          7.63,
          7.82,
          4.92,
          7.14,
          7.46,
          7.53,
          8,
          7.24,
          7.12,
          7.76,
          7.16,
          5.02,
          7.74,
          7.14,
          7.72,
          7.26,
          8.11,
          7.49,
          8.25,
          5.62,
          8.38,
          7.14,
          5.59,
          4.16,
          7.07,
          7.86,
          7.1,
          7.77,
          7.05,
          8.31,
          8.11,
          7.53,
          7.45,
          7.27,
          7.65,
          8.36,
          0.24,
          8.23,
          7.68,
          7.57,
          6.7,
          8.07,
          7.02,
          7.95,
          8.24,
          7.32,
          8.25,
          7.54,
          7.19,
          8.32,
          7.39,
          7.11,
          8.36,
          7.48,
          7.75,
          8.39,
          7.74,
          7.92,
          7.71,
          6.64,
          2.58,
          8.13,
          8.02,
          7.24,
          7.19,
          8.38
         ],
         "xaxis": "x",
         "y": [
          97,
          95,
          82,
          79,
          98,
          90,
          77,
          81,
          82,
          77,
          82,
          77,
          82,
          81,
          84,
          83,
          83,
          81,
          80,
          80,
          77,
          82,
          77,
          79,
          79,
          78,
          79,
          81,
          77,
          80,
          78,
          84,
          80,
          79,
          83,
          84,
          82,
          90,
          78,
          80,
          78,
          81,
          80,
          82,
          82,
          80,
          78,
          81,
          80,
          79,
          98,
          81,
          81,
          84,
          82,
          78,
          81,
          78,
          91,
          78,
          91,
          78,
          84,
          80,
          82,
          79,
          80,
          100,
          82,
          81,
          79,
          84,
          83,
          84,
          78,
          80,
          77,
          80,
          78,
          83,
          86,
          78,
          82,
          81,
          82,
          94,
          81,
          81,
          84,
          94,
          83,
          77,
          78,
          80,
          77,
          79,
          77,
          78,
          83,
          78,
          78,
          83,
          78,
          78,
          82,
          77,
          81,
          80,
          78,
          83,
          83,
          80,
          77,
          81,
          80,
          83,
          79,
          78,
          96,
          79,
          78,
          80,
          77,
          79,
          80,
          82,
          89,
          80,
          84,
          82,
          79,
          81,
          84,
          81,
          82,
          78,
          86,
          78,
          87,
          93,
          77,
          80,
          80,
          82,
          78,
          82,
          88,
          91,
          81,
          85,
          79,
          80,
          87,
          83,
          79,
          80,
          83,
          99,
          80,
          94,
          83,
          77,
          78,
          80,
          77,
          79,
          77,
          78,
          83,
          78,
          78,
          83,
          78,
          78,
          82,
          77,
          81,
          80,
          83,
          84,
          78,
          80,
          77,
          99
         ],
         "yaxis": "y"
        },
        {
         "customdata": [
          [
           1.59
          ],
          [
           3.42
          ],
          [
           2.94
          ],
          [
           1.55
          ],
          [
           2.92
          ],
          [
           3
          ],
          [
           2.55
          ],
          [
           2.96
          ],
          [
           2.82
          ],
          [
           2.85
          ],
          [
           3.29
          ],
          [
           3.16
          ],
          [
           3.43
          ],
          [
           1.77
          ],
          [
           2.85
          ],
          [
           3.11
          ],
          [
           3.49
          ],
          [
           3.44
          ],
          [
           2.56
          ],
          [
           3.23
          ],
          [
           1.7
          ],
          [
           2.81
          ],
          [
           2.64
          ],
          [
           3
          ],
          [
           2.6
          ],
          [
           3.1
          ],
          [
           2.38
          ],
          [
           3.37
          ],
          [
           3.31
          ],
          [
           2.99
          ],
          [
           2.91
          ],
          [
           3
          ],
          [
           3.28
          ],
          [
           2.92
          ],
          [
           2.85
          ],
          [
           3.35
          ],
          [
           3.13
          ],
          [
           2.58
          ],
          [
           2.93
          ],
          [
           2.81
          ],
          [
           2.49
          ],
          [
           1.39
          ],
          [
           3
          ],
          [
           2.83
          ],
          [
           3.03
          ],
          [
           3.15
          ],
          [
           2.86
          ],
          [
           2.88
          ],
          [
           2.41
          ],
          [
           2.94
          ],
          [
           3.44
          ],
          [
           1.69
          ],
          [
           3.12
          ],
          [
           2.87
          ],
          [
           3.03
          ],
          [
           3.68
          ],
          [
           2.91
          ],
          [
           3.4
          ],
          [
           3.1
          ],
          [
           2.88
          ],
          [
           2.87
          ],
          [
           2.21
          ],
          [
           1.33
          ],
          [
           2.99
          ],
          [
           3.31
          ],
          [
           3.47
          ],
          [
           2.9
          ],
          [
           3.05
          ],
          [
           3.2
          ],
          [
           2.86
          ],
          [
           3.15
          ],
          [
           3.28
          ],
          [
           2.91
          ],
          [
           0
          ],
          [
           2.88
          ],
          [
           2.82
          ],
          [
           3
          ],
          [
           2.83
          ],
          [
           3.36
          ],
          [
           2.92
          ],
          [
           2.53
          ],
          [
           2.97
          ],
          [
           3.06
          ],
          [
           2
          ],
          [
           3.19
          ],
          [
           2.9
          ],
          [
           2.95
          ],
          [
           2.86
          ],
          [
           3.74
          ],
          [
           2.94
          ],
          [
           2.99
          ],
          [
           2.85
          ],
          [
           3.2
          ],
          [
           2.82
          ],
          [
           2.96
          ],
          [
           3.88
          ],
          [
           2.3
          ],
          [
           2.84
          ],
          [
           3.37
          ],
          [
           3.41
          ],
          [
           2.18
          ],
          [
           2.88
          ],
          [
           2.75
          ],
          [
           2.97
          ],
          [
           2.89
          ],
          [
           3.1
          ],
          [
           2.9
          ],
          [
           2.86
          ],
          [
           3.06
          ],
          [
           3.29
          ],
          [
           3.32
          ],
          [
           2.95
          ],
          [
           2.92
          ],
          [
           3.95
          ],
          [
           2.38
          ],
          [
           3.03
          ],
          [
           2.95
          ],
          [
           3.74
          ],
          [
           3.09
          ],
          [
           2.81
          ],
          [
           3
          ],
          [
           3
          ],
          [
           2.29
          ],
          [
           3
          ],
          [
           2.83
          ],
          [
           3.3
          ],
          [
           2.99
          ],
          [
           2.69
          ],
          [
           3.23
          ],
          [
           2.91
          ],
          [
           3.23
          ],
          [
           2.97
          ],
          [
           2.84
          ],
          [
           2.63
          ],
          [
           3.55
          ],
          [
           2.95
          ],
          [
           2.95
          ],
          [
           2.96
          ],
          [
           2.92
          ],
          [
           2.88
          ],
          [
           2.84
          ],
          [
           1.23
          ],
          [
           2.82
          ],
          [
           3.17
          ],
          [
           3.56
          ],
          [
           2.96
          ],
          [
           3.07
          ],
          [
           2.88
          ],
          [
           2.84
          ],
          [
           3.14
          ],
          [
           3.39
          ],
          [
           2.87
          ],
          [
           3.41
          ],
          [
           2.84
          ],
          [
           3.46
          ],
          [
           2.82
          ],
          [
           3.24
          ],
          [
           2.81
          ],
          [
           2.82
          ],
          [
           3.2
          ],
          [
           2.12
          ],
          [
           3.04
          ],
          [
           2.92
          ],
          [
           2.89
          ],
          [
           2.87
          ],
          [
           3.1
          ],
          [
           2.86
          ],
          [
           2.81
          ],
          [
           1.15
          ],
          [
           3.38
          ],
          [
           3.18
          ],
          [
           2.72
          ],
          [
           2.93
          ],
          [
           3.4
          ],
          [
           2.2
          ],
          [
           2.83
          ],
          [
           3.06
          ],
          [
           2.08
          ],
          [
           2.22
          ],
          [
           2.95
          ],
          [
           2.87
          ],
          [
           2.84
          ],
          [
           3.07
          ],
          [
           2.96
          ],
          [
           2.95
          ],
          [
           3.02
          ],
          [
           2.9
          ],
          [
           2.8
          ],
          [
           3
          ],
          [
           3
          ],
          [
           2.85
          ],
          [
           2.51
          ],
          [
           2.9
          ],
          [
           2.91
          ],
          [
           2.08
          ],
          [
           2.81
          ],
          [
           2.6
          ],
          [
           3.25
          ],
          [
           2.81
          ],
          [
           3.49
          ],
          [
           3.68
          ],
          [
           2.95
          ]
         ],
         "hovertemplate": "<b>%{hovertext}</b><br><br>Cluster=%{marker.color}<br>Điểm trung bình(hệ 10)=%{x}<br>Điểm rèn luyện=%{y}<br>GPA=%{customdata[0]}<extra></extra>",
         "hovertext": [
          "Trần Thanh Khang",
          "Vũ Văn Huy",
          "Nguyễn Anh Linh",
          "Nguyễn Khánh Dương",
          "Lê Quốc Tuấn",
          "Bùi Thanh Linh",
          "Vũ Hữu Bình",
          "Trần Anh Bình",
          "Đỗ Anh Anh",
          "Trần Hữu Huy",
          "Hoàng Hải Bình",
          "Đặng Thanh Huy",
          "Phan Khánh Bình",
          "Đặng Khánh Bình",
          "Nguyễn Thị Tuấn",
          "Đặng Hữu Quang",
          "Nguyễn Quốc Tuấn",
          "Vũ Anh Anh",
          "Trần Thị Cường",
          "Trần Văn Anh",
          "Bùi Thị Quang",
          "Đặng Quốc Dương",
          "Lê Quốc Tuấn",
          "Bùi Thanh Khang",
          "Phạm Khánh Huy",
          "Phạm Hải Khang",
          "Đỗ Minh Tuấn",
          "Trần Quốc Tuấn",
          "Nguyễn Anh Quang",
          "Đặng Hải Anh",
          "Hoàng Thanh Linh",
          "Hoàng Quốc Quang",
          "Hoàng Quốc Phong",
          "Lê Thanh Anh",
          "Trần Anh Quang",
          "Hoàng Minh Linh",
          "Đặng Đình Bình",
          "Đặng Văn Khang",
          "Phạm Thanh Tuấn",
          "Trần Khánh Phong",
          "Lê Thanh Bình",
          "Đỗ Quốc Dương",
          "Phan Thị Phong",
          "Nguyễn Quốc Phong",
          "Phan Quốc Phong",
          "Phạm Minh Khang",
          "Đặng Quốc Cường",
          "Bùi Hải Linh",
          "Nguyễn Hữu Tuấn",
          "Đặng Hải Dương",
          "Vũ Hải Quang",
          "Lê Văn Huy",
          "Hoàng Minh Dương",
          "Đỗ Minh Huy",
          "Đặng Hữu Anh",
          "Phạm Hải Anh",
          "Phạm Khánh Linh",
          "Đặng Anh Huy",
          "Đỗ Minh Cường",
          "Phạm Đình Quang",
          "Đỗ Hữu Huy",
          "Đặng Khánh Cường",
          "Phan Hải Phong",
          "Bùi Văn Khang",
          "Vũ Văn Bình",
          "Lê Thị Cường",
          "Đỗ Đình Dương",
          "Hoàng Hải Anh",
          "Trần Thị Tuấn",
          "Trần Thanh Cường",
          "Hoàng Thị Quang",
          "Lê Khánh Khang",
          "Vũ Đình Huy",
          "Vũ Quốc Phong",
          "Lê Minh Dương",
          "Trần Minh Phong",
          "Hoàng Quốc Huy",
          "Vũ Đình Dương",
          "Vũ Hải Linh",
          "Phan Hải Phong",
          "Trần Đình Cường",
          "Bùi Thị Huy",
          "Phan Hữu Huy",
          "Hoàng Minh Tuấn",
          "Lê Hải Tuấn",
          "Hoàng Khánh Cường",
          "Phạm Hữu Cường",
          "Vũ Thị Dương",
          "Lê Văn Quang",
          "Vũ Anh Anh",
          "Phan Đình Dương",
          "Phan Minh Linh",
          "Lê Hữu Huy",
          "Trần Thị Linh",
          "Vũ Thị Tuấn",
          "Lê Khánh Linh",
          "Hoàng Hữu Tuấn",
          "Phạm Hải Cường",
          "Nguyễn Thị Dương",
          "Hoàng Thị Dương",
          "Trần Quốc Cường",
          "Bùi Khánh Anh",
          "Trần Hải Quang",
          "Nguyễn Văn Cường",
          "Bùi Văn Khang",
          "Lê Đình Anh",
          "Lê Anh Linh",
          "Phan Minh Tuấn",
          "Bùi Hải Dương",
          "Đỗ Đình Bình",
          "Hoàng Minh Dương",
          "Phan Thị Cường",
          "Vũ Văn Bình",
          "Đỗ Hải Tuấn",
          "Bùi Thanh Anh",
          "Phạm Khánh Quang",
          "Lê Hữu Cường",
          "Trần Hữu Cường",
          "Trần Văn Khang",
          "Phạm Hữu Bình",
          "Trần Thanh Khang",
          "Phạm Thanh Anh",
          "Phan Hữu Linh",
          "Đặng Hải Huy",
          "Bùi Thị Linh",
          "Lê Khánh Linh",
          "Hoàng Thị Khang",
          "Đặng Thị Tuấn",
          "Phan Thị Cường",
          "Lê Văn Quang",
          "Nguyễn Quốc Dương",
          "Bùi Khánh Khang",
          "Hoàng Minh Tuấn",
          "Đặng Anh Linh",
          "Vũ Văn Linh",
          "Phan Thanh Cường",
          "Đặng Minh Linh",
          "Lê Quốc Quang",
          "Phạm Khánh Quang",
          "Trần Quốc Quang",
          "Đặng Hữu Phong",
          "Vũ Hải Khang",
          "Phạm Thị Linh",
          "Phan Thanh Cường",
          "Lê Minh Cường",
          "Phan Văn Quang",
          "Bùi Anh Khang",
          "Phan Khánh Anh",
          "Đặng Hữu Phong",
          "Trần Anh Cường",
          "Hoàng Thanh Phong",
          "Phan Hữu Linh",
          "Trần Quốc Dương",
          "Đỗ Đình Quang",
          "Lê Đình Huy",
          "Phan Hữu Quang",
          "Đỗ Quốc Khang",
          "Đặng Văn Anh",
          "Phan Hải Tuấn",
          "Vũ Thị Dương",
          "Đỗ Khánh Dương",
          "Bùi Thanh Khang",
          "Vũ Thị Bình",
          "Đỗ Đình Anh",
          "Đặng Thị Linh",
          "Nguyễn Đình Huy",
          "Đặng Hải Linh",
          "Đỗ Minh Huy",
          "Bùi Văn Phong",
          "Vũ Quốc Dương",
          "Phan Minh Bình",
          "Vũ Khánh Huy",
          "Hoàng Quốc Cường",
          "Đặng Thanh Dương",
          "Phan Quốc Cường",
          "Lê Thanh Phong",
          "Nguyễn Hải Linh",
          "Trần Anh Huy",
          "Lê Hữu Cường",
          "Nguyễn Khánh Cường",
          "Trần Quốc Huy",
          "Đỗ Khánh Quang",
          "Nguyễn Văn Quang",
          "Đỗ Quốc Tuấn",
          "Đặng Đình Tuấn",
          "Trần Thị Huy",
          "Lê Anh Linh",
          "Phạm Anh Phong",
          "Phan Anh Linh",
          "Đặng Văn Bình",
          "Nguyễn Anh Bình",
          "Nguyễn Hữu Bình",
          "Vũ Minh Anh",
          "Đặng Hải Dương",
          "Phạm Thanh Anh",
          "Bùi Minh Anh",
          "Đặng Minh Quang",
          "Hoàng Văn Dương",
          "Bùi Minh Anh",
          "Vũ Minh Khang",
          "Vũ Văn Huy",
          "Hoàng Thanh Dương"
         ],
         "legendgroup": "1",
         "marker": {
          "color": [
           1,
           1,
           1,
           1,
           1,
           1,
           1,
           1,
           1,
           1,
           1,
           1,
           1,
           1,
           1,
           1,
           1,
           1,
           1,
           1,
           1,
           1,
           1,
           1,
           1,
           1,
           1,
           1,
           1,
           1,
           1,
           1,
           1,
           1,
           1,
           1,
           1,
           1,
           1,
           1,
           1,
           1,
           1,
           1,
           1,
           1,
           1,
           1,
           1,
           1,
           1,
           1,
           1,
           1,
           1,
           1,
           1,
           1,
           1,
           1,
           1,
           1,
           1,
           1,
           1,
           1,
           1,
           1,
           1,
           1,
           1,
           1,
           1,
           1,
           1,
           1,
           1,
           1,
           1,
           1,
           1,
           1,
           1,
           1,
           1,
           1,
           1,
           1,
           1,
           1,
           1,
           1,
           1,
           1,
           1,
           1,
           1,
           1,
           1,
           1,
           1,
           1,
           1,
           1,
           1,
           1,
           1,
           1,
           1,
           1,
           1,
           1,
           1,
           1,
           1,
           1,
           1,
           1,
           1,
           1,
           1,
           1,
           1,
           1,
           1,
           1,
           1,
           1,
           1,
           1,
           1,
           1,
           1,
           1,
           1,
           1,
           1,
           1,
           1,
           1,
           1,
           1,
           1,
           1,
           1,
           1,
           1,
           1,
           1,
           1,
           1,
           1,
           1,
           1,
           1,
           1,
           1,
           1,
           1,
           1,
           1,
           1,
           1,
           1,
           1,
           1,
           1,
           1,
           1,
           1,
           1,
           1,
           1,
           1,
           1,
           1,
           1,
           1,
           1,
           1,
           1,
           1,
           1,
           1,
           1,
           1,
           1,
           1,
           1,
           1,
           1,
           1,
           1,
           1,
           1,
           1,
           1,
           1,
           1,
           1,
           1,
           1
          ],
          "coloraxis": "coloraxis",
          "symbol": "diamond"
         },
         "mode": "markers",
         "name": "1",
         "orientation": "v",
         "showlegend": true,
         "type": "scatter",
         "x": [
          5.12,
          8.09,
          7.75,
          4.99,
          7.33,
          7.06,
          6.52,
          7.52,
          7.11,
          7.63,
          7.95,
          7.91,
          7.8,
          5.26,
          7.32,
          8.35,
          8.3,
          7.87,
          6.82,
          8.3,
          5.31,
          7.24,
          6.67,
          7.19,
          6.6,
          7.86,
          6.07,
          8.08,
          8.17,
          7.48,
          7.78,
          7.35,
          8.33,
          7.15,
          7.46,
          8.3,
          7.81,
          6.41,
          7.26,
          7.76,
          5.72,
          4.59,
          7.21,
          7.1,
          8.25,
          7.98,
          7.69,
          7.52,
          6.02,
          7.03,
          8.02,
          4.88,
          8,
          7.73,
          8.1,
          9.43,
          7.53,
          8.23,
          8.33,
          7.41,
          7.29,
          6.26,
          4.79,
          7.41,
          8.23,
          8.12,
          7.15,
          7.8,
          8.34,
          7.1,
          8.3,
          7.98,
          7.27,
          0.37,
          7.01,
          7.62,
          7.2,
          7.4,
          8.12,
          7.58,
          6.87,
          7.6,
          8.28,
          5.8,
          7.84,
          7.05,
          7.23,
          7.33,
          8.95,
          7.65,
          7.21,
          7.04,
          7.84,
          7.17,
          7.25,
          9.17,
          6.11,
          7.73,
          7.8,
          8.19,
          5.82,
          7.78,
          6.61,
          7.76,
          7.15,
          7.83,
          7.19,
          7.4,
          8.05,
          8.3,
          8.04,
          7.36,
          7.76,
          8.76,
          5.88,
          8.23,
          7.21,
          9.3,
          8.02,
          7.77,
          7.44,
          7.69,
          6.22,
          7.8,
          7.63,
          8.06,
          7.18,
          6.46,
          8.06,
          7.78,
          8,
          7.27,
          7.23,
          6.42,
          9.79,
          7.69,
          7.25,
          7.44,
          7.27,
          7.16,
          7.74,
          4.36,
          7.03,
          8.4,
          9.22,
          7.41,
          7.89,
          7.23,
          7.47,
          8.11,
          7.83,
          7.22,
          8.13,
          7.27,
          8.13,
          7.18,
          7.91,
          7.65,
          7.73,
          8.33,
          5.9,
          8.27,
          7.22,
          7.17,
          7.79,
          8.25,
          7.4,
          7.29,
          4.58,
          7.83,
          7.82,
          6.63,
          7.63,
          7.85,
          6.21,
          7.46,
          7.83,
          5.77,
          5.74,
          7.54,
          7.36,
          7.79,
          8.31,
          7.25,
          7.3,
          7.85,
          7.38,
          7.48,
          7.4,
          7.45,
          7.48,
          6.56,
          7.03,
          7.63,
          5.92,
          7.05,
          6.71,
          8.22,
          7.57,
          7.8,
          9.4,
          7.52
         ],
         "xaxis": "x",
         "y": [
          75,
          62,
          71,
          61,
          64,
          63,
          74,
          65,
          76,
          74,
          74,
          70,
          76,
          73,
          66,
          71,
          66,
          76,
          63,
          60,
          71,
          76,
          71,
          71,
          73,
          74,
          74,
          72,
          64,
          63,
          63,
          75,
          71,
          74,
          63,
          73,
          68,
          65,
          75,
          74,
          60,
          75,
          75,
          68,
          73,
          72,
          66,
          74,
          73,
          61,
          71,
          65,
          74,
          69,
          72,
          71,
          74,
          76,
          76,
          71,
          71,
          76,
          74,
          70,
          74,
          71,
          66,
          74,
          72,
          68,
          75,
          75,
          72,
          75,
          69,
          74,
          73,
          76,
          66,
          72,
          64,
          75,
          71,
          72,
          71,
          71,
          66,
          74,
          68,
          63,
          70,
          71,
          75,
          61,
          64,
          73,
          62,
          72,
          74,
          74,
          74,
          67,
          74,
          76,
          73,
          63,
          64,
          74,
          74,
          76,
          72,
          75,
          66,
          63,
          74,
          74,
          75,
          71,
          70,
          74,
          68,
          71,
          74,
          74,
          76,
          73,
          73,
          62,
          76,
          75,
          61,
          66,
          74,
          72,
          68,
          73,
          71,
          73,
          75,
          71,
          76,
          63,
          69,
          70,
          72,
          75,
          72,
          74,
          70,
          74,
          72,
          75,
          66,
          71,
          64,
          75,
          67,
          76,
          72,
          67,
          70,
          76,
          62,
          63,
          64,
          70,
          70,
          66,
          70,
          63,
          63,
          71,
          74,
          76,
          76,
          75,
          75,
          71,
          71,
          66,
          76,
          76,
          70,
          65,
          72,
          73,
          74,
          73,
          76,
          75,
          75,
          68,
          76,
          67,
          74,
          76,
          73,
          63,
          64,
          74,
          72,
          64
         ],
         "yaxis": "y"
        },
        {
         "customdata": [
          [
           2.92
          ],
          [
           3.2
          ],
          [
           2.95
          ],
          [
           3.43
          ],
          [
           3.59
          ],
          [
           2.91
          ],
          [
           3.29
          ],
          [
           2.99
          ],
          [
           3
          ],
          [
           2.8
          ],
          [
           3.52
          ],
          [
           2.97
          ],
          [
           2.96
          ],
          [
           3.15
          ],
          [
           3.26
          ],
          [
           3.25
          ],
          [
           0
          ],
          [
           1.04
          ],
          [
           2.98
          ],
          [
           3.25
          ],
          [
           3.15
          ],
          [
           1.41
          ],
          [
           2.91
          ],
          [
           2.06
          ],
          [
           3.31
          ],
          [
           3.27
          ],
          [
           3.28
          ],
          [
           2.81
          ],
          [
           2.91
          ],
          [
           2.98
          ],
          [
           1.45
          ],
          [
           3.5
          ],
          [
           3.15
          ],
          [
           2.8
          ],
          [
           3.78
          ],
          [
           2.98
          ],
          [
           3.16
          ],
          [
           2.54
          ],
          [
           2.95
          ],
          [
           3.3
          ],
          [
           3.46
          ],
          [
           2.9
          ],
          [
           2.84
          ],
          [
           2.92
          ],
          [
           3.48
          ],
          [
           2.29
          ],
          [
           2.96
          ],
          [
           3.19
          ],
          [
           2.99
          ],
          [
           2.93
          ],
          [
           3.03
          ],
          [
           2.87
          ],
          [
           3.44
          ],
          [
           3.74
          ],
          [
           2.02
          ],
          [
           3.42
          ],
          [
           2.65
          ],
          [
           3.29
          ],
          [
           3.48
          ],
          [
           3.26
          ],
          [
           2.29
          ],
          [
           2.98
          ],
          [
           1.1
          ],
          [
           2.94
          ],
          [
           2.81
          ],
          [
           2.81
          ],
          [
           3.48
          ],
          [
           3.01
          ],
          [
           3.08
          ],
          [
           2.73
          ],
          [
           3.16
          ],
          [
           3.24
          ],
          [
           3.71
          ],
          [
           2.9
          ],
          [
           3.17
          ],
          [
           2.78
          ],
          [
           2.8
          ],
          [
           3.17
          ],
          [
           2.84
          ],
          [
           2.87
          ],
          [
           3.43
          ],
          [
           2.81
          ],
          [
           3.23
          ],
          [
           3.29
          ],
          [
           3.34
          ],
          [
           3.23
          ],
          [
           2.96
          ],
          [
           2.84
          ],
          [
           3.18
          ],
          [
           3.47
          ],
          [
           2.88
          ],
          [
           2.11
          ],
          [
           3.25
          ],
          [
           3.34
          ],
          [
           2.98
          ],
          [
           2.8
          ],
          [
           3.34
          ],
          [
           3.26
          ],
          [
           2.88
          ],
          [
           3.24
          ],
          [
           2.89
          ],
          [
           3.39
          ],
          [
           2.91
          ],
          [
           2.86
          ],
          [
           2.97
          ],
          [
           3
          ],
          [
           2.94
          ],
          [
           2.88
          ],
          [
           3.03
          ],
          [
           3.01
          ],
          [
           3.25
          ],
          [
           3.05
          ],
          [
           3.12
          ],
          [
           2.7
          ]
         ],
         "hovertemplate": "<b>%{hovertext}</b><br><br>Cluster=%{marker.color}<br>Điểm trung bình(hệ 10)=%{x}<br>Điểm rèn luyện=%{y}<br>GPA=%{customdata[0]}<extra></extra>",
         "hovertext": [
          "Bùi Khánh Quang",
          "Trần Minh Huy",
          "Phan Hữu Quang",
          "Bùi Thị Huy",
          "Trần Hữu Bình",
          "Nguyễn Hải Tuấn",
          "Hoàng Hải Dương",
          "Lê Hải Phong",
          "Phan Hải Bình",
          "Hoàng Thị Dương",
          "Phạm Minh Quang",
          "Hoàng Anh Tuấn",
          "Đỗ Văn Khang",
          "Nguyễn Đình Tuấn",
          "Lê Anh Phong",
          "Lê Thị Cường",
          "Đặng Hải Cường",
          "Vũ Đình Khang",
          "Phạm Văn Quang",
          "Nguyễn Hữu Linh",
          "Đỗ Anh Dương",
          "Bùi Anh Tuấn",
          "Đỗ Hữu Linh",
          "Đặng Thanh Huy",
          "Bùi Văn Linh",
          "Đỗ Văn Phong",
          "Vũ Hữu Dương",
          "Trần Quốc Huy",
          "Phan Đình Cường",
          "Hoàng Đình Dương",
          "Vũ Khánh Cường",
          "Vũ Hải Bình",
          "Phan Quốc Bình",
          "Lê Quốc Cường",
          "Lê Quốc Dương",
          "Phạm Khánh Phong",
          "Đặng Anh Tuấn",
          "Phan Minh Anh",
          "Bùi Quốc Khang",
          "Phan Quốc Tuấn",
          "Đỗ Đình Linh",
          "Đặng Khánh Bình",
          "Trần Anh Anh",
          "Phạm Anh Khang",
          "Hoàng Văn Quang",
          "Nguyễn Hữu Khang",
          "Đỗ Minh Dương",
          "Nguyễn Hải Tuấn",
          "Lê Thị Anh",
          "Hoàng Thanh Bình",
          "Trần Hải Dương",
          "Lê Hải Linh",
          "Bùi Hải Phong",
          "Trần Anh Dương",
          "Phạm Quốc Anh",
          "Phan Hải Anh",
          "Lê Minh Dương",
          "Bùi Thị Phương",
          "Phan Khánh Quang",
          "Phạm Minh Dương",
          "Nguyễn Thanh Tuấn",
          "Bùi Đình Huy",
          "Vũ Quốc Quang",
          "Phan Hải Cường",
          "Đặng Thị Cường",
          "Lê Đình Quang",
          "Bùi Minh Anh",
          "Phan Hữu Quang",
          "Vũ Hải Anh",
          "Đặng Thị Tuấn",
          "Nguyễn Khánh Phong",
          "Bùi Đình Anh",
          "Đặng Hải Cường",
          "Nguyễn Minh Linh",
          "Vũ Thanh Dương",
          "Vũ Thanh Dương",
          "Hoàng Anh Huy",
          "Trần Anh Quang",
          "Trần Thanh Huy",
          "Đỗ Anh Phong",
          "Phạm Anh Phong",
          "Nguyễn Thanh Quang",
          "Hoàng Đình Bình",
          "Phạm Đình Cường",
          "Phạm Hải Huy",
          "Lê Đình Bình",
          "Lê Quốc Dương",
          "Hoàng Văn Phong",
          "Hoàng Quốc Phong",
          "Lê Thị Dương",
          "Bùi Thị Anh",
          "Phạm Thị Phong",
          "Nguyễn Thị Quang",
          "Trần Hữu Phong",
          "Nguyễn Thị Anh",
          "Vũ Thanh Linh",
          "Vũ Anh Bình",
          "Nguyễn Đình Linh",
          "Trần Văn Cường",
          "Bùi Thanh Cường",
          "Vũ Anh Phong",
          "Phạm Hải Dương",
          "Hoàng Anh Linh",
          "Nguyễn Quốc Huy",
          "Đỗ Minh Cường",
          "Trần Minh Quang",
          "Đỗ Anh Tuấn",
          "Lê Đình Khang",
          "Đỗ Đình Dương",
          "Đặng Thị Huy",
          "Hoàng Thị Khang",
          "Phan Thị Anh",
          "Hoàng Hải Cường",
          "Phan Thị Huy"
         ],
         "legendgroup": "0",
         "marker": {
          "color": [
           0,
           0,
           0,
           0,
           0,
           0,
           0,
           0,
           0,
           0,
           0,
           0,
           0,
           0,
           0,
           0,
           0,
           0,
           0,
           0,
           0,
           0,
           0,
           0,
           0,
           0,
           0,
           0,
           0,
           0,
           0,
           0,
           0,
           0,
           0,
           0,
           0,
           0,
           0,
           0,
           0,
           0,
           0,
           0,
           0,
           0,
           0,
           0,
           0,
           0,
           0,
           0,
           0,
           0,
           0,
           0,
           0,
           0,
           0,
           0,
           0,
           0,
           0,
           0,
           0,
           0,
           0,
           0,
           0,
           0,
           0,
           0,
           0,
           0,
           0,
           0,
           0,
           0,
           0,
           0,
           0,
           0,
           0,
           0,
           0,
           0,
           0,
           0,
           0,
           0,
           0,
           0,
           0,
           0,
           0,
           0,
           0,
           0,
           0,
           0,
           0,
           0,
           0,
           0,
           0,
           0,
           0,
           0,
           0,
           0,
           0,
           0,
           0,
           0
          ],
          "coloraxis": "coloraxis",
          "symbol": "square"
         },
         "mode": "markers",
         "name": "0",
         "orientation": "v",
         "showlegend": true,
         "type": "scatter",
         "x": [
          7.01,
          8.25,
          7.45,
          8.17,
          9.47,
          7.7,
          8.35,
          7.07,
          7.56,
          7.56,
          9.31,
          7.66,
          7.42,
          7.94,
          8.37,
          8.19,
          0.29,
          4.31,
          7.25,
          8.18,
          8.04,
          4.73,
          7.42,
          5.71,
          7.83,
          8.38,
          7.95,
          7,
          7.45,
          7.74,
          4.61,
          9.81,
          8.31,
          7.65,
          8.78,
          7.46,
          8.39,
          6.74,
          7.24,
          7.9,
          7.94,
          7.33,
          7.08,
          7.43,
          7.97,
          5.81,
          7.37,
          7.85,
          7.4,
          7.78,
          8.2,
          7.49,
          7.89,
          9.34,
          5.95,
          8.06,
          6.38,
          8.2,
          8.36,
          7.9,
          5.7,
          7.43,
          4.61,
          7.3,
          7.69,
          7.18,
          7.93,
          7.9,
          8.24,
          6.76,
          8.16,
          8.21,
          8.83,
          7.49,
          8.39,
          6.86,
          7.63,
          7.85,
          7.31,
          7.43,
          7.9,
          7.44,
          8.23,
          8.36,
          8.07,
          8.28,
          7.27,
          7.25,
          8.28,
          8.2,
          7.5,
          5.89,
          7.98,
          7.81,
          7.27,
          7.26,
          7.9,
          7.96,
          7.24,
          8.07,
          7.69,
          8.37,
          7.67,
          7.2,
          7.21,
          7.95,
          7.19,
          7.12,
          7.84,
          8,
          8.27,
          7.87,
          7.81,
          6.41
         ],
         "xaxis": "x",
         "y": [
          41,
          58,
          48,
          51,
          41,
          51,
          46,
          41,
          46,
          51,
          44,
          59,
          46,
          56,
          56,
          55,
          44,
          45,
          49,
          41,
          57,
          46,
          50,
          50,
          51,
          53,
          43,
          41,
          43,
          30,
          58,
          58,
          48,
          47,
          57,
          45,
          20,
          40,
          52,
          42,
          56,
          41,
          47,
          58,
          57,
          48,
          49,
          38,
          59,
          43,
          43,
          47,
          58,
          54,
          47,
          41,
          56,
          44,
          54,
          45,
          58,
          48,
          56,
          45,
          58,
          54,
          47,
          40,
          47,
          43,
          45,
          57,
          56,
          54,
          59,
          49,
          47,
          31,
          43,
          58,
          57,
          59,
          59,
          43,
          55,
          45,
          55,
          42,
          42,
          42,
          50,
          57,
          48,
          56,
          59,
          57,
          47,
          44,
          53,
          43,
          43,
          47,
          58,
          54,
          47,
          41,
          56,
          44,
          54,
          42,
          56,
          41,
          47,
          55
         ],
         "yaxis": "y"
        },
        {
         "marker": {
          "color": "red",
          "size": 10,
          "symbol": "star"
         },
         "mode": "markers",
         "name": "Centroids",
         "type": "scatter",
         "x": [
          7.526666666666666,
          7.378415841584158,
          7.4538586956521735
         ],
         "y": [
          48.92982456140349,
          70.70792079207921,
          81.7228260869565
         ]
        }
       ],
       "layout": {
        "coloraxis": {
         "colorbar": {
          "title": {
           "text": "Cluster"
          }
         },
         "colorscale": [
          [
           0,
           "#0d0887"
          ],
          [
           0.1111111111111111,
           "#46039f"
          ],
          [
           0.2222222222222222,
           "#7201a8"
          ],
          [
           0.3333333333333333,
           "#9c179e"
          ],
          [
           0.4444444444444444,
           "#bd3786"
          ],
          [
           0.5555555555555556,
           "#d8576b"
          ],
          [
           0.6666666666666666,
           "#ed7953"
          ],
          [
           0.7777777777777778,
           "#fb9f3a"
          ],
          [
           0.8888888888888888,
           "#fdca26"
          ],
          [
           1,
           "#f0f921"
          ]
         ]
        },
        "legend": {
         "font": {
          "color": "black",
          "size": 10
         },
         "title": {
          "text": "Cluster"
         },
         "tracegroupgap": 0,
         "x": 0,
         "y": 0
        },
        "template": {
         "data": {
          "bar": [
           {
            "error_x": {
             "color": "#2a3f5f"
            },
            "error_y": {
             "color": "#2a3f5f"
            },
            "marker": {
             "line": {
              "color": "#E5ECF6",
              "width": 0.5
             },
             "pattern": {
              "fillmode": "overlay",
              "size": 10,
              "solidity": 0.2
             }
            },
            "type": "bar"
           }
          ],
          "barpolar": [
           {
            "marker": {
             "line": {
              "color": "#E5ECF6",
              "width": 0.5
             },
             "pattern": {
              "fillmode": "overlay",
              "size": 10,
              "solidity": 0.2
             }
            },
            "type": "barpolar"
           }
          ],
          "carpet": [
           {
            "aaxis": {
             "endlinecolor": "#2a3f5f",
             "gridcolor": "white",
             "linecolor": "white",
             "minorgridcolor": "white",
             "startlinecolor": "#2a3f5f"
            },
            "baxis": {
             "endlinecolor": "#2a3f5f",
             "gridcolor": "white",
             "linecolor": "white",
             "minorgridcolor": "white",
             "startlinecolor": "#2a3f5f"
            },
            "type": "carpet"
           }
          ],
          "choropleth": [
           {
            "colorbar": {
             "outlinewidth": 0,
             "ticks": ""
            },
            "type": "choropleth"
           }
          ],
          "contour": [
           {
            "colorbar": {
             "outlinewidth": 0,
             "ticks": ""
            },
            "colorscale": [
             [
              0,
              "#0d0887"
             ],
             [
              0.1111111111111111,
              "#46039f"
             ],
             [
              0.2222222222222222,
              "#7201a8"
             ],
             [
              0.3333333333333333,
              "#9c179e"
             ],
             [
              0.4444444444444444,
              "#bd3786"
             ],
             [
              0.5555555555555556,
              "#d8576b"
             ],
             [
              0.6666666666666666,
              "#ed7953"
             ],
             [
              0.7777777777777778,
              "#fb9f3a"
             ],
             [
              0.8888888888888888,
              "#fdca26"
             ],
             [
              1,
              "#f0f921"
             ]
            ],
            "type": "contour"
           }
          ],
          "contourcarpet": [
           {
            "colorbar": {
             "outlinewidth": 0,
             "ticks": ""
            },
            "type": "contourcarpet"
           }
          ],
          "heatmap": [
           {
            "colorbar": {
             "outlinewidth": 0,
             "ticks": ""
            },
            "colorscale": [
             [
              0,
              "#0d0887"
             ],
             [
              0.1111111111111111,
              "#46039f"
             ],
             [
              0.2222222222222222,
              "#7201a8"
             ],
             [
              0.3333333333333333,
              "#9c179e"
             ],
             [
              0.4444444444444444,
              "#bd3786"
             ],
             [
              0.5555555555555556,
              "#d8576b"
             ],
             [
              0.6666666666666666,
              "#ed7953"
             ],
             [
              0.7777777777777778,
              "#fb9f3a"
             ],
             [
              0.8888888888888888,
              "#fdca26"
             ],
             [
              1,
              "#f0f921"
             ]
            ],
            "type": "heatmap"
           }
          ],
          "heatmapgl": [
           {
            "colorbar": {
             "outlinewidth": 0,
             "ticks": ""
            },
            "colorscale": [
             [
              0,
              "#0d0887"
             ],
             [
              0.1111111111111111,
              "#46039f"
             ],
             [
              0.2222222222222222,
              "#7201a8"
             ],
             [
              0.3333333333333333,
              "#9c179e"
             ],
             [
              0.4444444444444444,
              "#bd3786"
             ],
             [
              0.5555555555555556,
              "#d8576b"
             ],
             [
              0.6666666666666666,
              "#ed7953"
             ],
             [
              0.7777777777777778,
              "#fb9f3a"
             ],
             [
              0.8888888888888888,
              "#fdca26"
             ],
             [
              1,
              "#f0f921"
             ]
            ],
            "type": "heatmapgl"
           }
          ],
          "histogram": [
           {
            "marker": {
             "pattern": {
              "fillmode": "overlay",
              "size": 10,
              "solidity": 0.2
             }
            },
            "type": "histogram"
           }
          ],
          "histogram2d": [
           {
            "colorbar": {
             "outlinewidth": 0,
             "ticks": ""
            },
            "colorscale": [
             [
              0,
              "#0d0887"
             ],
             [
              0.1111111111111111,
              "#46039f"
             ],
             [
              0.2222222222222222,
              "#7201a8"
             ],
             [
              0.3333333333333333,
              "#9c179e"
             ],
             [
              0.4444444444444444,
              "#bd3786"
             ],
             [
              0.5555555555555556,
              "#d8576b"
             ],
             [
              0.6666666666666666,
              "#ed7953"
             ],
             [
              0.7777777777777778,
              "#fb9f3a"
             ],
             [
              0.8888888888888888,
              "#fdca26"
             ],
             [
              1,
              "#f0f921"
             ]
            ],
            "type": "histogram2d"
           }
          ],
          "histogram2dcontour": [
           {
            "colorbar": {
             "outlinewidth": 0,
             "ticks": ""
            },
            "colorscale": [
             [
              0,
              "#0d0887"
             ],
             [
              0.1111111111111111,
              "#46039f"
             ],
             [
              0.2222222222222222,
              "#7201a8"
             ],
             [
              0.3333333333333333,
              "#9c179e"
             ],
             [
              0.4444444444444444,
              "#bd3786"
             ],
             [
              0.5555555555555556,
              "#d8576b"
             ],
             [
              0.6666666666666666,
              "#ed7953"
             ],
             [
              0.7777777777777778,
              "#fb9f3a"
             ],
             [
              0.8888888888888888,
              "#fdca26"
             ],
             [
              1,
              "#f0f921"
             ]
            ],
            "type": "histogram2dcontour"
           }
          ],
          "mesh3d": [
           {
            "colorbar": {
             "outlinewidth": 0,
             "ticks": ""
            },
            "type": "mesh3d"
           }
          ],
          "parcoords": [
           {
            "line": {
             "colorbar": {
              "outlinewidth": 0,
              "ticks": ""
             }
            },
            "type": "parcoords"
           }
          ],
          "pie": [
           {
            "automargin": true,
            "type": "pie"
           }
          ],
          "scatter": [
           {
            "fillpattern": {
             "fillmode": "overlay",
             "size": 10,
             "solidity": 0.2
            },
            "type": "scatter"
           }
          ],
          "scatter3d": [
           {
            "line": {
             "colorbar": {
              "outlinewidth": 0,
              "ticks": ""
             }
            },
            "marker": {
             "colorbar": {
              "outlinewidth": 0,
              "ticks": ""
             }
            },
            "type": "scatter3d"
           }
          ],
          "scattercarpet": [
           {
            "marker": {
             "colorbar": {
              "outlinewidth": 0,
              "ticks": ""
             }
            },
            "type": "scattercarpet"
           }
          ],
          "scattergeo": [
           {
            "marker": {
             "colorbar": {
              "outlinewidth": 0,
              "ticks": ""
             }
            },
            "type": "scattergeo"
           }
          ],
          "scattergl": [
           {
            "marker": {
             "colorbar": {
              "outlinewidth": 0,
              "ticks": ""
             }
            },
            "type": "scattergl"
           }
          ],
          "scattermapbox": [
           {
            "marker": {
             "colorbar": {
              "outlinewidth": 0,
              "ticks": ""
             }
            },
            "type": "scattermapbox"
           }
          ],
          "scatterpolar": [
           {
            "marker": {
             "colorbar": {
              "outlinewidth": 0,
              "ticks": ""
             }
            },
            "type": "scatterpolar"
           }
          ],
          "scatterpolargl": [
           {
            "marker": {
             "colorbar": {
              "outlinewidth": 0,
              "ticks": ""
             }
            },
            "type": "scatterpolargl"
           }
          ],
          "scatterternary": [
           {
            "marker": {
             "colorbar": {
              "outlinewidth": 0,
              "ticks": ""
             }
            },
            "type": "scatterternary"
           }
          ],
          "surface": [
           {
            "colorbar": {
             "outlinewidth": 0,
             "ticks": ""
            },
            "colorscale": [
             [
              0,
              "#0d0887"
             ],
             [
              0.1111111111111111,
              "#46039f"
             ],
             [
              0.2222222222222222,
              "#7201a8"
             ],
             [
              0.3333333333333333,
              "#9c179e"
             ],
             [
              0.4444444444444444,
              "#bd3786"
             ],
             [
              0.5555555555555556,
              "#d8576b"
             ],
             [
              0.6666666666666666,
              "#ed7953"
             ],
             [
              0.7777777777777778,
              "#fb9f3a"
             ],
             [
              0.8888888888888888,
              "#fdca26"
             ],
             [
              1,
              "#f0f921"
             ]
            ],
            "type": "surface"
           }
          ],
          "table": [
           {
            "cells": {
             "fill": {
              "color": "#EBF0F8"
             },
             "line": {
              "color": "white"
             }
            },
            "header": {
             "fill": {
              "color": "#C8D4E3"
             },
             "line": {
              "color": "white"
             }
            },
            "type": "table"
           }
          ]
         },
         "layout": {
          "annotationdefaults": {
           "arrowcolor": "#2a3f5f",
           "arrowhead": 0,
           "arrowwidth": 1
          },
          "autotypenumbers": "strict",
          "coloraxis": {
           "colorbar": {
            "outlinewidth": 0,
            "ticks": ""
           }
          },
          "colorscale": {
           "diverging": [
            [
             0,
             "#8e0152"
            ],
            [
             0.1,
             "#c51b7d"
            ],
            [
             0.2,
             "#de77ae"
            ],
            [
             0.3,
             "#f1b6da"
            ],
            [
             0.4,
             "#fde0ef"
            ],
            [
             0.5,
             "#f7f7f7"
            ],
            [
             0.6,
             "#e6f5d0"
            ],
            [
             0.7,
             "#b8e186"
            ],
            [
             0.8,
             "#7fbc41"
            ],
            [
             0.9,
             "#4d9221"
            ],
            [
             1,
             "#276419"
            ]
           ],
           "sequential": [
            [
             0,
             "#0d0887"
            ],
            [
             0.1111111111111111,
             "#46039f"
            ],
            [
             0.2222222222222222,
             "#7201a8"
            ],
            [
             0.3333333333333333,
             "#9c179e"
            ],
            [
             0.4444444444444444,
             "#bd3786"
            ],
            [
             0.5555555555555556,
             "#d8576b"
            ],
            [
             0.6666666666666666,
             "#ed7953"
            ],
            [
             0.7777777777777778,
             "#fb9f3a"
            ],
            [
             0.8888888888888888,
             "#fdca26"
            ],
            [
             1,
             "#f0f921"
            ]
           ],
           "sequentialminus": [
            [
             0,
             "#0d0887"
            ],
            [
             0.1111111111111111,
             "#46039f"
            ],
            [
             0.2222222222222222,
             "#7201a8"
            ],
            [
             0.3333333333333333,
             "#9c179e"
            ],
            [
             0.4444444444444444,
             "#bd3786"
            ],
            [
             0.5555555555555556,
             "#d8576b"
            ],
            [
             0.6666666666666666,
             "#ed7953"
            ],
            [
             0.7777777777777778,
             "#fb9f3a"
            ],
            [
             0.8888888888888888,
             "#fdca26"
            ],
            [
             1,
             "#f0f921"
            ]
           ]
          },
          "colorway": [
           "#636efa",
           "#EF553B",
           "#00cc96",
           "#ab63fa",
           "#FFA15A",
           "#19d3f3",
           "#FF6692",
           "#B6E880",
           "#FF97FF",
           "#FECB52"
          ],
          "font": {
           "color": "#2a3f5f"
          },
          "geo": {
           "bgcolor": "white",
           "lakecolor": "white",
           "landcolor": "#E5ECF6",
           "showlakes": true,
           "showland": true,
           "subunitcolor": "white"
          },
          "hoverlabel": {
           "align": "left"
          },
          "hovermode": "closest",
          "mapbox": {
           "style": "light"
          },
          "paper_bgcolor": "white",
          "plot_bgcolor": "#E5ECF6",
          "polar": {
           "angularaxis": {
            "gridcolor": "white",
            "linecolor": "white",
            "ticks": ""
           },
           "bgcolor": "#E5ECF6",
           "radialaxis": {
            "gridcolor": "white",
            "linecolor": "white",
            "ticks": ""
           }
          },
          "scene": {
           "xaxis": {
            "backgroundcolor": "#E5ECF6",
            "gridcolor": "white",
            "gridwidth": 2,
            "linecolor": "white",
            "showbackground": true,
            "ticks": "",
            "zerolinecolor": "white"
           },
           "yaxis": {
            "backgroundcolor": "#E5ECF6",
            "gridcolor": "white",
            "gridwidth": 2,
            "linecolor": "white",
            "showbackground": true,
            "ticks": "",
            "zerolinecolor": "white"
           },
           "zaxis": {
            "backgroundcolor": "#E5ECF6",
            "gridcolor": "white",
            "gridwidth": 2,
            "linecolor": "white",
            "showbackground": true,
            "ticks": "",
            "zerolinecolor": "white"
           }
          },
          "shapedefaults": {
           "line": {
            "color": "#2a3f5f"
           }
          },
          "ternary": {
           "aaxis": {
            "gridcolor": "white",
            "linecolor": "white",
            "ticks": ""
           },
           "baxis": {
            "gridcolor": "white",
            "linecolor": "white",
            "ticks": ""
           },
           "bgcolor": "#E5ECF6",
           "caxis": {
            "gridcolor": "white",
            "linecolor": "white",
            "ticks": ""
           }
          },
          "title": {
           "x": 0.05
          },
          "xaxis": {
           "automargin": true,
           "gridcolor": "white",
           "linecolor": "white",
           "ticks": "",
           "title": {
            "standoff": 15
           },
           "zerolinecolor": "white",
           "zerolinewidth": 2
          },
          "yaxis": {
           "automargin": true,
           "gridcolor": "white",
           "linecolor": "white",
           "ticks": "",
           "title": {
            "standoff": 15
           },
           "zerolinecolor": "white",
           "zerolinewidth": 2
          }
         }
        },
        "title": {
         "text": "Phân cụm K-Means của kết quả học tập"
        },
        "xaxis": {
         "anchor": "y",
         "domain": [
          0,
          1
         ],
         "title": {
          "text": "Điểm trung bình(hệ 10)"
         }
        },
        "yaxis": {
         "anchor": "x",
         "domain": [
          0,
          1
         ],
         "title": {
          "text": "Điểm rèn luyện"
         }
        }
       }
      }
     },
     "metadata": {},
     "output_type": "display_data"
    }
   ],
   "source": [
    "# Giả sử df chứa thông tin điểm và tên sinh viên\n",
    "# Dữ liệu: 'Điểm trung bình(hệ 10)', 'GPA', 'Tên'\n",
    "\n",
    "# Gắn kết quả phân cụm vào dataframe\n",
    "data['Cluster'] = y_kmeans  \n",
    "\n",
    "# Tính toán tọa độ của các trung tâm cụm\n",
    "centers = pd.DataFrame(kmeans.cluster_centers_, columns=['Điểm trung bình(hệ 10)','Điểm rèn luyện'])\n",
    "centers['Cluster'] = range(len(centers))  # Thêm cột Cluster để tương ứng với số cụm\n",
    "\n",
    "# Vẽ biểu đồ tương tác với Plotly\n",
    "fig = px.scatter(\n",
    "    data,\n",
    "    x='Điểm trung bình(hệ 10)',\n",
    "    y='Điểm rèn luyện',\n",
    "    color='Cluster',\n",
    "    symbol ='Cluster',\n",
    "    hover_name='Tên ',  # Hiển thị tên sinh viên khi trỏ chuột\n",
    "    hover_data=['Điểm trung bình(hệ 10)', 'GPA'],  # Hiển thị thêm điểm\n",
    "    title=\"Phân cụm K-Means của kết quả học tập\"\n",
    ")\n",
    "\n",
    "# Thêm các điểm trung tâm vào biểu đồ\n",
    "fig.add_scatter(\n",
    "    x=centers['Điểm trung bình(hệ 10)'],\n",
    "    y=centers['Điểm rèn luyện'],\n",
    "    mode='markers',\n",
    "    marker=dict(size=10, color='red', symbol='star'),\n",
    "    name='Centroids'  # Tên hiển thị cho điểm trung tâm\n",
    ")\n",
    "\n",
    "fig.update_layout(\n",
    "    legend=dict(\n",
    "        x=0, y=0,  \n",
    "        font=dict(size=10, color=\"black\")\n",
    "    ),\n",
    ") \n",
    "# Hiển thị biểu đồ\n",
    "fig.show()\n"
   ]
  },
  {
   "cell_type": "markdown",
   "metadata": {},
   "source": [
    "### K = 4"
   ]
  },
  {
   "cell_type": "code",
   "execution_count": 24,
   "metadata": {},
   "outputs": [
    {
     "name": "stdout",
     "output_type": "stream",
     "text": [
      "[[ 7.46691489 60.53191489]\n",
      " [ 7.42422886 74.14427861]\n",
      " [ 7.42552239 83.25373134]\n",
      " [ 7.47619718 44.35211268]]\n"
     ]
    },
    {
     "data": {
      "image/png": "[encoded data removed]",
      "text/plain": [
       "<Figure size 1200x800 with 2 Axes>"
      ]
     },
     "metadata": {},
     "output_type": "display_data"
    }
   ],
   "source": [
    "kmeans = KMeans(n_clusters=4, random_state=0)\n",
    "y_kmeans = kmeans.fit_predict(X)\n",
    "\n",
    "plt.figure(figsize=(12, 8))\n",
    "scatter = plt.scatter(X[:, 0], X[:, 1], c=y_kmeans, s=100, cmap='viridis', edgecolor='k', alpha=0.75)\n",
    "\n",
    "centers = kmeans.cluster_centers_\n",
    "print(centers)\n",
    "plt.scatter(centers[:, 0], centers[:, 1], c='red', s=300, alpha=0.85, marker='*', edgecolor='k', label='Centers')\n",
    "\n",
    "\n",
    "plt.title(\"K-Means Clustering\", fontsize=20, fontweight='bold')\n",
    "plt.xlabel('Điểm trung bình hệ 10', fontsize=14)\n",
    "plt.ylabel('Điểm rèn luyện', fontsize=14)\n",
    "\n",
    "\n",
    "plt.legend(loc='best')\n",
    "\n",
    "plt.colorbar(scatter)\n",
    "plt.show()\n"
   ]
  },
  {
   "cell_type": "code",
   "execution_count": 26,
   "metadata": {},
   "outputs": [
    {
     "data": {
      "application/vnd.plotly.v1+json": {
       "config": {
        "plotlyServerURL": "https://plot.ly"
       },
       "data": [
        {
         "customdata": [
          [
           3.93
          ],
          [
           2.81
          ],
          [
           2.94
          ],
          [
           2.8
          ],
          [
           2.73
          ],
          [
           2.83
          ],
          [
           2.99
          ],
          [
           2.21
          ],
          [
           2.93
          ],
          [
           3.17
          ],
          [
           2.95
          ],
          [
           3.46
          ],
          [
           2.97
          ],
          [
           3.79
          ],
          [
           2.94
          ],
          [
           3.3
          ],
          [
           3.41
          ],
          [
           2.21
          ],
          [
           3.08
          ],
          [
           2.48
          ],
          [
           3.27
          ],
          [
           2.84
          ],
          [
           2.96
          ],
          [
           2.93
          ],
          [
           3.44
          ],
          [
           3.49
          ],
          [
           2.89
          ],
          [
           3.34
          ],
          [
           2.84
          ],
          [
           3.29
          ],
          [
           3.21
          ],
          [
           3.19
          ],
          [
           3.68
          ],
          [
           2.28
          ],
          [
           3.53
          ],
          [
           2.58
          ],
          [
           3.51
          ],
          [
           2.86
          ],
          [
           2.8
          ],
          [
           3.31
          ],
          [
           2.91
          ],
          [
           3.23
          ],
          [
           3.06
          ],
          [
           2.87
          ],
          [
           3.15
          ],
          [
           3.12
          ],
          [
           2.93
          ],
          [
           3.69
          ],
          [
           2.97
          ],
          [
           2.12
          ],
          [
           2.93
          ],
          [
           3.91
          ],
          [
           2.82
          ],
          [
           1.39
          ],
          [
           3.11
          ],
          [
           2.9
          ],
          [
           2.01
          ],
          [
           3.39
          ],
          [
           2.89
          ],
          [
           2.03
          ],
          [
           3.33
          ],
          [
           3.26
          ],
          [
           3.28
          ],
          [
           3.1
          ],
          [
           2.82
          ],
          [
           2.87
          ],
          [
           3.71
          ],
          [
           3.38
          ],
          [
           3.21
          ],
          [
           2.91
          ],
          [
           3.49
          ],
          [
           0
          ],
          [
           2.81
          ],
          [
           3.04
          ],
          [
           3.07
          ],
          [
           2.91
          ],
          [
           2.86
          ],
          [
           2.92
          ],
          [
           2.81
          ],
          [
           3.07
          ],
          [
           3.24
          ],
          [
           2.64
          ],
          [
           3
          ],
          [
           3.07
          ],
          [
           1.47
          ],
          [
           3.57
          ],
          [
           2.99
          ],
          [
           3.5
          ],
          [
           2.94
          ],
          [
           2.97
          ],
          [
           3.33
          ],
          [
           2.86
          ],
          [
           2.88
          ],
          [
           2.82
          ],
          [
           2.84
          ],
          [
           1.73
          ],
          [
           2.85
          ],
          [
           2.89
          ],
          [
           2.99
          ],
          [
           2.89
          ],
          [
           3.19
          ],
          [
           3.44
          ],
          [
           3.14
          ],
          [
           2.89
          ],
          [
           1.25
          ],
          [
           2.88
          ],
          [
           3.34
          ],
          [
           2.93
          ],
          [
           2.98
          ],
          [
           3.03
          ],
          [
           3.49
          ],
          [
           2.98
          ],
          [
           2.81
          ],
          [
           2.81
          ],
          [
           3
          ],
          [
           3.11
          ],
          [
           0
          ],
          [
           3.38
          ],
          [
           2.8
          ],
          [
           2.97
          ],
          [
           2.78
          ],
          [
           3.49
          ],
          [
           2.94
          ],
          [
           2.84
          ],
          [
           2.83
          ],
          [
           2.97
          ],
          [
           2.94
          ],
          [
           3
          ],
          [
           2.99
          ],
          [
           2.79
          ],
          [
           0
          ],
          [
           3.01
          ],
          [
           2.8
          ],
          [
           3.19
          ]
         ],
         "hovertemplate": "<b>%{hovertext}</b><br><br>Cluster=%{marker.color}<br>Điểm trung bình(hệ 10)=%{x}<br>Điểm rèn luyện=%{y}<br>GPA=%{customdata[0]}<extra></extra>",
         "hovertext": [
          "Bùi Quốc Linh",
          "Phan Đình Tuấn",
          "Phạm Anh Bình",
          "Trần Hải Linh",
          "Hoàng Hữu Phong",
          "Phan Văn Tuấn",
          "Nguyễn Khánh Anh",
          "Đỗ Thanh Khang",
          "Bùi Hữu Quang",
          "Bùi Quốc Bình",
          "Hoàng Hải Phong",
          "Phan Minh Cường",
          "Bùi Hữu Khang",
          "Phan Khánh Phong",
          "Lê Anh Dương",
          "Phạm Minh Khang",
          "Bùi Văn Cường",
          "Hoàng Hải Dương",
          "Bùi Minh Linh",
          "Trần Quốc Quang",
          "Nguyễn Minh Anh",
          "Đặng Khánh Bình",
          "Nguyễn Quốc Bình",
          "Trần Hải Tuấn",
          "Phan Đình Tuấn",
          "Phan Văn Huy",
          "Phan Anh Cường",
          "Phan Văn Huy",
          "Phạm Khánh Khang",
          "Lê Hải Bình",
          "Phạm Hải Khang",
          "Bùi Hữu Cường",
          "Đỗ Thị Khang",
          "Lê Văn Huy",
          "Hoàng Anh Huy",
          "Trần Khánh Tuấn",
          "Hoàng Minh Dương",
          "Trần Anh Khang",
          "Phạm Anh Quang",
          "Nguyễn Hữu Linh",
          "Đỗ Khánh Bình",
          "Nguyễn Thị Anh",
          "Hoàng Thanh Huy",
          "Đỗ Thị Huy",
          "Nguyễn Minh Phong",
          "Bùi Minh Khang",
          "Trần Thanh Tuấn",
          "Phan Hải Cường",
          "Phan Hải Cường",
          "Nguyễn Khánh Bình",
          "Vũ Thị Huy",
          "Hoàng Văn Dương",
          "Bùi Hữu Linh",
          "Phan Văn Huy",
          "Trần Khánh Phong",
          "Phan Thanh Quang",
          "Lê Hải Anh",
          "Lê Đình Tuấn",
          "Lê Thị Huy",
          "Phạm Văn Phong",
          "Phạm Hải Bình",
          "Phạm Minh Cường",
          "Đặng Hải Tuấn",
          "Trần Khánh Anh",
          "Vũ Quốc Dương",
          "Đặng Minh Huy",
          "Nguyễn Minh Quang",
          "Phan Anh Linh",
          "Hoàng Văn Phong",
          "Vũ Khánh Tuấn",
          "Bùi Anh Tuấn",
          "Đặng Đình Quang",
          "Hoàng Hữu Linh",
          "Nguyễn Hải Quang",
          "Nguyễn Đình Huy",
          "Đặng Đình Cường",
          "Bùi Quốc Phong",
          "Đỗ Quốc Phong",
          "Bùi Văn Dương",
          "Trần Minh Khang",
          "Đỗ Khánh Anh",
          "Đỗ Hữu Cường",
          "Lê Anh Dương",
          "Bùi Minh Bình",
          "Vũ Đình Huy",
          "Vũ Hữu Linh",
          "Bùi Anh Khang",
          "Phạm Văn Dương",
          "Vũ Hữu Khang",
          "Đặng Quốc Khang",
          "Hoàng Khánh Linh",
          "Đặng Thanh Bình",
          "Đỗ Thanh Linh",
          "Nguyễn Văn Cường",
          "Đỗ Quốc Bình",
          "Nguyễn Minh Linh",
          "Nguyễn Khánh Huy",
          "Trần Quốc Phong",
          "Lê Thị Anh",
          "Phan Quốc Dương",
          "Phạm Đình Quang",
          "Đặng Khánh Anh",
          "Phạm Anh Bình",
          "Đỗ Anh Khang",
          "Đặng Thị Cường",
          "Hoàng Đình Tuấn",
          "Nguyễn Thị Dương",
          "Đặng Văn Linh",
          "Phạm Minh Dương",
          "Lê Thị Anh",
          "Trần Hải Phong",
          "Đỗ Đình Khang",
          "Lê Văn Anh",
          "Đặng Văn Khang",
          "Bùi Minh Khang",
          "Vũ Thị Cường",
          "Vũ Đình Cường",
          "Đặng Minh Huy",
          "Phan Quốc Huy",
          "Trần Quốc Tuấn",
          "Đỗ Quốc Phong",
          "Đặng Minh Anh",
          "Vũ Văn Huy",
          "Lê Hữu Phong",
          "Phạm Hải Quang",
          "Lê Thanh Phong",
          "Đặng Hải Quang",
          "Phan Hải Khang",
          "Nguyễn Hải Tuấn",
          "Bùi Văn Linh",
          "Phan Văn Tuấn",
          "Hoàng Anh Tuấn",
          "Trần Hải Quang",
          "Đặng Minh Cường"
         ],
         "legendgroup": "2",
         "marker": {
          "color": [
           2,
           2,
           2,
           2,
           2,
           2,
           2,
           2,
           2,
           2,
           2,
           2,
           2,
           2,
           2,
           2,
           2,
           2,
           2,
           2,
           2,
           2,
           2,
           2,
           2,
           2,
           2,
           2,
           2,
           2,
           2,
           2,
           2,
           2,
           2,
           2,
           2,
           2,
           2,
           2,
           2,
           2,
           2,
           2,
           2,
           2,
           2,
           2,
           2,
           2,
           2,
           2,
           2,
           2,
           2,
           2,
           2,
           2,
           2,
           2,
           2,
           2,
           2,
           2,
           2,
           2,
           2,
           2,
           2,
           2,
           2,
           2,
           2,
           2,
           2,
           2,
           2,
           2,
           2,
           2,
           2,
           2,
           2,
           2,
           2,
           2,
           2,
           2,
           2,
           2,
           2,
           2,
           2,
           2,
           2,
           2,
           2,
           2,
           2,
           2,
           2,
           2,
           2,
           2,
           2,
           2,
           2,
           2,
           2,
           2,
           2,
           2,
           2,
           2,
           2,
           2,
           2,
           2,
           2,
           2,
           2,
           2,
           2,
           2,
           2,
           2,
           2,
           2,
           2,
           2,
           2,
           2,
           2,
           2
          ],
          "coloraxis": "coloraxis",
          "symbol": "circle"
         },
         "mode": "markers",
         "name": "2",
         "orientation": "v",
         "showlegend": true,
         "type": "scatter",
         "x": [
          9.63,
          7.12,
          7.61,
          7.25,
          6.45,
          7.74,
          7.2,
          5.72,
          7.33,
          7.9,
          7.75,
          7.84,
          7.28,
          8.6,
          7.22,
          8.03,
          7.95,
          5.58,
          7.91,
          5.77,
          8.02,
          7.12,
          7.61,
          7.69,
          7.82,
          8.1,
          7.1,
          8.35,
          7.77,
          8.3,
          8.23,
          8.1,
          9.77,
          5.78,
          8.74,
          6.81,
          9.46,
          7.67,
          7.25,
          8.1,
          7.64,
          7.91,
          8.19,
          7.44,
          8.38,
          8.07,
          7.35,
          9.19,
          7.69,
          5.52,
          7.22,
          9.29,
          7.49,
          4.57,
          7.81,
          7.15,
          5.75,
          8.1,
          7.27,
          6.05,
          7.95,
          7.87,
          8.13,
          8.29,
          7.78,
          7.39,
          9.1,
          8.05,
          7.88,
          7.6,
          8.38,
          1.41,
          7.61,
          7.89,
          8.01,
          7.6,
          7.79,
          7.59,
          7.29,
          8.22,
          7.84,
          6.87,
          7.03,
          8,
          4.28,
          9.01,
          7.63,
          7.82,
          7.14,
          7.53,
          8,
          7.24,
          7.12,
          7.76,
          7.16,
          5.02,
          7.74,
          7.14,
          7.72,
          7.26,
          8.11,
          8.25,
          8.38,
          7.14,
          4.16,
          7.07,
          7.86,
          7.77,
          7.05,
          8.31,
          8.11,
          7.53,
          7.45,
          7.27,
          7.65,
          8.36,
          0.24,
          8.23,
          7.68,
          7.57,
          6.7,
          8.07,
          7.02,
          7.32,
          7.54,
          7.39,
          7.48,
          7.74,
          7.71,
          6.64,
          2.58,
          8.13,
          7.24,
          8.38
         ],
         "xaxis": "x",
         "y": [
          97,
          95,
          82,
          79,
          98,
          90,
          81,
          82,
          82,
          82,
          81,
          84,
          83,
          83,
          81,
          80,
          80,
          82,
          79,
          79,
          79,
          81,
          80,
          84,
          80,
          79,
          83,
          84,
          82,
          90,
          80,
          81,
          80,
          82,
          82,
          80,
          81,
          80,
          79,
          98,
          81,
          81,
          84,
          82,
          81,
          91,
          91,
          84,
          80,
          82,
          79,
          80,
          100,
          82,
          81,
          79,
          84,
          83,
          84,
          80,
          80,
          83,
          86,
          82,
          81,
          82,
          94,
          81,
          81,
          84,
          94,
          83,
          80,
          79,
          83,
          83,
          82,
          81,
          80,
          83,
          83,
          80,
          81,
          80,
          83,
          79,
          96,
          79,
          80,
          79,
          80,
          82,
          89,
          80,
          84,
          82,
          79,
          81,
          84,
          81,
          82,
          86,
          87,
          93,
          80,
          80,
          82,
          82,
          88,
          91,
          81,
          85,
          79,
          80,
          87,
          83,
          79,
          80,
          83,
          99,
          80,
          94,
          83,
          80,
          79,
          83,
          83,
          82,
          81,
          80,
          83,
          84,
          80,
          99
         ],
         "yaxis": "y"
        },
        {
         "customdata": [
          [
           1.59
          ],
          [
           2.94
          ],
          [
           2.55
          ],
          [
           2.82
          ],
          [
           2.85
          ],
          [
           2.93
          ],
          [
           3.29
          ],
          [
           3.16
          ],
          [
           3.7
          ],
          [
           2.99
          ],
          [
           3.43
          ],
          [
           1.77
          ],
          [
           3.11
          ],
          [
           2.92
          ],
          [
           3.44
          ],
          [
           2.93
          ],
          [
           1.7
          ],
          [
           3.24
          ],
          [
           2.81
          ],
          [
           2.64
          ],
          [
           3
          ],
          [
           2.6
          ],
          [
           3.1
          ],
          [
           2.38
          ],
          [
           3.37
          ],
          [
           2.81
          ],
          [
           3
          ],
          [
           3.28
          ],
          [
           2.92
          ],
          [
           3.35
          ],
          [
           3.13
          ],
          [
           2.82
          ],
          [
           2.93
          ],
          [
           2.81
          ],
          [
           1.39
          ],
          [
           3
          ],
          [
           2.83
          ],
          [
           3.03
          ],
          [
           3.15
          ],
          [
           2.88
          ],
          [
           2.41
          ],
          [
           3.56
          ],
          [
           3.44
          ],
          [
           3.09
          ],
          [
           3.12
          ],
          [
           2.87
          ],
          [
           3.03
          ],
          [
           2.88
          ],
          [
           3.68
          ],
          [
           2.91
          ],
          [
           3.4
          ],
          [
           3.1
          ],
          [
           2.88
          ],
          [
           2.87
          ],
          [
           2.21
          ],
          [
           1.33
          ],
          [
           2.99
          ],
          [
           3.31
          ],
          [
           3.47
          ],
          [
           3.05
          ],
          [
           2.97
          ],
          [
           3.2
          ],
          [
           2.87
          ],
          [
           2.86
          ],
          [
           2.91
          ],
          [
           3.36
          ],
          [
           3.15
          ],
          [
           3.28
          ],
          [
           2.91
          ],
          [
           0
          ],
          [
           2.88
          ],
          [
           2.82
          ],
          [
           3
          ],
          [
           2.83
          ],
          [
           2.92
          ],
          [
           2.86
          ],
          [
           3.19
          ],
          [
           2.97
          ],
          [
           3.06
          ],
          [
           2
          ],
          [
           3.19
          ],
          [
           3.29
          ],
          [
           2.9
          ],
          [
           2.86
          ],
          [
           3.74
          ],
          [
           2.99
          ],
          [
           2.85
          ],
          [
           3.25
          ],
          [
           3.2
          ],
          [
           3.88
          ],
          [
           2.84
          ],
          [
           3.37
          ],
          [
           3.41
          ],
          [
           2.18
          ],
          [
           2.83
          ],
          [
           3
          ],
          [
           2.75
          ],
          [
           2.97
          ],
          [
           2.8
          ],
          [
           2.89
          ],
          [
           1.5
          ],
          [
           3.39
          ],
          [
           3.34
          ],
          [
           3.42
          ],
          [
           3.47
          ],
          [
           2.83
          ],
          [
           3
          ],
          [
           2.86
          ],
          [
           3.06
          ],
          [
           2.96
          ],
          [
           3.29
          ],
          [
           3.32
          ],
          [
           2.95
          ],
          [
           2.38
          ],
          [
           3.18
          ],
          [
           3.03
          ],
          [
           2.95
          ],
          [
           3.74
          ],
          [
           3.09
          ],
          [
           2.81
          ],
          [
           3
          ],
          [
           3
          ],
          [
           2.29
          ],
          [
           3
          ],
          [
           2.83
          ],
          [
           3.3
          ],
          [
           2.99
          ],
          [
           3.23
          ],
          [
           2.91
          ],
          [
           2.84
          ],
          [
           2.63
          ],
          [
           3.55
          ],
          [
           2.95
          ],
          [
           2.95
          ],
          [
           2.96
          ],
          [
           1.23
          ],
          [
           2.92
          ],
          [
           2.88
          ],
          [
           2.84
          ],
          [
           2.82
          ],
          [
           1.51
          ],
          [
           3.17
          ],
          [
           3.56
          ],
          [
           2.96
          ],
          [
           2.86
          ],
          [
           3.07
          ],
          [
           2.88
          ],
          [
           2.84
          ],
          [
           3.14
          ],
          [
           3.39
          ],
          [
           2.87
          ],
          [
           2.84
          ],
          [
           2.82
          ],
          [
           2.81
          ],
          [
           2.82
          ],
          [
           2.12
          ],
          [
           3.04
          ],
          [
           3
          ],
          [
           3.1
          ],
          [
           2.86
          ],
          [
           2.31
          ],
          [
           2.32
          ],
          [
           1.15
          ],
          [
           2.72
          ],
          [
           2.91
          ],
          [
           2.93
          ],
          [
           3.4
          ],
          [
           2.2
          ],
          [
           2.83
          ],
          [
           3.06
          ],
          [
           2.08
          ],
          [
           2.22
          ],
          [
           2.87
          ],
          [
           2.84
          ],
          [
           3.07
          ],
          [
           2.95
          ],
          [
           3.02
          ],
          [
           2.9
          ],
          [
           2.8
          ],
          [
           3
          ],
          [
           3
          ],
          [
           2.85
          ],
          [
           2.51
          ],
          [
           2.9
          ],
          [
           3.06
          ],
          [
           3.11
          ],
          [
           2.08
          ],
          [
           2.81
          ],
          [
           3.23
          ],
          [
           2.6
          ],
          [
           2.97
          ],
          [
           3.13
          ],
          [
           2.82
          ],
          [
           3.5
          ],
          [
           3
          ],
          [
           3.34
          ],
          [
           3.33
          ],
          [
           3.49
          ],
          [
           3.68
          ],
          [
           3.14
          ],
          [
           2.92
          ]
         ],
         "hovertemplate": "<b>%{hovertext}</b><br><br>Cluster=%{marker.color}<br>Điểm trung bình(hệ 10)=%{x}<br>Điểm rèn luyện=%{y}<br>GPA=%{customdata[0]}<extra></extra>",
         "hovertext": [
          "Trần Thanh Khang",
          "Nguyễn Anh Linh",
          "Vũ Hữu Bình",
          "Đỗ Anh Anh",
          "Trần Hữu Huy",
          "Nguyễn Văn Cường",
          "Hoàng Hải Bình",
          "Đặng Thanh Huy",
          "Trần Thị Huy",
          "Vũ Thanh Bình",
          "Phan Khánh Bình",
          "Đặng Khánh Bình",
          "Đặng Hữu Quang",
          "Vũ Minh Dương",
          "Vũ Anh Anh",
          "Phan Thanh Linh",
          "Bùi Thị Quang",
          "Hoàng Khánh Phong",
          "Đặng Quốc Dương",
          "Lê Quốc Tuấn",
          "Bùi Thanh Khang",
          "Phạm Khánh Huy",
          "Phạm Hải Khang",
          "Đỗ Minh Tuấn",
          "Trần Quốc Tuấn",
          "Lê Thị Phong",
          "Hoàng Quốc Quang",
          "Hoàng Quốc Phong",
          "Lê Thanh Anh",
          "Hoàng Minh Linh",
          "Đặng Đình Bình",
          "Trần Khánh Khang",
          "Phạm Thanh Tuấn",
          "Trần Khánh Phong",
          "Đỗ Quốc Dương",
          "Phan Thị Phong",
          "Nguyễn Quốc Phong",
          "Phan Quốc Phong",
          "Phạm Minh Khang",
          "Bùi Hải Linh",
          "Nguyễn Hữu Tuấn",
          "Hoàng Minh Cường",
          "Vũ Hải Quang",
          "Vũ Thị Cường",
          "Hoàng Minh Dương",
          "Đỗ Minh Huy",
          "Đặng Hữu Anh",
          "Đỗ Thanh Khang",
          "Phạm Hải Anh",
          "Phạm Khánh Linh",
          "Đặng Anh Huy",
          "Đỗ Minh Cường",
          "Phạm Đình Quang",
          "Đỗ Hữu Huy",
          "Đặng Khánh Cường",
          "Phan Hải Phong",
          "Bùi Văn Khang",
          "Vũ Văn Bình",
          "Lê Thị Cường",
          "Hoàng Hải Anh",
          "Lê Văn Bình",
          "Trần Thị Tuấn",
          "Nguyễn Thanh Tuấn",
          "Trần Thanh Cường",
          "Phan Thị Phong",
          "Lê Hữu Tuấn",
          "Hoàng Thị Quang",
          "Lê Khánh Khang",
          "Vũ Đình Huy",
          "Vũ Quốc Phong",
          "Lê Minh Dương",
          "Trần Minh Phong",
          "Hoàng Quốc Huy",
          "Vũ Đình Dương",
          "Phan Hải Phong",
          "Phan Thị Khang",
          "Trần Khánh Anh",
          "Bùi Thị Huy",
          "Phan Hữu Huy",
          "Hoàng Minh Tuấn",
          "Lê Hải Tuấn",
          "Trần Hải Phong",
          "Hoàng Khánh Cường",
          "Vũ Thị Dương",
          "Lê Văn Quang",
          "Phan Đình Dương",
          "Phan Minh Linh",
          "Hoàng Đình Tuấn",
          "Lê Hữu Huy",
          "Lê Khánh Linh",
          "Phạm Hải Cường",
          "Nguyễn Thị Dương",
          "Hoàng Thị Dương",
          "Trần Quốc Cường",
          "Đỗ Văn Cường",
          "Lê Văn Tuấn",
          "Trần Hải Quang",
          "Nguyễn Văn Cường",
          "Đặng Hữu Quang",
          "Bùi Văn Khang",
          "Trần Thanh Linh",
          "Nguyễn Hải Dương",
          "Trần Quốc Phong",
          "Hoàng Hải Tuấn",
          "Phan Đình Phong",
          "Hoàng Thị Quang",
          "Lê Khánh Dương",
          "Phan Minh Tuấn",
          "Bùi Hải Dương",
          "Đặng Minh Quang",
          "Đỗ Đình Bình",
          "Hoàng Minh Dương",
          "Phan Thị Cường",
          "Bùi Thanh Anh",
          "Bùi Minh Quang",
          "Phạm Khánh Quang",
          "Lê Hữu Cường",
          "Trần Hữu Cường",
          "Trần Văn Khang",
          "Phạm Hữu Bình",
          "Trần Thanh Khang",
          "Phạm Thanh Anh",
          "Phan Hữu Linh",
          "Đặng Hải Huy",
          "Bùi Thị Linh",
          "Lê Khánh Linh",
          "Hoàng Thị Khang",
          "Phan Thị Cường",
          "Lê Văn Quang",
          "Hoàng Minh Tuấn",
          "Đặng Anh Linh",
          "Vũ Văn Linh",
          "Phan Thanh Cường",
          "Đặng Minh Linh",
          "Lê Quốc Quang",
          "Lê Đình Linh",
          "Phạm Khánh Quang",
          "Trần Quốc Quang",
          "Đặng Hữu Phong",
          "Phạm Thị Linh",
          "Trần Đình Khang",
          "Phan Thanh Cường",
          "Lê Minh Cường",
          "Phan Văn Quang",
          "Phan Quốc Khang",
          "Bùi Anh Khang",
          "Phan Khánh Anh",
          "Đặng Hữu Phong",
          "Trần Anh Cường",
          "Hoàng Thanh Phong",
          "Phan Hữu Linh",
          "Đỗ Đình Quang",
          "Phan Hữu Quang",
          "Đặng Văn Anh",
          "Phan Hải Tuấn",
          "Đỗ Khánh Dương",
          "Bùi Thanh Khang",
          "Trần Quốc Bình",
          "Nguyễn Đình Huy",
          "Đặng Hải Linh",
          "Phan Hữu Linh",
          "Bùi Anh Anh",
          "Bùi Văn Phong",
          "Vũ Khánh Huy",
          "Bùi Minh Linh",
          "Hoàng Quốc Cường",
          "Đặng Thanh Dương",
          "Phan Quốc Cường",
          "Lê Thanh Phong",
          "Nguyễn Hải Linh",
          "Trần Anh Huy",
          "Lê Hữu Cường",
          "Trần Quốc Huy",
          "Đỗ Khánh Quang",
          "Nguyễn Văn Quang",
          "Đặng Đình Tuấn",
          "Trần Thị Huy",
          "Lê Anh Linh",
          "Phạm Anh Phong",
          "Phan Anh Linh",
          "Đặng Văn Bình",
          "Nguyễn Anh Bình",
          "Nguyễn Hữu Bình",
          "Vũ Minh Anh",
          "Lê Hữu Cường",
          "Lê Văn Phong",
          "Phạm Thanh Anh",
          "Bùi Minh Anh",
          "Nguyễn Quốc Dương",
          "Đặng Minh Quang",
          "Phan Đình Bình",
          "Phạm Quốc Khang",
          "Hoàng Anh Phong",
          "Trần Minh Linh",
          "Lê Khánh Cường",
          "Đặng Quốc Tuấn",
          "Nguyễn Hải Anh",
          "Vũ Minh Khang",
          "Vũ Văn Huy",
          "Đặng Văn Tuấn",
          "Phan Đình Bình"
         ],
         "legendgroup": "1",
         "marker": {
          "color": [
           1,
           1,
           1,
           1,
           1,
           1,
           1,
           1,
           1,
           1,
           1,
           1,
           1,
           1,
           1,
           1,
           1,
           1,
           1,
           1,
           1,
           1,
           1,
           1,
           1,
           1,
           1,
           1,
           1,
           1,
           1,
           1,
           1,
           1,
           1,
           1,
           1,
           1,
           1,
           1,
           1,
           1,
           1,
           1,
           1,
           1,
           1,
           1,
           1,
           1,
           1,
           1,
           1,
           1,
           1,
           1,
           1,
           1,
           1,
           1,
           1,
           1,
           1,
           1,
           1,
           1,
           1,
           1,
           1,
           1,
           1,
           1,
           1,
           1,
           1,
           1,
           1,
           1,
           1,
           1,
           1,
           1,
           1,
           1,
           1,
           1,
           1,
           1,
           1,
           1,
           1,
           1,
           1,
           1,
           1,
           1,
           1,
           1,
           1,
           1,
           1,
           1,
           1,
           1,
           1,
           1,
           1,
           1,
           1,
           1,
           1,
           1,
           1,
           1,
           1,
           1,
           1,
           1,
           1,
           1,
           1,
           1,
           1,
           1,
           1,
           1,
           1,
           1,
           1,
           1,
           1,
           1,
           1,
           1,
           1,
           1,
           1,
           1,
           1,
           1,
           1,
           1,
           1,
           1,
           1,
           1,
           1,
           1,
           1,
           1,
           1,
           1,
           1,
           1,
           1,
           1,
           1,
           1,
           1,
           1,
           1,
           1,
           1,
           1,
           1,
           1,
           1,
           1,
           1,
           1,
           1,
           1,
           1,
           1,
           1,
           1,
           1,
           1,
           1,
           1,
           1,
           1,
           1,
           1,
           1,
           1,
           1,
           1,
           1,
           1,
           1,
           1,
           1,
           1,
           1,
           1,
           1,
           1,
           1,
           1,
           1
          ],
          "coloraxis": "coloraxis",
          "symbol": "diamond"
         },
         "mode": "markers",
         "name": "1",
         "orientation": "v",
         "showlegend": true,
         "type": "scatter",
         "x": [
          5.12,
          7.75,
          6.52,
          7.11,
          7.63,
          7.79,
          7.95,
          7.91,
          8.8,
          7.09,
          7.8,
          5.26,
          8.35,
          7.26,
          7.87,
          7.61,
          5.31,
          7.82,
          7.24,
          6.67,
          7.19,
          6.6,
          7.86,
          6.07,
          8.08,
          7.28,
          7.35,
          8.33,
          7.15,
          8.3,
          7.81,
          7.55,
          7.26,
          7.76,
          4.59,
          7.21,
          7.1,
          8.25,
          7.98,
          7.52,
          6.02,
          9.94,
          8.02,
          8.37,
          8,
          7.73,
          8.1,
          7.7,
          9.43,
          7.53,
          8.23,
          8.33,
          7.41,
          7.29,
          6.26,
          4.79,
          7.41,
          8.23,
          8.12,
          7.8,
          7.56,
          8.34,
          7.3,
          7.1,
          7.47,
          8.35,
          8.3,
          7.98,
          7.27,
          0.37,
          7.01,
          7.62,
          7.2,
          7.4,
          7.58,
          7.64,
          8.26,
          7.6,
          8.28,
          5.8,
          7.84,
          8.16,
          7.05,
          7.33,
          8.95,
          7.21,
          7.04,
          7.8,
          7.84,
          9.17,
          7.73,
          7.8,
          8.19,
          5.82,
          7.15,
          7.75,
          6.61,
          7.76,
          7.69,
          7.15,
          4.49,
          8.01,
          8.1,
          8.22,
          8.06,
          7.22,
          7.15,
          7.4,
          8.05,
          7.69,
          8.3,
          8.04,
          7.36,
          5.88,
          8.11,
          8.23,
          7.21,
          9.3,
          8.02,
          7.77,
          7.44,
          7.69,
          6.22,
          7.8,
          7.63,
          8.06,
          7.18,
          8.06,
          7.78,
          7.23,
          6.42,
          9.79,
          7.69,
          7.25,
          7.44,
          4.23,
          7.27,
          7.16,
          7.74,
          7.03,
          4.92,
          8.4,
          9.22,
          7.41,
          7.46,
          7.89,
          7.23,
          7.47,
          8.11,
          7.83,
          7.22,
          7.27,
          7.18,
          7.65,
          7.73,
          5.9,
          8.27,
          7.49,
          8.25,
          7.4,
          5.62,
          5.59,
          4.58,
          6.63,
          7.1,
          7.63,
          7.85,
          6.21,
          7.46,
          7.83,
          5.77,
          5.74,
          7.36,
          7.79,
          8.31,
          7.3,
          7.85,
          7.38,
          7.48,
          7.4,
          7.45,
          7.48,
          6.56,
          7.03,
          7.95,
          8.24,
          5.92,
          7.05,
          8.25,
          6.71,
          7.19,
          8.32,
          7.11,
          8.36,
          7.75,
          8.39,
          7.92,
          7.8,
          9.4,
          8.02,
          7.19
         ],
         "xaxis": "x",
         "y": [
          75,
          71,
          74,
          76,
          74,
          77,
          74,
          70,
          77,
          77,
          76,
          73,
          71,
          77,
          76,
          77,
          71,
          78,
          76,
          71,
          71,
          73,
          74,
          74,
          72,
          77,
          75,
          71,
          74,
          73,
          68,
          78,
          75,
          74,
          75,
          75,
          68,
          73,
          72,
          74,
          73,
          78,
          71,
          78,
          74,
          69,
          72,
          78,
          71,
          74,
          76,
          76,
          71,
          71,
          76,
          74,
          70,
          74,
          71,
          74,
          78,
          72,
          78,
          68,
          78,
          78,
          75,
          75,
          72,
          75,
          69,
          74,
          73,
          76,
          72,
          78,
          77,
          75,
          71,
          72,
          71,
          78,
          71,
          74,
          68,
          70,
          71,
          78,
          75,
          73,
          72,
          74,
          74,
          74,
          77,
          78,
          74,
          76,
          77,
          73,
          77,
          78,
          78,
          78,
          78,
          78,
          77,
          74,
          74,
          78,
          76,
          72,
          75,
          74,
          77,
          74,
          75,
          71,
          70,
          74,
          68,
          71,
          74,
          74,
          76,
          73,
          73,
          76,
          75,
          74,
          72,
          68,
          73,
          71,
          73,
          78,
          75,
          71,
          76,
          69,
          78,
          70,
          72,
          75,
          77,
          72,
          74,
          70,
          74,
          72,
          75,
          71,
          75,
          76,
          72,
          70,
          76,
          78,
          70,
          70,
          78,
          77,
          70,
          71,
          78,
          74,
          76,
          76,
          75,
          75,
          71,
          71,
          76,
          76,
          70,
          72,
          73,
          74,
          73,
          76,
          75,
          75,
          68,
          76,
          77,
          78,
          74,
          76,
          77,
          73,
          77,
          78,
          78,
          78,
          78,
          78,
          77,
          74,
          72,
          78,
          77
         ],
         "yaxis": "y"
        },
        {
         "customdata": [
          [
           3.42
          ],
          [
           1.55
          ],
          [
           2.92
          ],
          [
           3
          ],
          [
           3.2
          ],
          [
           2.96
          ],
          [
           2.85
          ],
          [
           3.49
          ],
          [
           2.56
          ],
          [
           3.23
          ],
          [
           2.97
          ],
          [
           3.15
          ],
          [
           3.31
          ],
          [
           2.99
          ],
          [
           2.91
          ],
          [
           2.85
          ],
          [
           2.58
          ],
          [
           3.26
          ],
          [
           3.25
          ],
          [
           2.49
          ],
          [
           2.86
          ],
          [
           2.94
          ],
          [
           3.15
          ],
          [
           1.69
          ],
          [
           3.27
          ],
          [
           2.9
          ],
          [
           1.45
          ],
          [
           3.5
          ],
          [
           3.78
          ],
          [
           3.36
          ],
          [
           3.46
          ],
          [
           2.53
          ],
          [
           2.92
          ],
          [
           2.95
          ],
          [
           3.48
          ],
          [
           2.94
          ],
          [
           2.82
          ],
          [
           2.96
          ],
          [
           2.3
          ],
          [
           2.99
          ],
          [
           2.88
          ],
          [
           3.44
          ],
          [
           3.74
          ],
          [
           2.65
          ],
          [
           3.1
          ],
          [
           2.9
          ],
          [
           3.48
          ],
          [
           2.29
          ],
          [
           1.1
          ],
          [
           2.92
          ],
          [
           3.95
          ],
          [
           2.81
          ],
          [
           2.81
          ],
          [
           2.69
          ],
          [
           3.23
          ],
          [
           2.97
          ],
          [
           3.24
          ],
          [
           3.71
          ],
          [
           2.9
          ],
          [
           1.23
          ],
          [
           3.17
          ],
          [
           3.41
          ],
          [
           3.46
          ],
          [
           3.24
          ],
          [
           3.2
          ],
          [
           2.87
          ],
          [
           3.43
          ],
          [
           2.92
          ],
          [
           2.89
          ],
          [
           2.81
          ],
          [
           3.23
          ],
          [
           2.87
          ],
          [
           3.34
          ],
          [
           2.81
          ],
          [
           2.96
          ],
          [
           3.38
          ],
          [
           3.18
          ],
          [
           2.95
          ],
          [
           2.96
          ],
          [
           2.11
          ],
          [
           3.34
          ],
          [
           2.98
          ],
          [
           2.8
          ],
          [
           2.88
          ],
          [
           2.91
          ],
          [
           2.91
          ],
          [
           2.86
          ],
          [
           2.94
          ],
          [
           3.25
          ],
          [
           2.81
          ],
          [
           3.03
          ],
          [
           3.25
          ],
          [
           2.95
          ],
          [
           2.7
          ]
         ],
         "hovertemplate": "<b>%{hovertext}</b><br><br>Cluster=%{marker.color}<br>Điểm trung bình(hệ 10)=%{x}<br>Điểm rèn luyện=%{y}<br>GPA=%{customdata[0]}<extra></extra>",
         "hovertext": [
          "Vũ Văn Huy",
          "Nguyễn Khánh Dương",
          "Lê Quốc Tuấn",
          "Bùi Thanh Linh",
          "Trần Minh Huy",
          "Trần Anh Bình",
          "Nguyễn Thị Tuấn",
          "Nguyễn Quốc Tuấn",
          "Trần Thị Cường",
          "Trần Văn Anh",
          "Hoàng Anh Tuấn",
          "Nguyễn Đình Tuấn",
          "Nguyễn Anh Quang",
          "Đặng Hải Anh",
          "Hoàng Thanh Linh",
          "Trần Anh Quang",
          "Đặng Văn Khang",
          "Lê Anh Phong",
          "Lê Thị Cường",
          "Lê Thanh Bình",
          "Đặng Quốc Cường",
          "Đặng Hải Dương",
          "Đỗ Anh Dương",
          "Lê Văn Huy",
          "Đỗ Văn Phong",
          "Đỗ Đình Dương",
          "Vũ Khánh Cường",
          "Vũ Hải Bình",
          "Lê Quốc Dương",
          "Vũ Hải Linh",
          "Đỗ Đình Linh",
          "Trần Đình Cường",
          "Phạm Anh Khang",
          "Phạm Hữu Cường",
          "Hoàng Văn Quang",
          "Vũ Anh Anh",
          "Trần Thị Linh",
          "Vũ Thị Tuấn",
          "Hoàng Hữu Tuấn",
          "Lê Thị Anh",
          "Bùi Khánh Anh",
          "Bùi Hải Phong",
          "Trần Anh Dương",
          "Lê Minh Dương",
          "Lê Đình Anh",
          "Lê Anh Linh",
          "Phan Khánh Quang",
          "Nguyễn Thanh Tuấn",
          "Vũ Quốc Quang",
          "Vũ Văn Bình",
          "Đỗ Hải Tuấn",
          "Đặng Thị Cường",
          "Lê Đình Quang",
          "Đặng Thị Tuấn",
          "Nguyễn Quốc Dương",
          "Bùi Khánh Khang",
          "Bùi Đình Anh",
          "Đặng Hải Cường",
          "Nguyễn Minh Linh",
          "Vũ Hải Khang",
          "Vũ Thanh Dương",
          "Trần Quốc Dương",
          "Lê Đình Huy",
          "Đỗ Quốc Khang",
          "Vũ Thị Dương",
          "Đỗ Anh Phong",
          "Phạm Anh Phong",
          "Vũ Thị Bình",
          "Đỗ Đình Anh",
          "Nguyễn Thanh Quang",
          "Hoàng Đình Bình",
          "Đặng Thị Linh",
          "Phạm Hải Huy",
          "Đỗ Minh Huy",
          "Lê Quốc Dương",
          "Vũ Quốc Dương",
          "Phan Minh Bình",
          "Nguyễn Khánh Cường",
          "Đỗ Quốc Tuấn",
          "Phạm Thị Phong",
          "Trần Hữu Phong",
          "Nguyễn Thị Anh",
          "Vũ Thanh Linh",
          "Trần Văn Cường",
          "Đặng Hải Dương",
          "Hoàng Anh Linh",
          "Nguyễn Quốc Huy",
          "Đỗ Anh Tuấn",
          "Hoàng Văn Dương",
          "Bùi Minh Anh",
          "Đỗ Đình Dương",
          "Hoàng Thị Khang",
          "Hoàng Thanh Dương",
          "Phan Thị Huy"
         ],
         "legendgroup": "0",
         "marker": {
          "color": [
           0,
           0,
           0,
           0,
           0,
           0,
           0,
           0,
           0,
           0,
           0,
           0,
           0,
           0,
           0,
           0,
           0,
           0,
           0,
           0,
           0,
           0,
           0,
           0,
           0,
           0,
           0,
           0,
           0,
           0,
           0,
           0,
           0,
           0,
           0,
           0,
           0,
           0,
           0,
           0,
           0,
           0,
           0,
           0,
           0,
           0,
           0,
           0,
           0,
           0,
           0,
           0,
           0,
           0,
           0,
           0,
           0,
           0,
           0,
           0,
           0,
           0,
           0,
           0,
           0,
           0,
           0,
           0,
           0,
           0,
           0,
           0,
           0,
           0,
           0,
           0,
           0,
           0,
           0,
           0,
           0,
           0,
           0,
           0,
           0,
           0,
           0,
           0,
           0,
           0,
           0,
           0,
           0,
           0
          ],
          "coloraxis": "coloraxis",
          "symbol": "square"
         },
         "mode": "markers",
         "name": "0",
         "orientation": "v",
         "showlegend": true,
         "type": "scatter",
         "x": [
          8.09,
          4.99,
          7.33,
          7.06,
          8.25,
          7.52,
          7.32,
          8.3,
          6.82,
          8.3,
          7.66,
          7.94,
          8.17,
          7.48,
          7.78,
          7.46,
          6.41,
          8.37,
          8.19,
          5.72,
          7.69,
          7.03,
          8.04,
          4.88,
          8.38,
          7.15,
          4.61,
          9.81,
          8.78,
          8.12,
          7.94,
          6.87,
          7.43,
          7.23,
          7.97,
          7.65,
          7.17,
          7.25,
          6.11,
          7.4,
          7.78,
          7.89,
          9.34,
          6.38,
          7.83,
          7.19,
          8.36,
          5.7,
          4.61,
          7.76,
          8.76,
          7.69,
          7.18,
          6.46,
          8,
          7.27,
          8.21,
          8.83,
          7.49,
          4.36,
          8.39,
          8.13,
          8.13,
          7.91,
          8.33,
          7.43,
          7.9,
          7.22,
          7.17,
          7.44,
          8.23,
          7.79,
          8.07,
          7.29,
          7.27,
          7.83,
          7.82,
          7.54,
          7.25,
          5.89,
          7.81,
          7.27,
          7.26,
          7.24,
          7.63,
          7.67,
          7.2,
          7.19,
          8.22,
          7.57,
          7.84,
          8.27,
          7.52,
          6.41
         ],
         "xaxis": "x",
         "y": [
          62,
          61,
          64,
          63,
          58,
          65,
          66,
          66,
          63,
          60,
          59,
          56,
          64,
          63,
          63,
          63,
          65,
          56,
          55,
          60,
          66,
          61,
          57,
          65,
          53,
          66,
          58,
          58,
          57,
          66,
          56,
          64,
          58,
          66,
          57,
          63,
          61,
          64,
          62,
          59,
          67,
          58,
          54,
          56,
          63,
          64,
          54,
          58,
          56,
          66,
          63,
          58,
          54,
          62,
          61,
          66,
          57,
          56,
          54,
          63,
          59,
          66,
          64,
          67,
          67,
          58,
          57,
          62,
          63,
          59,
          59,
          64,
          55,
          66,
          55,
          63,
          63,
          66,
          65,
          57,
          56,
          59,
          57,
          53,
          67,
          58,
          54,
          56,
          63,
          64,
          54,
          56,
          64,
          55
         ],
         "yaxis": "y"
        },
        {
         "customdata": [
          [
           2.92
          ],
          [
           2.95
          ],
          [
           3.43
          ],
          [
           3.59
          ],
          [
           2.91
          ],
          [
           3.29
          ],
          [
           2.99
          ],
          [
           3
          ],
          [
           2.8
          ],
          [
           3.52
          ],
          [
           2.96
          ],
          [
           0
          ],
          [
           1.04
          ],
          [
           2.98
          ],
          [
           3.25
          ],
          [
           1.41
          ],
          [
           2.91
          ],
          [
           2.06
          ],
          [
           3.31
          ],
          [
           3.28
          ],
          [
           2.81
          ],
          [
           2.91
          ],
          [
           2.98
          ],
          [
           3.15
          ],
          [
           2.8
          ],
          [
           2.98
          ],
          [
           3.16
          ],
          [
           2.54
          ],
          [
           2.95
          ],
          [
           3.3
          ],
          [
           2.9
          ],
          [
           2.84
          ],
          [
           2.29
          ],
          [
           2.96
          ],
          [
           3.19
          ],
          [
           2.93
          ],
          [
           3.03
          ],
          [
           2.87
          ],
          [
           2.02
          ],
          [
           3.42
          ],
          [
           3.29
          ],
          [
           3.26
          ],
          [
           2.98
          ],
          [
           2.94
          ],
          [
           3.48
          ],
          [
           3.01
          ],
          [
           3.08
          ],
          [
           2.73
          ],
          [
           3.16
          ],
          [
           2.78
          ],
          [
           2.8
          ],
          [
           3.17
          ],
          [
           2.84
          ],
          [
           3.29
          ],
          [
           3.23
          ],
          [
           2.84
          ],
          [
           3.18
          ],
          [
           3.47
          ],
          [
           2.88
          ],
          [
           3.25
          ],
          [
           3.34
          ],
          [
           3.26
          ],
          [
           3.24
          ],
          [
           2.89
          ],
          [
           3.39
          ],
          [
           2.97
          ],
          [
           3
          ],
          [
           2.88
          ],
          [
           3.01
          ],
          [
           3.05
          ],
          [
           3.12
          ]
         ],
         "hovertemplate": "<b>%{hovertext}</b><br><br>Cluster=%{marker.color}<br>Điểm trung bình(hệ 10)=%{x}<br>Điểm rèn luyện=%{y}<br>GPA=%{customdata[0]}<extra></extra>",
         "hovertext": [
          "Bùi Khánh Quang",
          "Phan Hữu Quang",
          "Bùi Thị Huy",
          "Trần Hữu Bình",
          "Nguyễn Hải Tuấn",
          "Hoàng Hải Dương",
          "Lê Hải Phong",
          "Phan Hải Bình",
          "Hoàng Thị Dương",
          "Phạm Minh Quang",
          "Đỗ Văn Khang",
          "Đặng Hải Cường",
          "Vũ Đình Khang",
          "Phạm Văn Quang",
          "Nguyễn Hữu Linh",
          "Bùi Anh Tuấn",
          "Đỗ Hữu Linh",
          "Đặng Thanh Huy",
          "Bùi Văn Linh",
          "Vũ Hữu Dương",
          "Trần Quốc Huy",
          "Phan Đình Cường",
          "Hoàng Đình Dương",
          "Phan Quốc Bình",
          "Lê Quốc Cường",
          "Phạm Khánh Phong",
          "Đặng Anh Tuấn",
          "Phan Minh Anh",
          "Bùi Quốc Khang",
          "Phan Quốc Tuấn",
          "Đặng Khánh Bình",
          "Trần Anh Anh",
          "Nguyễn Hữu Khang",
          "Đỗ Minh Dương",
          "Nguyễn Hải Tuấn",
          "Hoàng Thanh Bình",
          "Trần Hải Dương",
          "Lê Hải Linh",
          "Phạm Quốc Anh",
          "Phan Hải Anh",
          "Bùi Thị Phương",
          "Phạm Minh Dương",
          "Bùi Đình Huy",
          "Phan Hải Cường",
          "Bùi Minh Anh",
          "Phan Hữu Quang",
          "Vũ Hải Anh",
          "Đặng Thị Tuấn",
          "Nguyễn Khánh Phong",
          "Vũ Thanh Dương",
          "Hoàng Anh Huy",
          "Trần Anh Quang",
          "Trần Thanh Huy",
          "Phạm Đình Cường",
          "Lê Đình Bình",
          "Hoàng Văn Phong",
          "Hoàng Quốc Phong",
          "Lê Thị Dương",
          "Bùi Thị Anh",
          "Nguyễn Thị Quang",
          "Vũ Anh Bình",
          "Nguyễn Đình Linh",
          "Bùi Thanh Cường",
          "Vũ Anh Phong",
          "Phạm Hải Dương",
          "Đỗ Minh Cường",
          "Trần Minh Quang",
          "Lê Đình Khang",
          "Đặng Thị Huy",
          "Phan Thị Anh",
          "Hoàng Hải Cường"
         ],
         "legendgroup": "3",
         "marker": {
          "color": [
           3,
           3,
           3,
           3,
           3,
           3,
           3,
           3,
           3,
           3,
           3,
           3,
           3,
           3,
           3,
           3,
           3,
           3,
           3,
           3,
           3,
           3,
           3,
           3,
           3,
           3,
           3,
           3,
           3,
           3,
           3,
           3,
           3,
           3,
           3,
           3,
           3,
           3,
           3,
           3,
           3,
           3,
           3,
           3,
           3,
           3,
           3,
           3,
           3,
           3,
           3,
           3,
           3,
           3,
           3,
           3,
           3,
           3,
           3,
           3,
           3,
           3,
           3,
           3,
           3,
           3,
           3,
           3,
           3,
           3,
           3
          ],
          "coloraxis": "coloraxis",
          "symbol": "x"
         },
         "mode": "markers",
         "name": "3",
         "orientation": "v",
         "showlegend": true,
         "type": "scatter",
         "x": [
          7.01,
          7.45,
          8.17,
          9.47,
          7.7,
          8.35,
          7.07,
          7.56,
          7.56,
          9.31,
          7.42,
          0.29,
          4.31,
          7.25,
          8.18,
          4.73,
          7.42,
          5.71,
          7.83,
          7.95,
          7,
          7.45,
          7.74,
          8.31,
          7.65,
          7.46,
          8.39,
          6.74,
          7.24,
          7.9,
          7.33,
          7.08,
          5.81,
          7.37,
          7.85,
          7.78,
          8.2,
          7.49,
          5.95,
          8.06,
          8.2,
          7.9,
          7.43,
          7.3,
          7.93,
          7.9,
          8.24,
          6.76,
          8.16,
          6.86,
          7.63,
          7.85,
          7.31,
          8.36,
          8.28,
          7.25,
          8.28,
          8.2,
          7.5,
          7.98,
          7.9,
          7.96,
          8.07,
          7.69,
          8.37,
          7.21,
          7.95,
          7.12,
          8,
          7.87,
          7.81
         ],
         "xaxis": "x",
         "y": [
          41,
          48,
          51,
          41,
          51,
          46,
          41,
          46,
          51,
          44,
          46,
          44,
          45,
          49,
          41,
          46,
          50,
          50,
          51,
          43,
          41,
          43,
          30,
          48,
          47,
          45,
          20,
          40,
          52,
          42,
          41,
          47,
          48,
          49,
          38,
          43,
          43,
          47,
          47,
          41,
          44,
          45,
          48,
          45,
          47,
          40,
          47,
          43,
          45,
          49,
          47,
          31,
          43,
          43,
          45,
          42,
          42,
          42,
          50,
          48,
          47,
          44,
          43,
          43,
          47,
          47,
          41,
          44,
          42,
          41,
          47
         ],
         "yaxis": "y"
        },
        {
         "marker": {
          "color": "red",
          "size": 10,
          "symbol": "star"
         },
         "mode": "markers",
         "name": "Centroids",
         "type": "scatter",
         "x": [
          7.466914893617021,
          7.424228855721393,
          7.425522388059702,
          7.476197183098591
         ],
         "y": [
          60.53191489361703,
          74.14427860696519,
          83.25373134328358,
          44.35211267605632
         ]
        }
       ],
       "layout": {
        "coloraxis": {
         "colorbar": {
          "title": {
           "text": "Cluster"
          }
         },
         "colorscale": [
          [
           0,
           "#0d0887"
          ],
          [
           0.1111111111111111,
           "#46039f"
          ],
          [
           0.2222222222222222,
           "#7201a8"
          ],
          [
           0.3333333333333333,
           "#9c179e"
          ],
          [
           0.4444444444444444,
           "#bd3786"
          ],
          [
           0.5555555555555556,
           "#d8576b"
          ],
          [
           0.6666666666666666,
           "#ed7953"
          ],
          [
           0.7777777777777778,
           "#fb9f3a"
          ],
          [
           0.8888888888888888,
           "#fdca26"
          ],
          [
           1,
           "#f0f921"
          ]
         ]
        },
        "legend": {
         "font": {
          "color": "black",
          "size": 10
         },
         "title": {
          "text": "Cluster"
         },
         "tracegroupgap": 0,
         "x": 0,
         "y": 0
        },
        "template": {
         "data": {
          "bar": [
           {
            "error_x": {
             "color": "#2a3f5f"
            },
            "error_y": {
             "color": "#2a3f5f"
            },
            "marker": {
             "line": {
              "color": "#E5ECF6",
              "width": 0.5
             },
             "pattern": {
              "fillmode": "overlay",
              "size": 10,
              "solidity": 0.2
             }
            },
            "type": "bar"
           }
          ],
          "barpolar": [
           {
            "marker": {
             "line": {
              "color": "#E5ECF6",
              "width": 0.5
             },
             "pattern": {
              "fillmode": "overlay",
              "size": 10,
              "solidity": 0.2
             }
            },
            "type": "barpolar"
           }
          ],
          "carpet": [
           {
            "aaxis": {
             "endlinecolor": "#2a3f5f",
             "gridcolor": "white",
             "linecolor": "white",
             "minorgridcolor": "white",
             "startlinecolor": "#2a3f5f"
            },
            "baxis": {
             "endlinecolor": "#2a3f5f",
             "gridcolor": "white",
             "linecolor": "white",
             "minorgridcolor": "white",
             "startlinecolor": "#2a3f5f"
            },
            "type": "carpet"
           }
          ],
          "choropleth": [
           {
            "colorbar": {
             "outlinewidth": 0,
             "ticks": ""
            },
            "type": "choropleth"
           }
          ],
          "contour": [
           {
            "colorbar": {
             "outlinewidth": 0,
             "ticks": ""
            },
            "colorscale": [
             [
              0,
              "#0d0887"
             ],
             [
              0.1111111111111111,
              "#46039f"
             ],
             [
              0.2222222222222222,
              "#7201a8"
             ],
             [
              0.3333333333333333,
              "#9c179e"
             ],
             [
              0.4444444444444444,
              "#bd3786"
             ],
             [
              0.5555555555555556,
              "#d8576b"
             ],
             [
              0.6666666666666666,
              "#ed7953"
             ],
             [
              0.7777777777777778,
              "#fb9f3a"
             ],
             [
              0.8888888888888888,
              "#fdca26"
             ],
             [
              1,
              "#f0f921"
             ]
            ],
            "type": "contour"
           }
          ],
          "contourcarpet": [
           {
            "colorbar": {
             "outlinewidth": 0,
             "ticks": ""
            },
            "type": "contourcarpet"
           }
          ],
          "heatmap": [
           {
            "colorbar": {
             "outlinewidth": 0,
             "ticks": ""
            },
            "colorscale": [
             [
              0,
              "#0d0887"
             ],
             [
              0.1111111111111111,
              "#46039f"
             ],
             [
              0.2222222222222222,
              "#7201a8"
             ],
             [
              0.3333333333333333,
              "#9c179e"
             ],
             [
              0.4444444444444444,
              "#bd3786"
             ],
             [
              0.5555555555555556,
              "#d8576b"
             ],
             [
              0.6666666666666666,
              "#ed7953"
             ],
             [
              0.7777777777777778,
              "#fb9f3a"
             ],
             [
              0.8888888888888888,
              "#fdca26"
             ],
             [
              1,
              "#f0f921"
             ]
            ],
            "type": "heatmap"
           }
          ],
          "heatmapgl": [
           {
            "colorbar": {
             "outlinewidth": 0,
             "ticks": ""
            },
            "colorscale": [
             [
              0,
              "#0d0887"
             ],
             [
              0.1111111111111111,
              "#46039f"
             ],
             [
              0.2222222222222222,
              "#7201a8"
             ],
             [
              0.3333333333333333,
              "#9c179e"
             ],
             [
              0.4444444444444444,
              "#bd3786"
             ],
             [
              0.5555555555555556,
              "#d8576b"
             ],
             [
              0.6666666666666666,
              "#ed7953"
             ],
             [
              0.7777777777777778,
              "#fb9f3a"
             ],
             [
              0.8888888888888888,
              "#fdca26"
             ],
             [
              1,
              "#f0f921"
             ]
            ],
            "type": "heatmapgl"
           }
          ],
          "histogram": [
           {
            "marker": {
             "pattern": {
              "fillmode": "overlay",
              "size": 10,
              "solidity": 0.2
             }
            },
            "type": "histogram"
           }
          ],
          "histogram2d": [
           {
            "colorbar": {
             "outlinewidth": 0,
             "ticks": ""
            },
            "colorscale": [
             [
              0,
              "#0d0887"
             ],
             [
              0.1111111111111111,
              "#46039f"
             ],
             [
              0.2222222222222222,
              "#7201a8"
             ],
             [
              0.3333333333333333,
              "#9c179e"
             ],
             [
              0.4444444444444444,
              "#bd3786"
             ],
             [
              0.5555555555555556,
              "#d8576b"
             ],
             [
              0.6666666666666666,
              "#ed7953"
             ],
             [
              0.7777777777777778,
              "#fb9f3a"
             ],
             [
              0.8888888888888888,
              "#fdca26"
             ],
             [
              1,
              "#f0f921"
             ]
            ],
            "type": "histogram2d"
           }
          ],
          "histogram2dcontour": [
           {
            "colorbar": {
             "outlinewidth": 0,
             "ticks": ""
            },
            "colorscale": [
             [
              0,
              "#0d0887"
             ],
             [
              0.1111111111111111,
              "#46039f"
             ],
             [
              0.2222222222222222,
              "#7201a8"
             ],
             [
              0.3333333333333333,
              "#9c179e"
             ],
             [
              0.4444444444444444,
              "#bd3786"
             ],
             [
              0.5555555555555556,
              "#d8576b"
             ],
             [
              0.6666666666666666,
              "#ed7953"
             ],
             [
              0.7777777777777778,
              "#fb9f3a"
             ],
             [
              0.8888888888888888,
              "#fdca26"
             ],
             [
              1,
              "#f0f921"
             ]
            ],
            "type": "histogram2dcontour"
           }
          ],
          "mesh3d": [
           {
            "colorbar": {
             "outlinewidth": 0,
             "ticks": ""
            },
            "type": "mesh3d"
           }
          ],
          "parcoords": [
           {
            "line": {
             "colorbar": {
              "outlinewidth": 0,
              "ticks": ""
             }
            },
            "type": "parcoords"
           }
          ],
          "pie": [
           {
            "automargin": true,
            "type": "pie"
           }
          ],
          "scatter": [
           {
            "fillpattern": {
             "fillmode": "overlay",
             "size": 10,
             "solidity": 0.2
            },
            "type": "scatter"
           }
          ],
          "scatter3d": [
           {
            "line": {
             "colorbar": {
              "outlinewidth": 0,
              "ticks": ""
             }
            },
            "marker": {
             "colorbar": {
              "outlinewidth": 0,
              "ticks": ""
             }
            },
            "type": "scatter3d"
           }
          ],
          "scattercarpet": [
           {
            "marker": {
             "colorbar": {
              "outlinewidth": 0,
              "ticks": ""
             }
            },
            "type": "scattercarpet"
           }
          ],
          "scattergeo": [
           {
            "marker": {
             "colorbar": {
              "outlinewidth": 0,
              "ticks": ""
             }
            },
            "type": "scattergeo"
           }
          ],
          "scattergl": [
           {
            "marker": {
             "colorbar": {
              "outlinewidth": 0,
              "ticks": ""
             }
            },
            "type": "scattergl"
           }
          ],
          "scattermapbox": [
           {
            "marker": {
             "colorbar": {
              "outlinewidth": 0,
              "ticks": ""
             }
            },
            "type": "scattermapbox"
           }
          ],
          "scatterpolar": [
           {
            "marker": {
             "colorbar": {
              "outlinewidth": 0,
              "ticks": ""
             }
            },
            "type": "scatterpolar"
           }
          ],
          "scatterpolargl": [
           {
            "marker": {
             "colorbar": {
              "outlinewidth": 0,
              "ticks": ""
             }
            },
            "type": "scatterpolargl"
           }
          ],
          "scatterternary": [
           {
            "marker": {
             "colorbar": {
              "outlinewidth": 0,
              "ticks": ""
             }
            },
            "type": "scatterternary"
           }
          ],
          "surface": [
           {
            "colorbar": {
             "outlinewidth": 0,
             "ticks": ""
            },
            "colorscale": [
             [
              0,
              "#0d0887"
             ],
             [
              0.1111111111111111,
              "#46039f"
             ],
             [
              0.2222222222222222,
              "#7201a8"
             ],
             [
              0.3333333333333333,
              "#9c179e"
             ],
             [
              0.4444444444444444,
              "#bd3786"
             ],
             [
              0.5555555555555556,
              "#d8576b"
             ],
             [
              0.6666666666666666,
              "#ed7953"
             ],
             [
              0.7777777777777778,
              "#fb9f3a"
             ],
             [
              0.8888888888888888,
              "#fdca26"
             ],
             [
              1,
              "#f0f921"
             ]
            ],
            "type": "surface"
           }
          ],
          "table": [
           {
            "cells": {
             "fill": {
              "color": "#EBF0F8"
             },
             "line": {
              "color": "white"
             }
            },
            "header": {
             "fill": {
              "color": "#C8D4E3"
             },
             "line": {
              "color": "white"
             }
            },
            "type": "table"
           }
          ]
         },
         "layout": {
          "annotationdefaults": {
           "arrowcolor": "#2a3f5f",
           "arrowhead": 0,
           "arrowwidth": 1
          },
          "autotypenumbers": "strict",
          "coloraxis": {
           "colorbar": {
            "outlinewidth": 0,
            "ticks": ""
           }
          },
          "colorscale": {
           "diverging": [
            [
             0,
             "#8e0152"
            ],
            [
             0.1,
             "#c51b7d"
            ],
            [
             0.2,
             "#de77ae"
            ],
            [
             0.3,
             "#f1b6da"
            ],
            [
             0.4,
             "#fde0ef"
            ],
            [
             0.5,
             "#f7f7f7"
            ],
            [
             0.6,
             "#e6f5d0"
            ],
            [
             0.7,
             "#b8e186"
            ],
            [
             0.8,
             "#7fbc41"
            ],
            [
             0.9,
             "#4d9221"
            ],
            [
             1,
             "#276419"
            ]
           ],
           "sequential": [
            [
             0,
             "#0d0887"
            ],
            [
             0.1111111111111111,
             "#46039f"
            ],
            [
             0.2222222222222222,
             "#7201a8"
            ],
            [
             0.3333333333333333,
             "#9c179e"
            ],
            [
             0.4444444444444444,
             "#bd3786"
            ],
            [
             0.5555555555555556,
             "#d8576b"
            ],
            [
             0.6666666666666666,
             "#ed7953"
            ],
            [
             0.7777777777777778,
             "#fb9f3a"
            ],
            [
             0.8888888888888888,
             "#fdca26"
            ],
            [
             1,
             "#f0f921"
            ]
           ],
           "sequentialminus": [
            [
             0,
             "#0d0887"
            ],
            [
             0.1111111111111111,
             "#46039f"
            ],
            [
             0.2222222222222222,
             "#7201a8"
            ],
            [
             0.3333333333333333,
             "#9c179e"
            ],
            [
             0.4444444444444444,
             "#bd3786"
            ],
            [
             0.5555555555555556,
             "#d8576b"
            ],
            [
             0.6666666666666666,
             "#ed7953"
            ],
            [
             0.7777777777777778,
             "#fb9f3a"
            ],
            [
             0.8888888888888888,
             "#fdca26"
            ],
            [
             1,
             "#f0f921"
            ]
           ]
          },
          "colorway": [
           "#636efa",
           "#EF553B",
           "#00cc96",
           "#ab63fa",
           "#FFA15A",
           "#19d3f3",
           "#FF6692",
           "#B6E880",
           "#FF97FF",
           "#FECB52"
          ],
          "font": {
           "color": "#2a3f5f"
          },
          "geo": {
           "bgcolor": "white",
           "lakecolor": "white",
           "landcolor": "#E5ECF6",
           "showlakes": true,
           "showland": true,
           "subunitcolor": "white"
          },
          "hoverlabel": {
           "align": "left"
          },
          "hovermode": "closest",
          "mapbox": {
           "style": "light"
          },
          "paper_bgcolor": "white",
          "plot_bgcolor": "#E5ECF6",
          "polar": {
           "angularaxis": {
            "gridcolor": "white",
            "linecolor": "white",
            "ticks": ""
           },
           "bgcolor": "#E5ECF6",
           "radialaxis": {
            "gridcolor": "white",
            "linecolor": "white",
            "ticks": ""
           }
          },
          "scene": {
           "xaxis": {
            "backgroundcolor": "#E5ECF6",
            "gridcolor": "white",
            "gridwidth": 2,
            "linecolor": "white",
            "showbackground": true,
            "ticks": "",
            "zerolinecolor": "white"
           },
           "yaxis": {
            "backgroundcolor": "#E5ECF6",
            "gridcolor": "white",
            "gridwidth": 2,
            "linecolor": "white",
            "showbackground": true,
            "ticks": "",
            "zerolinecolor": "white"
           },
           "zaxis": {
            "backgroundcolor": "#E5ECF6",
            "gridcolor": "white",
            "gridwidth": 2,
            "linecolor": "white",
            "showbackground": true,
            "ticks": "",
            "zerolinecolor": "white"
           }
          },
          "shapedefaults": {
           "line": {
            "color": "#2a3f5f"
           }
          },
          "ternary": {
           "aaxis": {
            "gridcolor": "white",
            "linecolor": "white",
            "ticks": ""
           },
           "baxis": {
            "gridcolor": "white",
            "linecolor": "white",
            "ticks": ""
           },
           "bgcolor": "#E5ECF6",
           "caxis": {
            "gridcolor": "white",
            "linecolor": "white",
            "ticks": ""
           }
          },
          "title": {
           "x": 0.05
          },
          "xaxis": {
           "automargin": true,
           "gridcolor": "white",
           "linecolor": "white",
           "ticks": "",
           "title": {
            "standoff": 15
           },
           "zerolinecolor": "white",
           "zerolinewidth": 2
          },
          "yaxis": {
           "automargin": true,
           "gridcolor": "white",
           "linecolor": "white",
           "ticks": "",
           "title": {
            "standoff": 15
           },
           "zerolinecolor": "white",
           "zerolinewidth": 2
          }
         }
        },
        "title": {
         "text": "Phân cụm K-Means của kết quả học tập"
        },
        "xaxis": {
         "anchor": "y",
         "domain": [
          0,
          1
         ],
         "title": {
          "text": "Điểm trung bình(hệ 10)"
         }
        },
        "yaxis": {
         "anchor": "x",
         "domain": [
          0,
          1
         ],
         "title": {
          "text": "Điểm rèn luyện"
         }
        }
       }
      }
     },
     "metadata": {},
     "output_type": "display_data"
    }
   ],
   "source": [
    "kmeans = KMeans(n_clusters=4, random_state=0)\n",
    "y_kmeans = kmeans.fit_predict(X)\n",
    "\n",
    "# Gắn kết quả phân cụm vào dataframe\n",
    "data['Cluster'] = y_kmeans  \n",
    "\n",
    "# Tính toán tọa độ của các trung tâm cụm\n",
    "centers = pd.DataFrame(kmeans.cluster_centers_, columns=['Điểm trung bình(hệ 10)','Điểm rèn luyện'])\n",
    "centers['Cluster'] = range(len(centers))  # Thêm cột Cluster để tương ứng với số cụm\n",
    "\n",
    "# Vẽ biểu đồ tương tác với Plotly\n",
    "fig = px.scatter(\n",
    "    data,\n",
    "    x='Điểm trung bình(hệ 10)',\n",
    "    y='Điểm rèn luyện',\n",
    "    color='Cluster',\n",
    "    symbol ='Cluster',\n",
    "    hover_name='Tên ',  # Hiển thị tên sinh viên khi trỏ chuột\n",
    "    hover_data=['Điểm trung bình(hệ 10)', 'GPA'],  # Hiển thị thêm điểm\n",
    "    title=\"Phân cụm K-Means của kết quả học tập\"\n",
    ")\n",
    "\n",
    "# Thêm các điểm trung tâm vào biểu đồ\n",
    "fig.add_scatter(\n",
    "    x=centers['Điểm trung bình(hệ 10)'],\n",
    "    y=centers['Điểm rèn luyện'],\n",
    "    mode='markers',\n",
    "    marker=dict(size=10, color='red', symbol='star'),\n",
    "    name='Centroids'  # Tên hiển thị cho điểm trung tâm\n",
    ")\n",
    "\n",
    "fig.update_layout(\n",
    "    legend=dict(\n",
    "        x=0, y=0,  \n",
    "        font=dict(size=10, color=\"black\")\n",
    "    ),\n",
    ") \n",
    "# Hiển thị biểu đồ\n",
    "fig.show()\n"
   ]
  },
  {
   "cell_type": "markdown",
   "metadata": {},
   "source": [
    "### K = 5"
   ]
  },
  {
   "cell_type": "code",
   "execution_count": 28,
   "metadata": {},
   "outputs": [
    {
     "name": "stdout",
     "output_type": "stream",
     "text": [
      "[[ 7.55433962 55.75471698]\n",
      " [ 7.38956522 74.80193237]\n",
      " [ 7.46720339 83.83050847]\n",
      " [ 7.48698413 43.53968254]\n",
      " [ 7.40949153 64.81355932]]\n"
     ]
    },
    {
     "data": {
      "application/vnd.plotly.v1+json": {
       "config": {
        "plotlyServerURL": "https://plot.ly"
       },
       "data": [
        {
         "customdata": [
          [
           3.93
          ],
          [
           2.81
          ],
          [
           2.94
          ],
          [
           2.73
          ],
          [
           2.83
          ],
          [
           2.99
          ],
          [
           2.21
          ],
          [
           2.93
          ],
          [
           3.17
          ],
          [
           2.95
          ],
          [
           3.46
          ],
          [
           2.97
          ],
          [
           3.79
          ],
          [
           2.94
          ],
          [
           3.3
          ],
          [
           3.41
          ],
          [
           2.21
          ],
          [
           2.84
          ],
          [
           2.96
          ],
          [
           2.93
          ],
          [
           3.44
          ],
          [
           2.89
          ],
          [
           3.34
          ],
          [
           2.84
          ],
          [
           3.29
          ],
          [
           3.21
          ],
          [
           3.19
          ],
          [
           3.68
          ],
          [
           2.28
          ],
          [
           3.53
          ],
          [
           2.58
          ],
          [
           3.51
          ],
          [
           2.86
          ],
          [
           3.31
          ],
          [
           2.91
          ],
          [
           3.23
          ],
          [
           3.06
          ],
          [
           2.87
          ],
          [
           3.15
          ],
          [
           3.12
          ],
          [
           2.93
          ],
          [
           3.69
          ],
          [
           2.97
          ],
          [
           2.12
          ],
          [
           3.91
          ],
          [
           2.82
          ],
          [
           1.39
          ],
          [
           3.11
          ],
          [
           2.01
          ],
          [
           3.39
          ],
          [
           2.89
          ],
          [
           2.03
          ],
          [
           3.33
          ],
          [
           3.26
          ],
          [
           3.28
          ],
          [
           3.1
          ],
          [
           2.82
          ],
          [
           2.87
          ],
          [
           3.71
          ],
          [
           3.38
          ],
          [
           3.21
          ],
          [
           2.91
          ],
          [
           3.49
          ],
          [
           0
          ],
          [
           2.81
          ],
          [
           3.07
          ],
          [
           2.91
          ],
          [
           2.86
          ],
          [
           2.92
          ],
          [
           2.81
          ],
          [
           3.07
          ],
          [
           3.24
          ],
          [
           2.64
          ],
          [
           3
          ],
          [
           3.07
          ],
          [
           1.47
          ],
          [
           2.99
          ],
          [
           2.94
          ],
          [
           3.33
          ],
          [
           2.86
          ],
          [
           2.88
          ],
          [
           2.82
          ],
          [
           2.84
          ],
          [
           1.73
          ],
          [
           2.89
          ],
          [
           2.99
          ],
          [
           2.89
          ],
          [
           3.19
          ],
          [
           3.44
          ],
          [
           3.14
          ],
          [
           2.89
          ],
          [
           1.25
          ],
          [
           2.88
          ],
          [
           3.34
          ],
          [
           2.93
          ],
          [
           2.98
          ],
          [
           3.03
          ],
          [
           3.49
          ],
          [
           2.98
          ],
          [
           2.81
          ],
          [
           3
          ],
          [
           3.11
          ],
          [
           3.38
          ],
          [
           2.8
          ],
          [
           2.97
          ],
          [
           2.78
          ],
          [
           3.49
          ],
          [
           2.94
          ],
          [
           2.84
          ],
          [
           2.97
          ],
          [
           2.94
          ],
          [
           3
          ],
          [
           2.99
          ],
          [
           2.79
          ],
          [
           0
          ],
          [
           3.01
          ],
          [
           2.8
          ],
          [
           3.19
          ]
         ],
         "hovertemplate": "<b>%{hovertext}</b><br><br>Cluster=%{marker.color}<br>Điểm trung bình(hệ 10)=%{x}<br>Điểm rèn luyện=%{y}<br>GPA=%{customdata[0]}<extra></extra>",
         "hovertext": [
          "Bùi Quốc Linh",
          "Phan Đình Tuấn",
          "Phạm Anh Bình",
          "Hoàng Hữu Phong",
          "Phan Văn Tuấn",
          "Nguyễn Khánh Anh",
          "Đỗ Thanh Khang",
          "Bùi Hữu Quang",
          "Bùi Quốc Bình",
          "Hoàng Hải Phong",
          "Phan Minh Cường",
          "Bùi Hữu Khang",
          "Phan Khánh Phong",
          "Lê Anh Dương",
          "Phạm Minh Khang",
          "Bùi Văn Cường",
          "Hoàng Hải Dương",
          "Đặng Khánh Bình",
          "Nguyễn Quốc Bình",
          "Trần Hải Tuấn",
          "Phan Đình Tuấn",
          "Phan Anh Cường",
          "Phan Văn Huy",
          "Phạm Khánh Khang",
          "Lê Hải Bình",
          "Phạm Hải Khang",
          "Bùi Hữu Cường",
          "Đỗ Thị Khang",
          "Lê Văn Huy",
          "Hoàng Anh Huy",
          "Trần Khánh Tuấn",
          "Hoàng Minh Dương",
          "Trần Anh Khang",
          "Nguyễn Hữu Linh",
          "Đỗ Khánh Bình",
          "Nguyễn Thị Anh",
          "Hoàng Thanh Huy",
          "Đỗ Thị Huy",
          "Nguyễn Minh Phong",
          "Bùi Minh Khang",
          "Trần Thanh Tuấn",
          "Phan Hải Cường",
          "Phan Hải Cường",
          "Nguyễn Khánh Bình",
          "Hoàng Văn Dương",
          "Bùi Hữu Linh",
          "Phan Văn Huy",
          "Trần Khánh Phong",
          "Lê Hải Anh",
          "Lê Đình Tuấn",
          "Lê Thị Huy",
          "Phạm Văn Phong",
          "Phạm Hải Bình",
          "Phạm Minh Cường",
          "Đặng Hải Tuấn",
          "Trần Khánh Anh",
          "Vũ Quốc Dương",
          "Đặng Minh Huy",
          "Nguyễn Minh Quang",
          "Phan Anh Linh",
          "Hoàng Văn Phong",
          "Vũ Khánh Tuấn",
          "Bùi Anh Tuấn",
          "Đặng Đình Quang",
          "Hoàng Hữu Linh",
          "Nguyễn Đình Huy",
          "Đặng Đình Cường",
          "Bùi Quốc Phong",
          "Đỗ Quốc Phong",
          "Bùi Văn Dương",
          "Trần Minh Khang",
          "Đỗ Khánh Anh",
          "Đỗ Hữu Cường",
          "Lê Anh Dương",
          "Bùi Minh Bình",
          "Vũ Đình Huy",
          "Bùi Anh Khang",
          "Vũ Hữu Khang",
          "Hoàng Khánh Linh",
          "Đặng Thanh Bình",
          "Đỗ Thanh Linh",
          "Nguyễn Văn Cường",
          "Đỗ Quốc Bình",
          "Nguyễn Minh Linh",
          "Trần Quốc Phong",
          "Lê Thị Anh",
          "Phan Quốc Dương",
          "Phạm Đình Quang",
          "Đặng Khánh Anh",
          "Phạm Anh Bình",
          "Đỗ Anh Khang",
          "Đặng Thị Cường",
          "Hoàng Đình Tuấn",
          "Nguyễn Thị Dương",
          "Đặng Văn Linh",
          "Phạm Minh Dương",
          "Lê Thị Anh",
          "Trần Hải Phong",
          "Đỗ Đình Khang",
          "Đặng Văn Khang",
          "Bùi Minh Khang",
          "Vũ Thị Cường",
          "Đặng Minh Huy",
          "Phan Quốc Huy",
          "Trần Quốc Tuấn",
          "Đỗ Quốc Phong",
          "Đặng Minh Anh",
          "Vũ Văn Huy",
          "Lê Hữu Phong",
          "Lê Thanh Phong",
          "Đặng Hải Quang",
          "Phan Hải Khang",
          "Nguyễn Hải Tuấn",
          "Bùi Văn Linh",
          "Phan Văn Tuấn",
          "Hoàng Anh Tuấn",
          "Trần Hải Quang",
          "Đặng Minh Cường"
         ],
         "legendgroup": "2",
         "marker": {
          "color": [
           2,
           2,
           2,
           2,
           2,
           2,
           2,
           2,
           2,
           2,
           2,
           2,
           2,
           2,
           2,
           2,
           2,
           2,
           2,
           2,
           2,
           2,
           2,
           2,
           2,
           2,
           2,
           2,
           2,
           2,
           2,
           2,
           2,
           2,
           2,
           2,
           2,
           2,
           2,
           2,
           2,
           2,
           2,
           2,
           2,
           2,
           2,
           2,
           2,
           2,
           2,
           2,
           2,
           2,
           2,
           2,
           2,
           2,
           2,
           2,
           2,
           2,
           2,
           2,
           2,
           2,
           2,
           2,
           2,
           2,
           2,
           2,
           2,
           2,
           2,
           2,
           2,
           2,
           2,
           2,
           2,
           2,
           2,
           2,
           2,
           2,
           2,
           2,
           2,
           2,
           2,
           2,
           2,
           2,
           2,
           2,
           2,
           2,
           2,
           2,
           2,
           2,
           2,
           2,
           2,
           2,
           2,
           2,
           2,
           2,
           2,
           2,
           2,
           2,
           2,
           2,
           2,
           2
          ],
          "coloraxis": "coloraxis",
          "symbol": "circle"
         },
         "mode": "markers",
         "name": "2",
         "orientation": "v",
         "showlegend": true,
         "type": "scatter",
         "x": [
          9.63,
          7.12,
          7.61,
          6.45,
          7.74,
          7.2,
          5.72,
          7.33,
          7.9,
          7.75,
          7.84,
          7.28,
          8.6,
          7.22,
          8.03,
          7.95,
          5.58,
          7.12,
          7.61,
          7.69,
          7.82,
          7.1,
          8.35,
          7.77,
          8.3,
          8.23,
          8.1,
          9.77,
          5.78,
          8.74,
          6.81,
          9.46,
          7.67,
          8.1,
          7.64,
          7.91,
          8.19,
          7.44,
          8.38,
          8.07,
          7.35,
          9.19,
          7.69,
          5.52,
          9.29,
          7.49,
          4.57,
          7.81,
          5.75,
          8.1,
          7.27,
          6.05,
          7.95,
          7.87,
          8.13,
          8.29,
          7.78,
          7.39,
          9.1,
          8.05,
          7.88,
          7.6,
          8.38,
          1.41,
          7.61,
          8.01,
          7.6,
          7.79,
          7.59,
          7.29,
          8.22,
          7.84,
          6.87,
          7.03,
          8,
          4.28,
          7.63,
          7.14,
          8,
          7.24,
          7.12,
          7.76,
          7.16,
          5.02,
          7.14,
          7.72,
          7.26,
          8.11,
          8.25,
          8.38,
          7.14,
          4.16,
          7.07,
          7.86,
          7.77,
          7.05,
          8.31,
          8.11,
          7.53,
          7.27,
          7.65,
          8.36,
          8.23,
          7.68,
          7.57,
          6.7,
          8.07,
          7.02,
          7.32,
          7.39,
          7.48,
          7.74,
          7.71,
          6.64,
          2.58,
          8.13,
          7.24,
          8.38
         ],
         "xaxis": "x",
         "y": [
          97,
          95,
          82,
          98,
          90,
          81,
          82,
          82,
          82,
          81,
          84,
          83,
          83,
          81,
          80,
          80,
          82,
          81,
          80,
          84,
          80,
          83,
          84,
          82,
          90,
          80,
          81,
          80,
          82,
          82,
          80,
          81,
          80,
          98,
          81,
          81,
          84,
          82,
          81,
          91,
          91,
          84,
          80,
          82,
          80,
          100,
          82,
          81,
          84,
          83,
          84,
          80,
          80,
          83,
          86,
          82,
          81,
          82,
          94,
          81,
          81,
          84,
          94,
          83,
          80,
          83,
          83,
          82,
          81,
          80,
          83,
          83,
          80,
          81,
          80,
          83,
          96,
          80,
          80,
          82,
          89,
          80,
          84,
          82,
          81,
          84,
          81,
          82,
          86,
          87,
          93,
          80,
          80,
          82,
          82,
          88,
          91,
          81,
          85,
          80,
          87,
          83,
          80,
          83,
          99,
          80,
          94,
          83,
          80,
          83,
          83,
          82,
          81,
          80,
          83,
          84,
          80,
          99
         ],
         "yaxis": "y"
        },
        {
         "customdata": [
          [
           1.59
          ],
          [
           2.94
          ],
          [
           2.55
          ],
          [
           2.82
          ],
          [
           2.8
          ],
          [
           2.85
          ],
          [
           2.93
          ],
          [
           3.29
          ],
          [
           3.16
          ],
          [
           3.7
          ],
          [
           2.99
          ],
          [
           3.43
          ],
          [
           1.77
          ],
          [
           3.11
          ],
          [
           2.92
          ],
          [
           3.44
          ],
          [
           2.93
          ],
          [
           3.08
          ],
          [
           1.7
          ],
          [
           2.48
          ],
          [
           3.24
          ],
          [
           2.81
          ],
          [
           2.64
          ],
          [
           3
          ],
          [
           2.6
          ],
          [
           3.1
          ],
          [
           2.38
          ],
          [
           3.27
          ],
          [
           3.37
          ],
          [
           2.81
          ],
          [
           3
          ],
          [
           3.28
          ],
          [
           2.92
          ],
          [
           3.35
          ],
          [
           2.82
          ],
          [
           2.93
          ],
          [
           2.81
          ],
          [
           3.49
          ],
          [
           1.39
          ],
          [
           3
          ],
          [
           3.03
          ],
          [
           3.15
          ],
          [
           2.88
          ],
          [
           2.41
          ],
          [
           3.56
          ],
          [
           3.44
          ],
          [
           3.09
          ],
          [
           3.12
          ],
          [
           3.03
          ],
          [
           2.88
          ],
          [
           3.68
          ],
          [
           2.91
          ],
          [
           3.4
          ],
          [
           3.1
          ],
          [
           2.88
          ],
          [
           2.87
          ],
          [
           2.21
          ],
          [
           1.33
          ],
          [
           2.8
          ],
          [
           2.99
          ],
          [
           3.31
          ],
          [
           3.47
          ],
          [
           3.05
          ],
          [
           2.97
          ],
          [
           3.2
          ],
          [
           2.87
          ],
          [
           2.91
          ],
          [
           3.36
          ],
          [
           3.15
          ],
          [
           2.93
          ],
          [
           3.28
          ],
          [
           2.91
          ],
          [
           0
          ],
          [
           2.82
          ],
          [
           3
          ],
          [
           2.9
          ],
          [
           2.83
          ],
          [
           2.92
          ],
          [
           2.86
          ],
          [
           3.19
          ],
          [
           2.97
          ],
          [
           3.06
          ],
          [
           2
          ],
          [
           3.19
          ],
          [
           3.29
          ],
          [
           2.9
          ],
          [
           2.86
          ],
          [
           2.99
          ],
          [
           2.85
          ],
          [
           3.25
          ],
          [
           3.2
          ],
          [
           3.88
          ],
          [
           2.84
          ],
          [
           3.37
          ],
          [
           3.41
          ],
          [
           2.18
          ],
          [
           2.83
          ],
          [
           3
          ],
          [
           2.75
          ],
          [
           2.97
          ],
          [
           2.8
          ],
          [
           3.04
          ],
          [
           2.89
          ],
          [
           1.5
          ],
          [
           3.39
          ],
          [
           3.34
          ],
          [
           3.42
          ],
          [
           3.47
          ],
          [
           2.83
          ],
          [
           3
          ],
          [
           2.86
          ],
          [
           3.06
          ],
          [
           2.96
          ],
          [
           3.29
          ],
          [
           3.32
          ],
          [
           2.95
          ],
          [
           2.38
          ],
          [
           3.18
          ],
          [
           3.03
          ],
          [
           2.95
          ],
          [
           3.74
          ],
          [
           3.09
          ],
          [
           2.81
          ],
          [
           3
          ],
          [
           3.57
          ],
          [
           2.29
          ],
          [
           3
          ],
          [
           2.83
          ],
          [
           3.3
          ],
          [
           2.99
          ],
          [
           3.23
          ],
          [
           2.91
          ],
          [
           2.84
          ],
          [
           2.63
          ],
          [
           2.95
          ],
          [
           2.95
          ],
          [
           2.96
          ],
          [
           1.23
          ],
          [
           2.92
          ],
          [
           2.88
          ],
          [
           2.84
          ],
          [
           3.5
          ],
          [
           1.51
          ],
          [
           3.17
          ],
          [
           3.56
          ],
          [
           2.96
          ],
          [
           2.86
          ],
          [
           3.07
          ],
          [
           2.97
          ],
          [
           2.88
          ],
          [
           2.84
          ],
          [
           3.14
          ],
          [
           3.39
          ],
          [
           2.87
          ],
          [
           2.84
          ],
          [
           2.82
          ],
          [
           2.81
          ],
          [
           2.82
          ],
          [
           2.12
          ],
          [
           2.85
          ],
          [
           3.04
          ],
          [
           3
          ],
          [
           3.1
          ],
          [
           2.86
          ],
          [
           2.31
          ],
          [
           2.32
          ],
          [
           1.15
          ],
          [
           2.72
          ],
          [
           2.91
          ],
          [
           2.93
          ],
          [
           3.4
          ],
          [
           2.2
          ],
          [
           2.83
          ],
          [
           3.06
          ],
          [
           2.08
          ],
          [
           2.22
          ],
          [
           2.87
          ],
          [
           2.84
          ],
          [
           3.07
          ],
          [
           2.95
          ],
          [
           3.02
          ],
          [
           2.9
          ],
          [
           2.8
          ],
          [
           3
          ],
          [
           2.81
          ],
          [
           3
          ],
          [
           0
          ],
          [
           2.85
          ],
          [
           2.9
          ],
          [
           3.06
          ],
          [
           3.11
          ],
          [
           2.08
          ],
          [
           2.81
          ],
          [
           3.23
          ],
          [
           2.83
          ],
          [
           2.6
          ],
          [
           2.97
          ],
          [
           3.13
          ],
          [
           2.82
          ],
          [
           3.5
          ],
          [
           3
          ],
          [
           3.34
          ],
          [
           3.33
          ],
          [
           3.49
          ],
          [
           3.68
          ],
          [
           3.14
          ],
          [
           2.92
          ]
         ],
         "hovertemplate": "<b>%{hovertext}</b><br><br>Cluster=%{marker.color}<br>Điểm trung bình(hệ 10)=%{x}<br>Điểm rèn luyện=%{y}<br>GPA=%{customdata[0]}<extra></extra>",
         "hovertext": [
          "Trần Thanh Khang",
          "Nguyễn Anh Linh",
          "Vũ Hữu Bình",
          "Đỗ Anh Anh",
          "Trần Hải Linh",
          "Trần Hữu Huy",
          "Nguyễn Văn Cường",
          "Hoàng Hải Bình",
          "Đặng Thanh Huy",
          "Trần Thị Huy",
          "Vũ Thanh Bình",
          "Phan Khánh Bình",
          "Đặng Khánh Bình",
          "Đặng Hữu Quang",
          "Vũ Minh Dương",
          "Vũ Anh Anh",
          "Phan Thanh Linh",
          "Bùi Minh Linh",
          "Bùi Thị Quang",
          "Trần Quốc Quang",
          "Hoàng Khánh Phong",
          "Đặng Quốc Dương",
          "Lê Quốc Tuấn",
          "Bùi Thanh Khang",
          "Phạm Khánh Huy",
          "Phạm Hải Khang",
          "Đỗ Minh Tuấn",
          "Nguyễn Minh Anh",
          "Trần Quốc Tuấn",
          "Lê Thị Phong",
          "Hoàng Quốc Quang",
          "Hoàng Quốc Phong",
          "Lê Thanh Anh",
          "Hoàng Minh Linh",
          "Trần Khánh Khang",
          "Phạm Thanh Tuấn",
          "Trần Khánh Phong",
          "Phan Văn Huy",
          "Đỗ Quốc Dương",
          "Phan Thị Phong",
          "Phan Quốc Phong",
          "Phạm Minh Khang",
          "Bùi Hải Linh",
          "Nguyễn Hữu Tuấn",
          "Hoàng Minh Cường",
          "Vũ Hải Quang",
          "Vũ Thị Cường",
          "Hoàng Minh Dương",
          "Đặng Hữu Anh",
          "Đỗ Thanh Khang",
          "Phạm Hải Anh",
          "Phạm Khánh Linh",
          "Đặng Anh Huy",
          "Đỗ Minh Cường",
          "Phạm Đình Quang",
          "Đỗ Hữu Huy",
          "Đặng Khánh Cường",
          "Phan Hải Phong",
          "Phạm Anh Quang",
          "Bùi Văn Khang",
          "Vũ Văn Bình",
          "Lê Thị Cường",
          "Hoàng Hải Anh",
          "Lê Văn Bình",
          "Trần Thị Tuấn",
          "Nguyễn Thanh Tuấn",
          "Phan Thị Phong",
          "Lê Hữu Tuấn",
          "Hoàng Thị Quang",
          "Vũ Thị Huy",
          "Lê Khánh Khang",
          "Vũ Đình Huy",
          "Vũ Quốc Phong",
          "Trần Minh Phong",
          "Hoàng Quốc Huy",
          "Phan Thanh Quang",
          "Vũ Đình Dương",
          "Phan Hải Phong",
          "Phan Thị Khang",
          "Trần Khánh Anh",
          "Bùi Thị Huy",
          "Phan Hữu Huy",
          "Hoàng Minh Tuấn",
          "Lê Hải Tuấn",
          "Trần Hải Phong",
          "Hoàng Khánh Cường",
          "Vũ Thị Dương",
          "Phan Đình Dương",
          "Phan Minh Linh",
          "Hoàng Đình Tuấn",
          "Lê Hữu Huy",
          "Lê Khánh Linh",
          "Phạm Hải Cường",
          "Nguyễn Thị Dương",
          "Hoàng Thị Dương",
          "Trần Quốc Cường",
          "Đỗ Văn Cường",
          "Lê Văn Tuấn",
          "Trần Hải Quang",
          "Nguyễn Văn Cường",
          "Đặng Hữu Quang",
          "Nguyễn Hải Quang",
          "Bùi Văn Khang",
          "Trần Thanh Linh",
          "Nguyễn Hải Dương",
          "Trần Quốc Phong",
          "Hoàng Hải Tuấn",
          "Phan Đình Phong",
          "Hoàng Thị Quang",
          "Lê Khánh Dương",
          "Phan Minh Tuấn",
          "Bùi Hải Dương",
          "Đặng Minh Quang",
          "Đỗ Đình Bình",
          "Hoàng Minh Dương",
          "Phan Thị Cường",
          "Bùi Thanh Anh",
          "Bùi Minh Quang",
          "Phạm Khánh Quang",
          "Lê Hữu Cường",
          "Trần Hữu Cường",
          "Trần Văn Khang",
          "Phạm Hữu Bình",
          "Phạm Thanh Anh",
          "Vũ Hữu Linh",
          "Phan Hữu Linh",
          "Đặng Hải Huy",
          "Bùi Thị Linh",
          "Lê Khánh Linh",
          "Hoàng Thị Khang",
          "Phan Thị Cường",
          "Lê Văn Quang",
          "Hoàng Minh Tuấn",
          "Đặng Anh Linh",
          "Phan Thanh Cường",
          "Đặng Minh Linh",
          "Lê Quốc Quang",
          "Lê Đình Linh",
          "Phạm Khánh Quang",
          "Trần Quốc Quang",
          "Đặng Hữu Phong",
          "Phạm Văn Dương",
          "Trần Đình Khang",
          "Phan Thanh Cường",
          "Lê Minh Cường",
          "Phan Văn Quang",
          "Phan Quốc Khang",
          "Bùi Anh Khang",
          "Đặng Quốc Khang",
          "Phan Khánh Anh",
          "Đặng Hữu Phong",
          "Trần Anh Cường",
          "Hoàng Thanh Phong",
          "Phan Hữu Linh",
          "Đỗ Đình Quang",
          "Phan Hữu Quang",
          "Đặng Văn Anh",
          "Phan Hải Tuấn",
          "Đỗ Khánh Dương",
          "Nguyễn Khánh Huy",
          "Bùi Thanh Khang",
          "Trần Quốc Bình",
          "Nguyễn Đình Huy",
          "Đặng Hải Linh",
          "Phan Hữu Linh",
          "Bùi Anh Anh",
          "Bùi Văn Phong",
          "Vũ Khánh Huy",
          "Bùi Minh Linh",
          "Hoàng Quốc Cường",
          "Đặng Thanh Dương",
          "Phan Quốc Cường",
          "Lê Thanh Phong",
          "Nguyễn Hải Linh",
          "Trần Anh Huy",
          "Lê Hữu Cường",
          "Trần Quốc Huy",
          "Đỗ Khánh Quang",
          "Nguyễn Văn Quang",
          "Đặng Đình Tuấn",
          "Trần Thị Huy",
          "Lê Anh Linh",
          "Phạm Anh Phong",
          "Phan Anh Linh",
          "Lê Văn Anh",
          "Đặng Văn Bình",
          "Vũ Đình Cường",
          "Nguyễn Anh Bình",
          "Vũ Minh Anh",
          "Lê Hữu Cường",
          "Lê Văn Phong",
          "Phạm Thanh Anh",
          "Bùi Minh Anh",
          "Nguyễn Quốc Dương",
          "Phạm Hải Quang",
          "Đặng Minh Quang",
          "Phan Đình Bình",
          "Phạm Quốc Khang",
          "Hoàng Anh Phong",
          "Trần Minh Linh",
          "Lê Khánh Cường",
          "Đặng Quốc Tuấn",
          "Nguyễn Hải Anh",
          "Vũ Minh Khang",
          "Vũ Văn Huy",
          "Đặng Văn Tuấn",
          "Phan Đình Bình"
         ],
         "legendgroup": "1",
         "marker": {
          "color": [
           1,
           1,
           1,
           1,
           1,
           1,
           1,
           1,
           1,
           1,
           1,
           1,
           1,
           1,
           1,
           1,
           1,
           1,
           1,
           1,
           1,
           1,
           1,
           1,
           1,
           1,
           1,
           1,
           1,
           1,
           1,
           1,
           1,
           1,
           1,
           1,
           1,
           1,
           1,
           1,
           1,
           1,
           1,
           1,
           1,
           1,
           1,
           1,
           1,
           1,
           1,
           1,
           1,
           1,
           1,
           1,
           1,
           1,
           1,
           1,
           1,
           1,
           1,
           1,
           1,
           1,
           1,
           1,
           1,
           1,
           1,
           1,
           1,
           1,
           1,
           1,
           1,
           1,
           1,
           1,
           1,
           1,
           1,
           1,
           1,
           1,
           1,
           1,
           1,
           1,
           1,
           1,
           1,
           1,
           1,
           1,
           1,
           1,
           1,
           1,
           1,
           1,
           1,
           1,
           1,
           1,
           1,
           1,
           1,
           1,
           1,
           1,
           1,
           1,
           1,
           1,
           1,
           1,
           1,
           1,
           1,
           1,
           1,
           1,
           1,
           1,
           1,
           1,
           1,
           1,
           1,
           1,
           1,
           1,
           1,
           1,
           1,
           1,
           1,
           1,
           1,
           1,
           1,
           1,
           1,
           1,
           1,
           1,
           1,
           1,
           1,
           1,
           1,
           1,
           1,
           1,
           1,
           1,
           1,
           1,
           1,
           1,
           1,
           1,
           1,
           1,
           1,
           1,
           1,
           1,
           1,
           1,
           1,
           1,
           1,
           1,
           1,
           1,
           1,
           1,
           1,
           1,
           1,
           1,
           1,
           1,
           1,
           1,
           1,
           1,
           1,
           1,
           1,
           1,
           1,
           1,
           1,
           1,
           1,
           1,
           1,
           1,
           1,
           1,
           1,
           1,
           1
          ],
          "coloraxis": "coloraxis",
          "symbol": "diamond"
         },
         "mode": "markers",
         "name": "1",
         "orientation": "v",
         "showlegend": true,
         "type": "scatter",
         "x": [
          5.12,
          7.75,
          6.52,
          7.11,
          7.25,
          7.63,
          7.79,
          7.95,
          7.91,
          8.8,
          7.09,
          7.8,
          5.26,
          8.35,
          7.26,
          7.87,
          7.61,
          7.91,
          5.31,
          5.77,
          7.82,
          7.24,
          6.67,
          7.19,
          6.6,
          7.86,
          6.07,
          8.02,
          8.08,
          7.28,
          7.35,
          8.33,
          7.15,
          8.3,
          7.55,
          7.26,
          7.76,
          8.1,
          4.59,
          7.21,
          8.25,
          7.98,
          7.52,
          6.02,
          9.94,
          8.02,
          8.37,
          8,
          8.1,
          7.7,
          9.43,
          7.53,
          8.23,
          8.33,
          7.41,
          7.29,
          6.26,
          4.79,
          7.25,
          7.41,
          8.23,
          8.12,
          7.8,
          7.56,
          8.34,
          7.3,
          7.47,
          8.35,
          8.3,
          7.22,
          7.98,
          7.27,
          0.37,
          7.62,
          7.2,
          7.15,
          7.4,
          7.58,
          7.64,
          8.26,
          7.6,
          8.28,
          5.8,
          7.84,
          8.16,
          7.05,
          7.33,
          7.21,
          7.04,
          7.8,
          7.84,
          9.17,
          7.73,
          7.8,
          8.19,
          5.82,
          7.15,
          7.75,
          6.61,
          7.76,
          7.69,
          7.89,
          7.15,
          4.49,
          8.01,
          8.1,
          8.22,
          8.06,
          7.22,
          7.15,
          7.4,
          8.05,
          7.69,
          8.3,
          8.04,
          7.36,
          5.88,
          8.11,
          8.23,
          7.21,
          9.3,
          8.02,
          7.77,
          7.69,
          9.01,
          6.22,
          7.8,
          7.63,
          8.06,
          7.18,
          8.06,
          7.78,
          7.23,
          6.42,
          7.69,
          7.25,
          7.44,
          4.23,
          7.27,
          7.16,
          7.74,
          7.82,
          4.92,
          8.4,
          9.22,
          7.41,
          7.46,
          7.89,
          7.53,
          7.23,
          7.47,
          8.11,
          7.83,
          7.22,
          7.27,
          7.18,
          7.65,
          7.73,
          5.9,
          7.74,
          8.27,
          7.49,
          8.25,
          7.4,
          5.62,
          5.59,
          4.58,
          6.63,
          7.1,
          7.63,
          7.85,
          6.21,
          7.46,
          7.83,
          5.77,
          5.74,
          7.36,
          7.79,
          8.31,
          7.3,
          7.85,
          7.38,
          7.48,
          7.4,
          7.45,
          7.45,
          0.24,
          7.48,
          7.03,
          7.95,
          8.24,
          5.92,
          7.05,
          8.25,
          7.54,
          6.71,
          7.19,
          8.32,
          7.11,
          8.36,
          7.75,
          8.39,
          7.92,
          7.8,
          9.4,
          8.02,
          7.19
         ],
         "xaxis": "x",
         "y": [
          75,
          71,
          74,
          76,
          79,
          74,
          77,
          74,
          70,
          77,
          77,
          76,
          73,
          71,
          77,
          76,
          77,
          79,
          71,
          79,
          78,
          76,
          71,
          71,
          73,
          74,
          74,
          79,
          72,
          77,
          75,
          71,
          74,
          73,
          78,
          75,
          74,
          79,
          75,
          75,
          73,
          72,
          74,
          73,
          78,
          71,
          78,
          74,
          72,
          78,
          71,
          74,
          76,
          76,
          71,
          71,
          76,
          74,
          79,
          70,
          74,
          71,
          74,
          78,
          72,
          78,
          78,
          78,
          75,
          79,
          75,
          72,
          75,
          74,
          73,
          79,
          76,
          72,
          78,
          77,
          75,
          71,
          72,
          71,
          78,
          71,
          74,
          70,
          71,
          78,
          75,
          73,
          72,
          74,
          74,
          74,
          77,
          78,
          74,
          76,
          77,
          79,
          73,
          77,
          78,
          78,
          78,
          78,
          78,
          77,
          74,
          74,
          78,
          76,
          72,
          75,
          74,
          77,
          74,
          75,
          71,
          70,
          74,
          71,
          79,
          74,
          74,
          76,
          73,
          73,
          76,
          75,
          74,
          72,
          73,
          71,
          73,
          78,
          75,
          71,
          76,
          79,
          78,
          70,
          72,
          75,
          77,
          72,
          79,
          74,
          70,
          74,
          72,
          75,
          71,
          75,
          76,
          72,
          70,
          79,
          76,
          78,
          70,
          70,
          78,
          77,
          70,
          71,
          78,
          74,
          76,
          76,
          75,
          75,
          71,
          71,
          76,
          76,
          70,
          72,
          73,
          74,
          73,
          76,
          79,
          75,
          79,
          75,
          76,
          77,
          78,
          74,
          76,
          77,
          79,
          73,
          77,
          78,
          78,
          78,
          78,
          78,
          77,
          74,
          72,
          78,
          77
         ],
         "yaxis": "y"
        },
        {
         "customdata": [
          [
           3.42
          ],
          [
           1.55
          ],
          [
           2.92
          ],
          [
           3
          ],
          [
           2.96
          ],
          [
           2.85
          ],
          [
           3.49
          ],
          [
           2.56
          ],
          [
           3.31
          ],
          [
           2.99
          ],
          [
           2.91
          ],
          [
           2.85
          ],
          [
           3.13
          ],
          [
           2.58
          ],
          [
           2.83
          ],
          [
           2.86
          ],
          [
           2.94
          ],
          [
           1.69
          ],
          [
           2.87
          ],
          [
           2.9
          ],
          [
           2.86
          ],
          [
           2.88
          ],
          [
           3.36
          ],
          [
           2.53
          ],
          [
           2.95
          ],
          [
           3.74
          ],
          [
           2.94
          ],
          [
           2.82
          ],
          [
           2.96
          ],
          [
           2.3
          ],
          [
           2.88
          ],
          [
           3.1
          ],
          [
           2.9
          ],
          [
           2.92
          ],
          [
           3.95
          ],
          [
           3
          ],
          [
           2.69
          ],
          [
           3.23
          ],
          [
           2.97
          ],
          [
           3.55
          ],
          [
           1.23
          ],
          [
           2.82
          ],
          [
           3.41
          ],
          [
           3.46
          ],
          [
           3.24
          ],
          [
           3.2
          ],
          [
           2.92
          ],
          [
           2.89
          ],
          [
           2.87
          ],
          [
           2.81
          ],
          [
           3.38
          ],
          [
           3.18
          ],
          [
           2.95
          ],
          [
           2.96
          ],
          [
           2.51
          ],
          [
           2.91
          ],
          [
           3.25
          ],
          [
           2.81
          ],
          [
           2.95
          ]
         ],
         "hovertemplate": "<b>%{hovertext}</b><br><br>Cluster=%{marker.color}<br>Điểm trung bình(hệ 10)=%{x}<br>Điểm rèn luyện=%{y}<br>GPA=%{customdata[0]}<extra></extra>",
         "hovertext": [
          "Vũ Văn Huy",
          "Nguyễn Khánh Dương",
          "Lê Quốc Tuấn",
          "Bùi Thanh Linh",
          "Trần Anh Bình",
          "Nguyễn Thị Tuấn",
          "Nguyễn Quốc Tuấn",
          "Trần Thị Cường",
          "Nguyễn Anh Quang",
          "Đặng Hải Anh",
          "Hoàng Thanh Linh",
          "Trần Anh Quang",
          "Đặng Đình Bình",
          "Đặng Văn Khang",
          "Nguyễn Quốc Phong",
          "Đặng Quốc Cường",
          "Đặng Hải Dương",
          "Lê Văn Huy",
          "Đỗ Minh Huy",
          "Đỗ Đình Dương",
          "Trần Thanh Cường",
          "Lê Minh Dương",
          "Vũ Hải Linh",
          "Trần Đình Cường",
          "Phạm Hữu Cường",
          "Lê Văn Quang",
          "Vũ Anh Anh",
          "Trần Thị Linh",
          "Vũ Thị Tuấn",
          "Hoàng Hữu Tuấn",
          "Bùi Khánh Anh",
          "Lê Đình Anh",
          "Lê Anh Linh",
          "Vũ Văn Bình",
          "Đỗ Hải Tuấn",
          "Trần Thanh Khang",
          "Đặng Thị Tuấn",
          "Nguyễn Quốc Dương",
          "Bùi Khánh Khang",
          "Vũ Văn Linh",
          "Vũ Hải Khang",
          "Phạm Thị Linh",
          "Trần Quốc Dương",
          "Lê Đình Huy",
          "Đỗ Quốc Khang",
          "Vũ Thị Dương",
          "Vũ Thị Bình",
          "Đỗ Đình Anh",
          "Đặng Thị Linh",
          "Đỗ Minh Huy",
          "Vũ Quốc Dương",
          "Phan Minh Bình",
          "Nguyễn Khánh Cường",
          "Đỗ Quốc Tuấn",
          "Nguyễn Hữu Bình",
          "Đặng Hải Dương",
          "Hoàng Văn Dương",
          "Bùi Minh Anh",
          "Hoàng Thanh Dương"
         ],
         "legendgroup": "4",
         "marker": {
          "color": [
           4,
           4,
           4,
           4,
           4,
           4,
           4,
           4,
           4,
           4,
           4,
           4,
           4,
           4,
           4,
           4,
           4,
           4,
           4,
           4,
           4,
           4,
           4,
           4,
           4,
           4,
           4,
           4,
           4,
           4,
           4,
           4,
           4,
           4,
           4,
           4,
           4,
           4,
           4,
           4,
           4,
           4,
           4,
           4,
           4,
           4,
           4,
           4,
           4,
           4,
           4,
           4,
           4,
           4,
           4,
           4,
           4,
           4,
           4
          ],
          "coloraxis": "coloraxis",
          "symbol": "square"
         },
         "mode": "markers",
         "name": "4",
         "orientation": "v",
         "showlegend": true,
         "type": "scatter",
         "x": [
          8.09,
          4.99,
          7.33,
          7.06,
          7.52,
          7.32,
          8.3,
          6.82,
          8.17,
          7.48,
          7.78,
          7.46,
          7.81,
          6.41,
          7.1,
          7.69,
          7.03,
          4.88,
          7.73,
          7.15,
          7.1,
          7.01,
          8.12,
          6.87,
          7.23,
          8.95,
          7.65,
          7.17,
          7.25,
          6.11,
          7.78,
          7.83,
          7.19,
          7.76,
          8.76,
          7.44,
          6.46,
          8,
          7.27,
          9.79,
          4.36,
          7.03,
          8.13,
          8.13,
          7.91,
          8.33,
          7.22,
          7.17,
          7.79,
          7.29,
          7.83,
          7.82,
          7.54,
          7.25,
          6.56,
          7.63,
          8.22,
          7.57,
          7.52
         ],
         "xaxis": "x",
         "y": [
          62,
          61,
          64,
          63,
          65,
          66,
          66,
          63,
          64,
          63,
          63,
          63,
          68,
          65,
          68,
          66,
          61,
          65,
          69,
          66,
          68,
          69,
          66,
          64,
          66,
          68,
          63,
          61,
          64,
          62,
          67,
          63,
          64,
          66,
          63,
          68,
          62,
          61,
          66,
          68,
          63,
          69,
          66,
          64,
          67,
          67,
          62,
          63,
          64,
          66,
          63,
          63,
          66,
          65,
          68,
          67,
          63,
          64,
          64
         ],
         "yaxis": "y"
        },
        {
         "customdata": [
          [
           2.92
          ],
          [
           2.95
          ],
          [
           3.59
          ],
          [
           3.29
          ],
          [
           2.99
          ],
          [
           3
          ],
          [
           3.52
          ],
          [
           2.96
          ],
          [
           0
          ],
          [
           1.04
          ],
          [
           2.98
          ],
          [
           3.25
          ],
          [
           1.41
          ],
          [
           3.28
          ],
          [
           2.81
          ],
          [
           2.91
          ],
          [
           2.98
          ],
          [
           3.15
          ],
          [
           2.8
          ],
          [
           2.98
          ],
          [
           3.16
          ],
          [
           2.54
          ],
          [
           3.3
          ],
          [
           2.9
          ],
          [
           2.84
          ],
          [
           2.29
          ],
          [
           2.96
          ],
          [
           3.19
          ],
          [
           2.93
          ],
          [
           3.03
          ],
          [
           2.87
          ],
          [
           2.02
          ],
          [
           3.42
          ],
          [
           3.29
          ],
          [
           3.26
          ],
          [
           2.98
          ],
          [
           2.94
          ],
          [
           3.48
          ],
          [
           3.01
          ],
          [
           3.08
          ],
          [
           2.73
          ],
          [
           3.16
          ],
          [
           2.78
          ],
          [
           2.8
          ],
          [
           3.17
          ],
          [
           2.84
          ],
          [
           3.29
          ],
          [
           3.23
          ],
          [
           2.84
          ],
          [
           3.18
          ],
          [
           3.47
          ],
          [
           3.25
          ],
          [
           3.34
          ],
          [
           3.26
          ],
          [
           3.24
          ],
          [
           2.89
          ],
          [
           3.39
          ],
          [
           2.97
          ],
          [
           3
          ],
          [
           2.88
          ],
          [
           3.01
          ],
          [
           3.05
          ],
          [
           3.12
          ]
         ],
         "hovertemplate": "<b>%{hovertext}</b><br><br>Cluster=%{marker.color}<br>Điểm trung bình(hệ 10)=%{x}<br>Điểm rèn luyện=%{y}<br>GPA=%{customdata[0]}<extra></extra>",
         "hovertext": [
          "Bùi Khánh Quang",
          "Phan Hữu Quang",
          "Trần Hữu Bình",
          "Hoàng Hải Dương",
          "Lê Hải Phong",
          "Phan Hải Bình",
          "Phạm Minh Quang",
          "Đỗ Văn Khang",
          "Đặng Hải Cường",
          "Vũ Đình Khang",
          "Phạm Văn Quang",
          "Nguyễn Hữu Linh",
          "Bùi Anh Tuấn",
          "Vũ Hữu Dương",
          "Trần Quốc Huy",
          "Phan Đình Cường",
          "Hoàng Đình Dương",
          "Phan Quốc Bình",
          "Lê Quốc Cường",
          "Phạm Khánh Phong",
          "Đặng Anh Tuấn",
          "Phan Minh Anh",
          "Phan Quốc Tuấn",
          "Đặng Khánh Bình",
          "Trần Anh Anh",
          "Nguyễn Hữu Khang",
          "Đỗ Minh Dương",
          "Nguyễn Hải Tuấn",
          "Hoàng Thanh Bình",
          "Trần Hải Dương",
          "Lê Hải Linh",
          "Phạm Quốc Anh",
          "Phan Hải Anh",
          "Bùi Thị Phương",
          "Phạm Minh Dương",
          "Bùi Đình Huy",
          "Phan Hải Cường",
          "Bùi Minh Anh",
          "Phan Hữu Quang",
          "Vũ Hải Anh",
          "Đặng Thị Tuấn",
          "Nguyễn Khánh Phong",
          "Vũ Thanh Dương",
          "Hoàng Anh Huy",
          "Trần Anh Quang",
          "Trần Thanh Huy",
          "Phạm Đình Cường",
          "Lê Đình Bình",
          "Hoàng Văn Phong",
          "Hoàng Quốc Phong",
          "Lê Thị Dương",
          "Nguyễn Thị Quang",
          "Vũ Anh Bình",
          "Nguyễn Đình Linh",
          "Bùi Thanh Cường",
          "Vũ Anh Phong",
          "Phạm Hải Dương",
          "Đỗ Minh Cường",
          "Trần Minh Quang",
          "Lê Đình Khang",
          "Đặng Thị Huy",
          "Phan Thị Anh",
          "Hoàng Hải Cường"
         ],
         "legendgroup": "3",
         "marker": {
          "color": [
           3,
           3,
           3,
           3,
           3,
           3,
           3,
           3,
           3,
           3,
           3,
           3,
           3,
           3,
           3,
           3,
           3,
           3,
           3,
           3,
           3,
           3,
           3,
           3,
           3,
           3,
           3,
           3,
           3,
           3,
           3,
           3,
           3,
           3,
           3,
           3,
           3,
           3,
           3,
           3,
           3,
           3,
           3,
           3,
           3,
           3,
           3,
           3,
           3,
           3,
           3,
           3,
           3,
           3,
           3,
           3,
           3,
           3,
           3,
           3,
           3,
           3,
           3
          ],
          "coloraxis": "coloraxis",
          "symbol": "x"
         },
         "mode": "markers",
         "name": "3",
         "orientation": "v",
         "showlegend": true,
         "type": "scatter",
         "x": [
          7.01,
          7.45,
          9.47,
          8.35,
          7.07,
          7.56,
          9.31,
          7.42,
          0.29,
          4.31,
          7.25,
          8.18,
          4.73,
          7.95,
          7,
          7.45,
          7.74,
          8.31,
          7.65,
          7.46,
          8.39,
          6.74,
          7.9,
          7.33,
          7.08,
          5.81,
          7.37,
          7.85,
          7.78,
          8.2,
          7.49,
          5.95,
          8.06,
          8.2,
          7.9,
          7.43,
          7.3,
          7.93,
          7.9,
          8.24,
          6.76,
          8.16,
          6.86,
          7.63,
          7.85,
          7.31,
          8.36,
          8.28,
          7.25,
          8.28,
          8.2,
          7.98,
          7.9,
          7.96,
          8.07,
          7.69,
          8.37,
          7.21,
          7.95,
          7.12,
          8,
          7.87,
          7.81
         ],
         "xaxis": "x",
         "y": [
          41,
          48,
          41,
          46,
          41,
          46,
          44,
          46,
          44,
          45,
          49,
          41,
          46,
          43,
          41,
          43,
          30,
          48,
          47,
          45,
          20,
          40,
          42,
          41,
          47,
          48,
          49,
          38,
          43,
          43,
          47,
          47,
          41,
          44,
          45,
          48,
          45,
          47,
          40,
          47,
          43,
          45,
          49,
          47,
          31,
          43,
          43,
          45,
          42,
          42,
          42,
          48,
          47,
          44,
          43,
          43,
          47,
          47,
          41,
          44,
          42,
          41,
          47
         ],
         "yaxis": "y"
        },
        {
         "customdata": [
          [
           3.2
          ],
          [
           3.43
          ],
          [
           2.91
          ],
          [
           3.23
          ],
          [
           2.8
          ],
          [
           2.97
          ],
          [
           3.15
          ],
          [
           3.26
          ],
          [
           3.25
          ],
          [
           2.49
          ],
          [
           3.15
          ],
          [
           2.91
          ],
          [
           2.06
          ],
          [
           3.31
          ],
          [
           3.27
          ],
          [
           1.45
          ],
          [
           3.5
          ],
          [
           3.78
          ],
          [
           2.95
          ],
          [
           3.46
          ],
          [
           2.92
          ],
          [
           3.48
          ],
          [
           2.99
          ],
          [
           3.44
          ],
          [
           3.74
          ],
          [
           2.65
          ],
          [
           3.48
          ],
          [
           2.29
          ],
          [
           1.1
          ],
          [
           2.81
          ],
          [
           2.81
          ],
          [
           3.24
          ],
          [
           3.71
          ],
          [
           2.9
          ],
          [
           3.17
          ],
          [
           2.87
          ],
          [
           3.43
          ],
          [
           2.81
          ],
          [
           3.23
          ],
          [
           3.34
          ],
          [
           2.96
          ],
          [
           2.88
          ],
          [
           2.11
          ],
          [
           3.34
          ],
          [
           2.98
          ],
          [
           2.8
          ],
          [
           2.88
          ],
          [
           2.91
          ],
          [
           2.86
          ],
          [
           2.94
          ],
          [
           3.03
          ],
          [
           3.25
          ],
          [
           2.7
          ]
         ],
         "hovertemplate": "<b>%{hovertext}</b><br><br>Cluster=%{marker.color}<br>Điểm trung bình(hệ 10)=%{x}<br>Điểm rèn luyện=%{y}<br>GPA=%{customdata[0]}<extra></extra>",
         "hovertext": [
          "Trần Minh Huy",
          "Bùi Thị Huy",
          "Nguyễn Hải Tuấn",
          "Trần Văn Anh",
          "Hoàng Thị Dương",
          "Hoàng Anh Tuấn",
          "Nguyễn Đình Tuấn",
          "Lê Anh Phong",
          "Lê Thị Cường",
          "Lê Thanh Bình",
          "Đỗ Anh Dương",
          "Đỗ Hữu Linh",
          "Đặng Thanh Huy",
          "Bùi Văn Linh",
          "Đỗ Văn Phong",
          "Vũ Khánh Cường",
          "Vũ Hải Bình",
          "Lê Quốc Dương",
          "Bùi Quốc Khang",
          "Đỗ Đình Linh",
          "Phạm Anh Khang",
          "Hoàng Văn Quang",
          "Lê Thị Anh",
          "Bùi Hải Phong",
          "Trần Anh Dương",
          "Lê Minh Dương",
          "Phan Khánh Quang",
          "Nguyễn Thanh Tuấn",
          "Vũ Quốc Quang",
          "Đặng Thị Cường",
          "Lê Đình Quang",
          "Bùi Đình Anh",
          "Đặng Hải Cường",
          "Nguyễn Minh Linh",
          "Vũ Thanh Dương",
          "Đỗ Anh Phong",
          "Phạm Anh Phong",
          "Nguyễn Thanh Quang",
          "Hoàng Đình Bình",
          "Phạm Hải Huy",
          "Lê Quốc Dương",
          "Bùi Thị Anh",
          "Phạm Thị Phong",
          "Trần Hữu Phong",
          "Nguyễn Thị Anh",
          "Vũ Thanh Linh",
          "Trần Văn Cường",
          "Hoàng Anh Linh",
          "Nguyễn Quốc Huy",
          "Đỗ Anh Tuấn",
          "Đỗ Đình Dương",
          "Hoàng Thị Khang",
          "Phan Thị Huy"
         ],
         "legendgroup": "0",
         "marker": {
          "color": [
           0,
           0,
           0,
           0,
           0,
           0,
           0,
           0,
           0,
           0,
           0,
           0,
           0,
           0,
           0,
           0,
           0,
           0,
           0,
           0,
           0,
           0,
           0,
           0,
           0,
           0,
           0,
           0,
           0,
           0,
           0,
           0,
           0,
           0,
           0,
           0,
           0,
           0,
           0,
           0,
           0,
           0,
           0,
           0,
           0,
           0,
           0,
           0,
           0,
           0,
           0,
           0,
           0
          ],
          "coloraxis": "coloraxis",
          "symbol": "cross"
         },
         "mode": "markers",
         "name": "0",
         "orientation": "v",
         "showlegend": true,
         "type": "scatter",
         "x": [
          8.25,
          8.17,
          7.7,
          8.3,
          7.56,
          7.66,
          7.94,
          8.37,
          8.19,
          5.72,
          8.04,
          7.42,
          5.71,
          7.83,
          8.38,
          4.61,
          9.81,
          8.78,
          7.24,
          7.94,
          7.43,
          7.97,
          7.4,
          7.89,
          9.34,
          6.38,
          8.36,
          5.7,
          4.61,
          7.69,
          7.18,
          8.21,
          8.83,
          7.49,
          8.39,
          7.43,
          7.9,
          7.44,
          8.23,
          8.07,
          7.27,
          7.5,
          5.89,
          7.81,
          7.27,
          7.26,
          7.24,
          7.67,
          7.2,
          7.19,
          7.84,
          8.27,
          6.41
         ],
         "xaxis": "x",
         "y": [
          58,
          51,
          51,
          60,
          51,
          59,
          56,
          56,
          55,
          60,
          57,
          50,
          50,
          51,
          53,
          58,
          58,
          57,
          52,
          56,
          58,
          57,
          59,
          58,
          54,
          56,
          54,
          58,
          56,
          58,
          54,
          57,
          56,
          54,
          59,
          58,
          57,
          59,
          59,
          55,
          55,
          50,
          57,
          56,
          59,
          57,
          53,
          58,
          54,
          56,
          54,
          56,
          55
         ],
         "yaxis": "y"
        },
        {
         "marker": {
          "color": "red",
          "size": 10,
          "symbol": "star"
         },
         "mode": "markers",
         "name": "Centroids",
         "type": "scatter",
         "x": [
          7.55433962264151,
          7.389565217391304,
          7.467203389830509,
          7.486984126984127,
          7.409491525423729
         ],
         "y": [
          55.754716981132084,
          74.80193236714977,
          83.83050847457626,
          43.53968253968253,
          64.8135593220339
         ]
        }
       ],
       "layout": {
        "coloraxis": {
         "colorbar": {
          "title": {
           "text": "Cluster"
          }
         },
         "colorscale": [
          [
           0,
           "#0d0887"
          ],
          [
           0.1111111111111111,
           "#46039f"
          ],
          [
           0.2222222222222222,
           "#7201a8"
          ],
          [
           0.3333333333333333,
           "#9c179e"
          ],
          [
           0.4444444444444444,
           "#bd3786"
          ],
          [
           0.5555555555555556,
           "#d8576b"
          ],
          [
           0.6666666666666666,
           "#ed7953"
          ],
          [
           0.7777777777777778,
           "#fb9f3a"
          ],
          [
           0.8888888888888888,
           "#fdca26"
          ],
          [
           1,
           "#f0f921"
          ]
         ]
        },
        "legend": {
         "font": {
          "color": "black",
          "size": 10
         },
         "title": {
          "text": "Cluster"
         },
         "tracegroupgap": 0,
         "x": 0,
         "y": 0
        },
        "template": {
         "data": {
          "bar": [
           {
            "error_x": {
             "color": "#2a3f5f"
            },
            "error_y": {
             "color": "#2a3f5f"
            },
            "marker": {
             "line": {
              "color": "#E5ECF6",
              "width": 0.5
             },
             "pattern": {
              "fillmode": "overlay",
              "size": 10,
              "solidity": 0.2
             }
            },
            "type": "bar"
           }
          ],
          "barpolar": [
           {
            "marker": {
             "line": {
              "color": "#E5ECF6",
              "width": 0.5
             },
             "pattern": {
              "fillmode": "overlay",
              "size": 10,
              "solidity": 0.2
             }
            },
            "type": "barpolar"
           }
          ],
          "carpet": [
           {
            "aaxis": {
             "endlinecolor": "#2a3f5f",
             "gridcolor": "white",
             "linecolor": "white",
             "minorgridcolor": "white",
             "startlinecolor": "#2a3f5f"
            },
            "baxis": {
             "endlinecolor": "#2a3f5f",
             "gridcolor": "white",
             "linecolor": "white",
             "minorgridcolor": "white",
             "startlinecolor": "#2a3f5f"
            },
            "type": "carpet"
           }
          ],
          "choropleth": [
           {
            "colorbar": {
             "outlinewidth": 0,
             "ticks": ""
            },
            "type": "choropleth"
           }
          ],
          "contour": [
           {
            "colorbar": {
             "outlinewidth": 0,
             "ticks": ""
            },
            "colorscale": [
             [
              0,
              "#0d0887"
             ],
             [
              0.1111111111111111,
              "#46039f"
             ],
             [
              0.2222222222222222,
              "#7201a8"
             ],
             [
              0.3333333333333333,
              "#9c179e"
             ],
             [
              0.4444444444444444,
              "#bd3786"
             ],
             [
              0.5555555555555556,
              "#d8576b"
             ],
             [
              0.6666666666666666,
              "#ed7953"
             ],
             [
              0.7777777777777778,
              "#fb9f3a"
             ],
             [
              0.8888888888888888,
              "#fdca26"
             ],
             [
              1,
              "#f0f921"
             ]
            ],
            "type": "contour"
           }
          ],
          "contourcarpet": [
           {
            "colorbar": {
             "outlinewidth": 0,
             "ticks": ""
            },
            "type": "contourcarpet"
           }
          ],
          "heatmap": [
           {
            "colorbar": {
             "outlinewidth": 0,
             "ticks": ""
            },
            "colorscale": [
             [
              0,
              "#0d0887"
             ],
             [
              0.1111111111111111,
              "#46039f"
             ],
             [
              0.2222222222222222,
              "#7201a8"
             ],
             [
              0.3333333333333333,
              "#9c179e"
             ],
             [
              0.4444444444444444,
              "#bd3786"
             ],
             [
              0.5555555555555556,
              "#d8576b"
             ],
             [
              0.6666666666666666,
              "#ed7953"
             ],
             [
              0.7777777777777778,
              "#fb9f3a"
             ],
             [
              0.8888888888888888,
              "#fdca26"
             ],
             [
              1,
              "#f0f921"
             ]
            ],
            "type": "heatmap"
           }
          ],
          "heatmapgl": [
           {
            "colorbar": {
             "outlinewidth": 0,
             "ticks": ""
            },
            "colorscale": [
             [
              0,
              "#0d0887"
             ],
             [
              0.1111111111111111,
              "#46039f"
             ],
             [
              0.2222222222222222,
              "#7201a8"
             ],
             [
              0.3333333333333333,
              "#9c179e"
             ],
             [
              0.4444444444444444,
              "#bd3786"
             ],
             [
              0.5555555555555556,
              "#d8576b"
             ],
             [
              0.6666666666666666,
              "#ed7953"
             ],
             [
              0.7777777777777778,
              "#fb9f3a"
             ],
             [
              0.8888888888888888,
              "#fdca26"
             ],
             [
              1,
              "#f0f921"
             ]
            ],
            "type": "heatmapgl"
           }
          ],
          "histogram": [
           {
            "marker": {
             "pattern": {
              "fillmode": "overlay",
              "size": 10,
              "solidity": 0.2
             }
            },
            "type": "histogram"
           }
          ],
          "histogram2d": [
           {
            "colorbar": {
             "outlinewidth": 0,
             "ticks": ""
            },
            "colorscale": [
             [
              0,
              "#0d0887"
             ],
             [
              0.1111111111111111,
              "#46039f"
             ],
             [
              0.2222222222222222,
              "#7201a8"
             ],
             [
              0.3333333333333333,
              "#9c179e"
             ],
             [
              0.4444444444444444,
              "#bd3786"
             ],
             [
              0.5555555555555556,
              "#d8576b"
             ],
             [
              0.6666666666666666,
              "#ed7953"
             ],
             [
              0.7777777777777778,
              "#fb9f3a"
             ],
             [
              0.8888888888888888,
              "#fdca26"
             ],
             [
              1,
              "#f0f921"
             ]
            ],
            "type": "histogram2d"
           }
          ],
          "histogram2dcontour": [
           {
            "colorbar": {
             "outlinewidth": 0,
             "ticks": ""
            },
            "colorscale": [
             [
              0,
              "#0d0887"
             ],
             [
              0.1111111111111111,
              "#46039f"
             ],
             [
              0.2222222222222222,
              "#7201a8"
             ],
             [
              0.3333333333333333,
              "#9c179e"
             ],
             [
              0.4444444444444444,
              "#bd3786"
             ],
             [
              0.5555555555555556,
              "#d8576b"
             ],
             [
              0.6666666666666666,
              "#ed7953"
             ],
             [
              0.7777777777777778,
              "#fb9f3a"
             ],
             [
              0.8888888888888888,
              "#fdca26"
             ],
             [
              1,
              "#f0f921"
             ]
            ],
            "type": "histogram2dcontour"
           }
          ],
          "mesh3d": [
           {
            "colorbar": {
             "outlinewidth": 0,
             "ticks": ""
            },
            "type": "mesh3d"
           }
          ],
          "parcoords": [
           {
            "line": {
             "colorbar": {
              "outlinewidth": 0,
              "ticks": ""
             }
            },
            "type": "parcoords"
           }
          ],
          "pie": [
           {
            "automargin": true,
            "type": "pie"
           }
          ],
          "scatter": [
           {
            "fillpattern": {
             "fillmode": "overlay",
             "size": 10,
             "solidity": 0.2
            },
            "type": "scatter"
           }
          ],
          "scatter3d": [
           {
            "line": {
             "colorbar": {
              "outlinewidth": 0,
              "ticks": ""
             }
            },
            "marker": {
             "colorbar": {
              "outlinewidth": 0,
              "ticks": ""
             }
            },
            "type": "scatter3d"
           }
          ],
          "scattercarpet": [
           {
            "marker": {
             "colorbar": {
              "outlinewidth": 0,
              "ticks": ""
             }
            },
            "type": "scattercarpet"
           }
          ],
          "scattergeo": [
           {
            "marker": {
             "colorbar": {
              "outlinewidth": 0,
              "ticks": ""
             }
            },
            "type": "scattergeo"
           }
          ],
          "scattergl": [
           {
            "marker": {
             "colorbar": {
              "outlinewidth": 0,
              "ticks": ""
             }
            },
            "type": "scattergl"
           }
          ],
          "scattermapbox": [
           {
            "marker": {
             "colorbar": {
              "outlinewidth": 0,
              "ticks": ""
             }
            },
            "type": "scattermapbox"
           }
          ],
          "scatterpolar": [
           {
            "marker": {
             "colorbar": {
              "outlinewidth": 0,
              "ticks": ""
             }
            },
            "type": "scatterpolar"
           }
          ],
          "scatterpolargl": [
           {
            "marker": {
             "colorbar": {
              "outlinewidth": 0,
              "ticks": ""
             }
            },
            "type": "scatterpolargl"
           }
          ],
          "scatterternary": [
           {
            "marker": {
             "colorbar": {
              "outlinewidth": 0,
              "ticks": ""
             }
            },
            "type": "scatterternary"
           }
          ],
          "surface": [
           {
            "colorbar": {
             "outlinewidth": 0,
             "ticks": ""
            },
            "colorscale": [
             [
              0,
              "#0d0887"
             ],
             [
              0.1111111111111111,
              "#46039f"
             ],
             [
              0.2222222222222222,
              "#7201a8"
             ],
             [
              0.3333333333333333,
              "#9c179e"
             ],
             [
              0.4444444444444444,
              "#bd3786"
             ],
             [
              0.5555555555555556,
              "#d8576b"
             ],
             [
              0.6666666666666666,
              "#ed7953"
             ],
             [
              0.7777777777777778,
              "#fb9f3a"
             ],
             [
              0.8888888888888888,
              "#fdca26"
             ],
             [
              1,
              "#f0f921"
             ]
            ],
            "type": "surface"
           }
          ],
          "table": [
           {
            "cells": {
             "fill": {
              "color": "#EBF0F8"
             },
             "line": {
              "color": "white"
             }
            },
            "header": {
             "fill": {
              "color": "#C8D4E3"
             },
             "line": {
              "color": "white"
             }
            },
            "type": "table"
           }
          ]
         },
         "layout": {
          "annotationdefaults": {
           "arrowcolor": "#2a3f5f",
           "arrowhead": 0,
           "arrowwidth": 1
          },
          "autotypenumbers": "strict",
          "coloraxis": {
           "colorbar": {
            "outlinewidth": 0,
            "ticks": ""
           }
          },
          "colorscale": {
           "diverging": [
            [
             0,
             "#8e0152"
            ],
            [
             0.1,
             "#c51b7d"
            ],
            [
             0.2,
             "#de77ae"
            ],
            [
             0.3,
             "#f1b6da"
            ],
            [
             0.4,
             "#fde0ef"
            ],
            [
             0.5,
             "#f7f7f7"
            ],
            [
             0.6,
             "#e6f5d0"
            ],
            [
             0.7,
             "#b8e186"
            ],
            [
             0.8,
             "#7fbc41"
            ],
            [
             0.9,
             "#4d9221"
            ],
            [
             1,
             "#276419"
            ]
           ],
           "sequential": [
            [
             0,
             "#0d0887"
            ],
            [
             0.1111111111111111,
             "#46039f"
            ],
            [
             0.2222222222222222,
             "#7201a8"
            ],
            [
             0.3333333333333333,
             "#9c179e"
            ],
            [
             0.4444444444444444,
             "#bd3786"
            ],
            [
             0.5555555555555556,
             "#d8576b"
            ],
            [
             0.6666666666666666,
             "#ed7953"
            ],
            [
             0.7777777777777778,
             "#fb9f3a"
            ],
            [
             0.8888888888888888,
             "#fdca26"
            ],
            [
             1,
             "#f0f921"
            ]
           ],
           "sequentialminus": [
            [
             0,
             "#0d0887"
            ],
            [
             0.1111111111111111,
             "#46039f"
            ],
            [
             0.2222222222222222,
             "#7201a8"
            ],
            [
             0.3333333333333333,
             "#9c179e"
            ],
            [
             0.4444444444444444,
             "#bd3786"
            ],
            [
             0.5555555555555556,
             "#d8576b"
            ],
            [
             0.6666666666666666,
             "#ed7953"
            ],
            [
             0.7777777777777778,
             "#fb9f3a"
            ],
            [
             0.8888888888888888,
             "#fdca26"
            ],
            [
             1,
             "#f0f921"
            ]
           ]
          },
          "colorway": [
           "#636efa",
           "#EF553B",
           "#00cc96",
           "#ab63fa",
           "#FFA15A",
           "#19d3f3",
           "#FF6692",
           "#B6E880",
           "#FF97FF",
           "#FECB52"
          ],
          "font": {
           "color": "#2a3f5f"
          },
          "geo": {
           "bgcolor": "white",
           "lakecolor": "white",
           "landcolor": "#E5ECF6",
           "showlakes": true,
           "showland": true,
           "subunitcolor": "white"
          },
          "hoverlabel": {
           "align": "left"
          },
          "hovermode": "closest",
          "mapbox": {
           "style": "light"
          },
          "paper_bgcolor": "white",
          "plot_bgcolor": "#E5ECF6",
          "polar": {
           "angularaxis": {
            "gridcolor": "white",
            "linecolor": "white",
            "ticks": ""
           },
           "bgcolor": "#E5ECF6",
           "radialaxis": {
            "gridcolor": "white",
            "linecolor": "white",
            "ticks": ""
           }
          },
          "scene": {
           "xaxis": {
            "backgroundcolor": "#E5ECF6",
            "gridcolor": "white",
            "gridwidth": 2,
            "linecolor": "white",
            "showbackground": true,
            "ticks": "",
            "zerolinecolor": "white"
           },
           "yaxis": {
            "backgroundcolor": "#E5ECF6",
            "gridcolor": "white",
            "gridwidth": 2,
            "linecolor": "white",
            "showbackground": true,
            "ticks": "",
            "zerolinecolor": "white"
           },
           "zaxis": {
            "backgroundcolor": "#E5ECF6",
            "gridcolor": "white",
            "gridwidth": 2,
            "linecolor": "white",
            "showbackground": true,
            "ticks": "",
            "zerolinecolor": "white"
           }
          },
          "shapedefaults": {
           "line": {
            "color": "#2a3f5f"
           }
          },
          "ternary": {
           "aaxis": {
            "gridcolor": "white",
            "linecolor": "white",
            "ticks": ""
           },
           "baxis": {
            "gridcolor": "white",
            "linecolor": "white",
            "ticks": ""
           },
           "bgcolor": "#E5ECF6",
           "caxis": {
            "gridcolor": "white",
            "linecolor": "white",
            "ticks": ""
           }
          },
          "title": {
           "x": 0.05
          },
          "xaxis": {
           "automargin": true,
           "gridcolor": "white",
           "linecolor": "white",
           "ticks": "",
           "title": {
            "standoff": 15
           },
           "zerolinecolor": "white",
           "zerolinewidth": 2
          },
          "yaxis": {
           "automargin": true,
           "gridcolor": "white",
           "linecolor": "white",
           "ticks": "",
           "title": {
            "standoff": 15
           },
           "zerolinecolor": "white",
           "zerolinewidth": 2
          }
         }
        },
        "title": {
         "text": "Phân cụm K-Means của kết quả học tập"
        },
        "xaxis": {
         "anchor": "y",
         "domain": [
          0,
          1
         ],
         "title": {
          "text": "Điểm trung bình(hệ 10)"
         }
        },
        "yaxis": {
         "anchor": "x",
         "domain": [
          0,
          1
         ],
         "title": {
          "text": "Điểm rèn luyện"
         }
        }
       }
      }
     },
     "metadata": {},
     "output_type": "display_data"
    }
   ],
   "source": [
    "kmeans = KMeans(n_clusters=5, random_state=0)\n",
    "y_kmeans = kmeans.fit_predict(X)\n",
    "\n",
    "centers = kmeans.cluster_centers_\n",
    "print(centers)\n",
    "\n",
    "# Gắn kết quả phân cụm vào dataframe\n",
    "data['Cluster'] = y_kmeans  \n",
    "\n",
    "# Tính toán tọa độ của các trung tâm cụm\n",
    "centers = pd.DataFrame(kmeans.cluster_centers_, columns=['Điểm trung bình(hệ 10)','Điểm rèn luyện'])\n",
    "centers['Cluster'] = range(len(centers))  # Thêm cột Cluster để tương ứng với số cụm\n",
    "\n",
    "# Vẽ biểu đồ tương tác với Plotly\n",
    "fig = px.scatter(\n",
    "    data,\n",
    "    x='Điểm trung bình(hệ 10)',\n",
    "    y='Điểm rèn luyện',\n",
    "    color='Cluster',\n",
    "    symbol ='Cluster',\n",
    "    hover_name='Tên ',  # Hiển thị tên sinh viên khi trỏ chuột\n",
    "    hover_data=['Điểm trung bình(hệ 10)', 'GPA'],  # Hiển thị thêm điểm\n",
    "    title=\"Phân cụm K-Means của kết quả học tập\"\n",
    ")\n",
    "\n",
    "# Thêm các điểm trung tâm vào biểu đồ\n",
    "fig.add_scatter(\n",
    "    x=centers['Điểm trung bình(hệ 10)'],\n",
    "    y=centers['Điểm rèn luyện'],\n",
    "    mode='markers',\n",
    "    marker=dict(size=10, color='red', symbol='star'),\n",
    "    name='Centroids'  # Tên hiển thị cho điểm trung tâm\n",
    ")\n",
    "\n",
    "fig.update_layout(\n",
    "    legend=dict(\n",
    "        x=0, y=0,  \n",
    "        font=dict(size=10, color=\"black\")\n",
    "    ),\n",
    ") \n",
    "# Hiển thị biểu đồ\n",
    "fig.show()"
   ]
  },
  {
   "cell_type": "markdown",
   "metadata": {},
   "source": [
    "### Elbow"
   ]
  },
  {
   "cell_type": "code",
   "execution_count": 32,
   "metadata": {},
   "outputs": [
    {
     "name": "stdout",
     "output_type": "stream",
     "text": [
      "[90879.08909980001, 25218.77896443387, 14900.309440387406, 8777.448390608166, 7102.297015097439, 4368.002622711736]\n"
     ]
    },
    {
     "data": {
      "image/png": "[encoded data removed]",
      "text/plain": [
       "<Figure size 640x480 with 1 Axes>"
      ]
     },
     "metadata": {},
     "output_type": "display_data"
    }
   ],
   "source": [
    "# Chạy KMeans với nhiều giá trị k khác nhau\n",
    "inertia = []\n",
    "k_values = range(1, 7)\n",
    "\n",
    "for k in k_values:\n",
    "    kmeans = KMeans(n_clusters=k, random_state=0)\n",
    "    kmeans.fit(X)\n",
    "    inertia.append(kmeans.inertia_)  # Lưu giá trị inertia\n",
    "\n",
    "print(inertia)\n",
    "\n",
    "# Vẽ đồ thị Elbow\n",
    "plt.plot(k_values, inertia, 'bo-')\n",
    "plt.xlabel('Number of clusters (k)')\n",
    "plt.ylabel('Inertia')\n",
    "plt.title('Elbow Method for Optimal k')\n",
    "plt.show()"
   ]
  }
 ],
 "metadata": {
  "kernelspec": {
   "display_name": "Python 3",
   "language": "python",
   "name": "python3"
  },
  "language_info": {
   "codemirror_mode": {
    "name": "ipython",
    "version": 3
   },
   "file_extension": ".py",
   "mimetype": "text/x-python",
   "name": "python",
   "nbconvert_exporter": "python",
   "pygments_lexer": "ipython3",
   "version": "3.9.13"
  }
 },
 "nbformat": 4,
 "nbformat_minor": 2
}
